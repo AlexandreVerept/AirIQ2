{
 "cells": [
  {
   "cell_type": "markdown",
   "metadata": {},
   "source": [
    "# Cleaning of the synop dataset\n",
    "\n",
    "It can be found here:\n",
    "https://donneespubliques.meteofrance.fr/?fond=produit&id_produit=90&id_rubrique=32\n",
    "\n",
    "### Import data:"
   ]
  },
  {
   "cell_type": "code",
   "execution_count": 1,
   "metadata": {},
   "outputs": [
    {
     "data": {
      "text/html": [
       "<div>\n",
       "<style scoped>\n",
       "    .dataframe tbody tr th:only-of-type {\n",
       "        vertical-align: middle;\n",
       "    }\n",
       "\n",
       "    .dataframe tbody tr th {\n",
       "        vertical-align: top;\n",
       "    }\n",
       "\n",
       "    .dataframe thead th {\n",
       "        text-align: right;\n",
       "    }\n",
       "</style>\n",
       "<table border=\"1\" class=\"dataframe\">\n",
       "  <thead>\n",
       "    <tr style=\"text-align: right;\">\n",
       "      <th></th>\n",
       "      <th>numer_sta</th>\n",
       "      <th>date</th>\n",
       "      <th>pmer</th>\n",
       "      <th>tend</th>\n",
       "      <th>cod_tend</th>\n",
       "      <th>dd</th>\n",
       "      <th>ff</th>\n",
       "      <th>t</th>\n",
       "      <th>td</th>\n",
       "      <th>u</th>\n",
       "      <th>...</th>\n",
       "      <th>nnuage2</th>\n",
       "      <th>ctype2</th>\n",
       "      <th>hnuage2</th>\n",
       "      <th>nnuage3</th>\n",
       "      <th>ctype3</th>\n",
       "      <th>hnuage3</th>\n",
       "      <th>nnuage4</th>\n",
       "      <th>ctype4</th>\n",
       "      <th>hnuage4</th>\n",
       "      <th>Unnamed: 59</th>\n",
       "    </tr>\n",
       "  </thead>\n",
       "  <tbody>\n",
       "    <tr>\n",
       "      <th>0</th>\n",
       "      <td>7005</td>\n",
       "      <td>20200320090000</td>\n",
       "      <td>102520</td>\n",
       "      <td>130</td>\n",
       "      <td>1</td>\n",
       "      <td>50</td>\n",
       "      <td>6.400000</td>\n",
       "      <td>281.450000</td>\n",
       "      <td>279.050000</td>\n",
       "      <td>85</td>\n",
       "      <td>...</td>\n",
       "      <td>mq</td>\n",
       "      <td>mq</td>\n",
       "      <td>mq</td>\n",
       "      <td>mq</td>\n",
       "      <td>mq</td>\n",
       "      <td>mq</td>\n",
       "      <td>mq</td>\n",
       "      <td>mq</td>\n",
       "      <td>mq</td>\n",
       "      <td>NaN</td>\n",
       "    </tr>\n",
       "    <tr>\n",
       "      <th>1</th>\n",
       "      <td>7015</td>\n",
       "      <td>20200320090000</td>\n",
       "      <td>102570</td>\n",
       "      <td>120</td>\n",
       "      <td>1</td>\n",
       "      <td>40</td>\n",
       "      <td>5.700000</td>\n",
       "      <td>281.050000</td>\n",
       "      <td>278.150000</td>\n",
       "      <td>82</td>\n",
       "      <td>...</td>\n",
       "      <td>mq</td>\n",
       "      <td>mq</td>\n",
       "      <td>mq</td>\n",
       "      <td>mq</td>\n",
       "      <td>mq</td>\n",
       "      <td>mq</td>\n",
       "      <td>mq</td>\n",
       "      <td>mq</td>\n",
       "      <td>mq</td>\n",
       "      <td>NaN</td>\n",
       "    </tr>\n",
       "    <tr>\n",
       "      <th>2</th>\n",
       "      <td>7020</td>\n",
       "      <td>20200320090000</td>\n",
       "      <td>102380</td>\n",
       "      <td>50</td>\n",
       "      <td>1</td>\n",
       "      <td>60</td>\n",
       "      <td>14.500000</td>\n",
       "      <td>281.850000</td>\n",
       "      <td>280.250000</td>\n",
       "      <td>90</td>\n",
       "      <td>...</td>\n",
       "      <td>mq</td>\n",
       "      <td>mq</td>\n",
       "      <td>mq</td>\n",
       "      <td>mq</td>\n",
       "      <td>mq</td>\n",
       "      <td>mq</td>\n",
       "      <td>mq</td>\n",
       "      <td>mq</td>\n",
       "      <td>mq</td>\n",
       "      <td>NaN</td>\n",
       "    </tr>\n",
       "    <tr>\n",
       "      <th>3</th>\n",
       "      <td>7027</td>\n",
       "      <td>20200320090000</td>\n",
       "      <td>102310</td>\n",
       "      <td>60</td>\n",
       "      <td>3</td>\n",
       "      <td>60</td>\n",
       "      <td>4.700000</td>\n",
       "      <td>282.250000</td>\n",
       "      <td>281.750000</td>\n",
       "      <td>97</td>\n",
       "      <td>...</td>\n",
       "      <td>mq</td>\n",
       "      <td>mq</td>\n",
       "      <td>mq</td>\n",
       "      <td>mq</td>\n",
       "      <td>mq</td>\n",
       "      <td>mq</td>\n",
       "      <td>mq</td>\n",
       "      <td>mq</td>\n",
       "      <td>mq</td>\n",
       "      <td>NaN</td>\n",
       "    </tr>\n",
       "    <tr>\n",
       "      <th>4</th>\n",
       "      <td>7037</td>\n",
       "      <td>20200320090000</td>\n",
       "      <td>102330</td>\n",
       "      <td>70</td>\n",
       "      <td>2</td>\n",
       "      <td>50</td>\n",
       "      <td>6.300000</td>\n",
       "      <td>282.650000</td>\n",
       "      <td>282.050000</td>\n",
       "      <td>96</td>\n",
       "      <td>...</td>\n",
       "      <td>mq</td>\n",
       "      <td>8</td>\n",
       "      <td>mq</td>\n",
       "      <td>mq</td>\n",
       "      <td>mq</td>\n",
       "      <td>mq</td>\n",
       "      <td>mq</td>\n",
       "      <td>mq</td>\n",
       "      <td>mq</td>\n",
       "      <td>NaN</td>\n",
       "    </tr>\n",
       "  </tbody>\n",
       "</table>\n",
       "<p>5 rows × 60 columns</p>\n",
       "</div>"
      ],
      "text/plain": [
       "   numer_sta            date    pmer tend cod_tend  dd         ff           t  \\\n",
       "0       7005  20200320090000  102520  130        1  50   6.400000  281.450000   \n",
       "1       7015  20200320090000  102570  120        1  40   5.700000  281.050000   \n",
       "2       7020  20200320090000  102380   50        1  60  14.500000  281.850000   \n",
       "3       7027  20200320090000  102310   60        3  60   4.700000  282.250000   \n",
       "4       7037  20200320090000  102330   70        2  50   6.300000  282.650000   \n",
       "\n",
       "           td   u  ... nnuage2 ctype2 hnuage2 nnuage3 ctype3 hnuage3 nnuage4  \\\n",
       "0  279.050000  85  ...      mq     mq      mq      mq     mq      mq      mq   \n",
       "1  278.150000  82  ...      mq     mq      mq      mq     mq      mq      mq   \n",
       "2  280.250000  90  ...      mq     mq      mq      mq     mq      mq      mq   \n",
       "3  281.750000  97  ...      mq     mq      mq      mq     mq      mq      mq   \n",
       "4  282.050000  96  ...      mq      8      mq      mq     mq      mq      mq   \n",
       "\n",
       "  ctype4 hnuage4 Unnamed: 59  \n",
       "0     mq      mq         NaN  \n",
       "1     mq      mq         NaN  \n",
       "2     mq      mq         NaN  \n",
       "3     mq      mq         NaN  \n",
       "4     mq      mq         NaN  \n",
       "\n",
       "[5 rows x 60 columns]"
      ]
     },
     "execution_count": 1,
     "metadata": {},
     "output_type": "execute_result"
    }
   ],
   "source": [
    "import pandas as pd\n",
    "\n",
    "df = pd.read_csv(\"dataset/synop.2020032009.csv\",delimiter=\";\")\n",
    "df.head()"
   ]
  },
  {
   "cell_type": "markdown",
   "metadata": {},
   "source": [
    "Here is the description of the dataset:\n",
    "![id station](pictures/doc_parametres_synop_168-1.jpg)\n",
    "And the id station of Lille\n",
    "![dataset description](pictures/idstation.png)"
   ]
  },
  {
   "cell_type": "code",
   "execution_count": 2,
   "metadata": {},
   "outputs": [
    {
     "data": {
      "text/html": [
       "<div>\n",
       "<style scoped>\n",
       "    .dataframe tbody tr th:only-of-type {\n",
       "        vertical-align: middle;\n",
       "    }\n",
       "\n",
       "    .dataframe tbody tr th {\n",
       "        vertical-align: top;\n",
       "    }\n",
       "\n",
       "    .dataframe thead th {\n",
       "        text-align: right;\n",
       "    }\n",
       "</style>\n",
       "<table border=\"1\" class=\"dataframe\">\n",
       "  <thead>\n",
       "    <tr style=\"text-align: right;\">\n",
       "      <th></th>\n",
       "      <th>numer_sta</th>\n",
       "      <th>date</th>\n",
       "      <th>pmer</th>\n",
       "      <th>tend</th>\n",
       "      <th>cod_tend</th>\n",
       "      <th>dd</th>\n",
       "      <th>ff</th>\n",
       "      <th>t</th>\n",
       "      <th>td</th>\n",
       "      <th>u</th>\n",
       "      <th>...</th>\n",
       "      <th>nnuage2</th>\n",
       "      <th>ctype2</th>\n",
       "      <th>hnuage2</th>\n",
       "      <th>nnuage3</th>\n",
       "      <th>ctype3</th>\n",
       "      <th>hnuage3</th>\n",
       "      <th>nnuage4</th>\n",
       "      <th>ctype4</th>\n",
       "      <th>hnuage4</th>\n",
       "      <th>Unnamed: 59</th>\n",
       "    </tr>\n",
       "  </thead>\n",
       "  <tbody>\n",
       "    <tr>\n",
       "      <th>1</th>\n",
       "      <td>7015</td>\n",
       "      <td>20200320090000</td>\n",
       "      <td>102570</td>\n",
       "      <td>120</td>\n",
       "      <td>1</td>\n",
       "      <td>40</td>\n",
       "      <td>5.700000</td>\n",
       "      <td>281.050000</td>\n",
       "      <td>278.150000</td>\n",
       "      <td>82</td>\n",
       "      <td>...</td>\n",
       "      <td>mq</td>\n",
       "      <td>mq</td>\n",
       "      <td>mq</td>\n",
       "      <td>mq</td>\n",
       "      <td>mq</td>\n",
       "      <td>mq</td>\n",
       "      <td>mq</td>\n",
       "      <td>mq</td>\n",
       "      <td>mq</td>\n",
       "      <td>NaN</td>\n",
       "    </tr>\n",
       "  </tbody>\n",
       "</table>\n",
       "<p>1 rows × 60 columns</p>\n",
       "</div>"
      ],
      "text/plain": [
       "   numer_sta            date    pmer tend cod_tend  dd        ff           t  \\\n",
       "1       7015  20200320090000  102570  120        1  40  5.700000  281.050000   \n",
       "\n",
       "           td   u  ... nnuage2 ctype2 hnuage2 nnuage3 ctype3 hnuage3 nnuage4  \\\n",
       "1  278.150000  82  ...      mq     mq      mq      mq     mq      mq      mq   \n",
       "\n",
       "  ctype4 hnuage4 Unnamed: 59  \n",
       "1     mq      mq         NaN  \n",
       "\n",
       "[1 rows x 60 columns]"
      ]
     },
     "execution_count": 2,
     "metadata": {},
     "output_type": "execute_result"
    }
   ],
   "source": [
    "df = df[df[\"numer_sta\"] == 7015]\n",
    "df.head()"
   ]
  },
  {
   "cell_type": "markdown",
   "metadata": {},
   "source": [
    "### Selecting features:"
   ]
  },
  {
   "cell_type": "code",
   "execution_count": 3,
   "metadata": {},
   "outputs": [
    {
     "data": {
      "text/html": [
       "<div>\n",
       "<style scoped>\n",
       "    .dataframe tbody tr th:only-of-type {\n",
       "        vertical-align: middle;\n",
       "    }\n",
       "\n",
       "    .dataframe tbody tr th {\n",
       "        vertical-align: top;\n",
       "    }\n",
       "\n",
       "    .dataframe thead th {\n",
       "        text-align: right;\n",
       "    }\n",
       "</style>\n",
       "<table border=\"1\" class=\"dataframe\">\n",
       "  <thead>\n",
       "    <tr style=\"text-align: right;\">\n",
       "      <th></th>\n",
       "      <th>date</th>\n",
       "      <th>pres</th>\n",
       "      <th>dd</th>\n",
       "      <th>ff</th>\n",
       "    </tr>\n",
       "  </thead>\n",
       "  <tbody>\n",
       "    <tr>\n",
       "      <th>1</th>\n",
       "      <td>20200320090000</td>\n",
       "      <td>101990</td>\n",
       "      <td>40</td>\n",
       "      <td>5.700000</td>\n",
       "    </tr>\n",
       "  </tbody>\n",
       "</table>\n",
       "</div>"
      ],
      "text/plain": [
       "             date    pres  dd        ff\n",
       "1  20200320090000  101990  40  5.700000"
      ]
     },
     "execution_count": 3,
     "metadata": {},
     "output_type": "execute_result"
    }
   ],
   "source": [
    "interestingFeatures = [\"date\",\"pres\",\"dd\",\"ff\"]\n",
    "df = df[interestingFeatures]\n",
    "df.head()"
   ]
  },
  {
   "cell_type": "code",
   "execution_count": 4,
   "metadata": {},
   "outputs": [
    {
     "data": {
      "text/html": [
       "<div>\n",
       "<style scoped>\n",
       "    .dataframe tbody tr th:only-of-type {\n",
       "        vertical-align: middle;\n",
       "    }\n",
       "\n",
       "    .dataframe tbody tr th {\n",
       "        vertical-align: top;\n",
       "    }\n",
       "\n",
       "    .dataframe thead th {\n",
       "        text-align: right;\n",
       "    }\n",
       "</style>\n",
       "<table border=\"1\" class=\"dataframe\">\n",
       "  <thead>\n",
       "    <tr style=\"text-align: right;\">\n",
       "      <th></th>\n",
       "      <th>date</th>\n",
       "      <th>pressure</th>\n",
       "      <th>wind_direction</th>\n",
       "      <th>wind_force</th>\n",
       "    </tr>\n",
       "  </thead>\n",
       "  <tbody>\n",
       "    <tr>\n",
       "      <th>1</th>\n",
       "      <td>20200320090000</td>\n",
       "      <td>101990</td>\n",
       "      <td>40</td>\n",
       "      <td>5.700000</td>\n",
       "    </tr>\n",
       "  </tbody>\n",
       "</table>\n",
       "</div>"
      ],
      "text/plain": [
       "             date pressure wind_direction wind_force\n",
       "1  20200320090000   101990             40   5.700000"
      ]
     },
     "execution_count": 4,
     "metadata": {},
     "output_type": "execute_result"
    }
   ],
   "source": [
    "df.columns = [\"date\", \"pressure\",\"wind_direction\",\"wind_force\"]\n",
    "df.head()"
   ]
  },
  {
   "cell_type": "markdown",
   "metadata": {},
   "source": [
    "### Cleaning the types of data:"
   ]
  },
  {
   "cell_type": "code",
   "execution_count": 5,
   "metadata": {},
   "outputs": [
    {
     "data": {
      "text/plain": [
       "date               int64\n",
       "pressure          object\n",
       "wind_direction    object\n",
       "wind_force        object\n",
       "dtype: object"
      ]
     },
     "execution_count": 5,
     "metadata": {},
     "output_type": "execute_result"
    }
   ],
   "source": [
    "df.dtypes"
   ]
  },
  {
   "cell_type": "code",
   "execution_count": 6,
   "metadata": {},
   "outputs": [
    {
     "data": {
      "text/plain": [
       "date                int64\n",
       "pressure            int32\n",
       "wind_direction      int32\n",
       "wind_force        float64\n",
       "dtype: object"
      ]
     },
     "execution_count": 6,
     "metadata": {},
     "output_type": "execute_result"
    }
   ],
   "source": [
    "df[\"pressure\"] = df[\"pressure\"].astype(int)\n",
    "df[\"wind_direction\"] = df[\"wind_direction\"].astype(int)\n",
    "df[\"wind_force\"] = df[\"wind_force\"].astype(float)\n",
    "df.dtypes"
   ]
  },
  {
   "cell_type": "code",
   "execution_count": 7,
   "metadata": {},
   "outputs": [
    {
     "data": {
      "text/html": [
       "<div>\n",
       "<style scoped>\n",
       "    .dataframe tbody tr th:only-of-type {\n",
       "        vertical-align: middle;\n",
       "    }\n",
       "\n",
       "    .dataframe tbody tr th {\n",
       "        vertical-align: top;\n",
       "    }\n",
       "\n",
       "    .dataframe thead th {\n",
       "        text-align: right;\n",
       "    }\n",
       "</style>\n",
       "<table border=\"1\" class=\"dataframe\">\n",
       "  <thead>\n",
       "    <tr style=\"text-align: right;\">\n",
       "      <th></th>\n",
       "      <th>date</th>\n",
       "      <th>pressure</th>\n",
       "      <th>wind_direction</th>\n",
       "      <th>wind_force</th>\n",
       "    </tr>\n",
       "  </thead>\n",
       "  <tbody>\n",
       "    <tr>\n",
       "      <th>1</th>\n",
       "      <td>2020-03-20</td>\n",
       "      <td>101990</td>\n",
       "      <td>40</td>\n",
       "      <td>5.7</td>\n",
       "    </tr>\n",
       "  </tbody>\n",
       "</table>\n",
       "</div>"
      ],
      "text/plain": [
       "         date  pressure  wind_direction  wind_force\n",
       "1  2020-03-20    101990              40         5.7"
      ]
     },
     "execution_count": 7,
     "metadata": {},
     "output_type": "execute_result"
    }
   ],
   "source": [
    "df[\"date\"] = pd.to_datetime(df[\"date\"].astype(str), format='%Y%m%d%H%M%S').astype(str).apply(lambda x: x[0:10])\n",
    "df.head()"
   ]
  },
  {
   "cell_type": "code",
   "execution_count": null,
   "metadata": {},
   "outputs": [],
   "source": []
  }
 ],
 "metadata": {
  "kernelspec": {
   "display_name": "Python 3",
   "language": "python",
   "name": "python3"
  },
  "language_info": {
   "codemirror_mode": {
    "name": "ipython",
    "version": 3
   },
   "file_extension": ".py",
   "mimetype": "text/x-python",
   "name": "python",
   "nbconvert_exporter": "python",
   "pygments_lexer": "ipython3",
   "version": "3.7.5"
  }
 },
 "nbformat": 4,
 "nbformat_minor": 2
}
