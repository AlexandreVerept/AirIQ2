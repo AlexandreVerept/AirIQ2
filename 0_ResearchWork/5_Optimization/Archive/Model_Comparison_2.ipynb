{
  "nbformat": 4,
  "nbformat_minor": 0,
  "metadata": {
    "colab": {
      "name": "Model Comparison 2.ipynb",
      "provenance": [],
      "collapsed_sections": [
        "8JsppRjQc6sT",
        "42zKyRN2-kDU",
        "kR-PvzaFPImJ"
      ],
      "toc_visible": true
    },
    "kernelspec": {
      "name": "python3",
      "display_name": "Python 3"
    },
    "accelerator": "GPU"
  },
  "cells": [
    {
      "cell_type": "markdown",
      "metadata": {
        "id": "RrTaf6mm737G",
        "colab_type": "text"
      },
      "source": [
        "# Import Data"
      ]
    },
    {
      "cell_type": "markdown",
      "metadata": {
        "id": "NoWD6Cz18DO1",
        "colab_type": "text"
      },
      "source": [
        "## Import the dataset"
      ]
    },
    {
      "cell_type": "markdown",
      "metadata": {
        "id": "c7TR7hSElUId",
        "colab_type": "text"
      },
      "source": [
        "Import the dataset if you are in colab:"
      ]
    },
    {
      "cell_type": "code",
      "metadata": {
        "id": "vFmrfJMK8ClS",
        "colab_type": "code",
        "outputId": "a0d4ebd3-4aaf-4383-de26-50618bef9ee7",
        "colab": {
          "resources": {
            "http://localhost:8080/nbextensions/google.colab/files.js": {
              "data": "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",
              "ok": true,
              "headers": [
                [
                  "content-type",
                  "application/javascript"
                ]
              ],
              "status": 200,
              "status_text": ""
            }
          },
          "base_uri": "https://localhost:8080/",
          "height": 93
        }
      },
      "source": [
        "from google.colab import files\n",
        "files.upload()\n",
        "!ls"
      ],
      "execution_count": 1,
      "outputs": [
        {
          "output_type": "display_data",
          "data": {
            "text/html": [
              "\n",
              "     <input type=\"file\" id=\"files-99f4f353-32de-4eb0-acb4-f78a0f38150e\" name=\"files[]\" multiple disabled />\n",
              "     <output id=\"result-99f4f353-32de-4eb0-acb4-f78a0f38150e\">\n",
              "      Upload widget is only available when the cell has been executed in the\n",
              "      current browser session. Please rerun this cell to enable.\n",
              "      </output>\n",
              "      <script src=\"/nbextensions/google.colab/files.js\"></script> "
            ],
            "text/plain": [
              "<IPython.core.display.HTML object>"
            ]
          },
          "metadata": {
            "tags": []
          }
        },
        {
          "output_type": "stream",
          "text": [
            "Saving completeDataset.csv to completeDataset.csv\n",
            "completeDataset.csv  sample_data\n"
          ],
          "name": "stdout"
        }
      ]
    },
    {
      "cell_type": "markdown",
      "metadata": {
        "id": "vDqVHMyDlO0j",
        "colab_type": "text"
      },
      "source": [
        "Set the path to the csv file:"
      ]
    },
    {
      "cell_type": "code",
      "metadata": {
        "id": "R9R3uTpMlMks",
        "colab_type": "code",
        "colab": {}
      },
      "source": [
        "PATH_CSV = \"completeDataset.csv\""
      ],
      "execution_count": 0,
      "outputs": []
    },
    {
      "cell_type": "markdown",
      "metadata": {
        "id": "_ugu5pGr8G_h",
        "colab_type": "text"
      },
      "source": [
        "## Function to import data"
      ]
    },
    {
      "cell_type": "code",
      "metadata": {
        "id": "IIvtUzIi77ST",
        "colab_type": "code",
        "colab": {}
      },
      "source": [
        "import numpy as np\n",
        "import pandas as pd\n",
        "from sklearn.utils import shuffle\n",
        "\n",
        "RANDOM_SHUFFLE_SEED = 22\n",
        "\n",
        "#dataset\n",
        "features_considered = ['IQ','pressure','wind_direction','wind_force','humidity','temperature']\n",
        "\n",
        "DF = pd.read_csv(PATH_CSV, header=0, delimiter=';')\n",
        "DF['date'] = pd.to_datetime(DF['date'],utc=True)\n",
        "\n",
        "\n",
        "def importData(nb_prev_measures_for_predict):\n",
        "    print(\"=====IMPORT=====\")\n",
        "\n",
        "    features = DF[features_considered]\n",
        "    features.index = DF['date']\n",
        "\n",
        "    dataset_test = features.values\n",
        "\n",
        "    def higher_value(features,i):\n",
        "        return[row[i] for row in dataset_test]\n",
        "\n",
        "    max_pressure = max(higher_value(dataset_test,1))\n",
        "    max_wind_force = max(higher_value(dataset_test,3))\n",
        "    max_temperature = max(higher_value(dataset_test, 5))\n",
        "\n",
        "    #normalize\n",
        "    features['IQ'] = features['IQ'].apply(lambda x: x/10)\n",
        "    features['pressure'] = features['pressure'].apply(lambda x: x/max_pressure)\n",
        "    features['wind_force'] = features['wind_force'].apply(lambda x: x/max_wind_force)\n",
        "    features['humidity'] = features['humidity'].apply(lambda x: x/100)\n",
        "    features['temperature'] = features['temperature'].apply(lambda x: (x-273.15)/(max_temperature-273.15)) \n",
        "\n",
        "    #wind_direction to categorical\n",
        "    features = pd.concat([features, pd.get_dummies(features['wind_direction'])], axis=1)\n",
        "    features = features.drop(columns=[\"wind_direction\"])\n",
        "\n",
        "    x_train = []\n",
        "    y_train = []\n",
        "    countRow=0\n",
        "\n",
        "    for indexRow, rowx in features.iterrows():\n",
        "        # for each day we found with a value at 12:00\n",
        "        if indexRow.hour == 12 and countRow >= nb_prev_measures_for_predict:\n",
        "            try:\n",
        "                # indexes for x (the range is inversed as our data are from the oldest to the newest)\n",
        "                batchX = range(countRow, countRow - nb_prev_measures_for_predict, -1)\n",
        "                # indexes for y\n",
        "                batchY = [countRow+8,countRow+16,countRow+24]\n",
        "\n",
        "                #application\n",
        "                y_train.append(features.iloc[batchY][\"IQ\"].values)\n",
        "                x_train.append(features.iloc[batchX].values)\n",
        "            except:\n",
        "                print(\"To long for \",indexRow)\n",
        "        countRow+=1\n",
        "    \n",
        "    x_train = np.array(x_train)\n",
        "    y_train = np.array(y_train)\n",
        "    \n",
        "    x_train,y_train = shuffle(x_train,y_train, random_state=RANDOM_SHUFFLE_SEED)\n",
        "    \n",
        "    x_train = np.array(x_train)\n",
        "    y_train = np.array(y_train)\n",
        "    y_train = y_train.reshape(y_train.shape[0],3,1)\n",
        "    print(\"x_train :\",x_train.shape)\n",
        "    print(\"y_train :\",y_train.shape)\n",
        "    \n",
        "    print(\"====END IMPORT====\")\n",
        "    return(x_train,y_train)"
      ],
      "execution_count": 0,
      "outputs": []
    },
    {
      "cell_type": "markdown",
      "metadata": {
        "id": "8JsppRjQc6sT",
        "colab_type": "text"
      },
      "source": [
        "## Function to save the results"
      ]
    },
    {
      "cell_type": "markdown",
      "metadata": {
        "id": "k0zIoYFTbZ8l",
        "colab_type": "text"
      },
      "source": [
        "To save the results in a csv file:"
      ]
    },
    {
      "cell_type": "code",
      "metadata": {
        "id": "MBLufvQjazlw",
        "colab_type": "code",
        "outputId": "a4919bf9-5ec1-4b35-a277-57214052bc61",
        "colab": {
          "base_uri": "https://localhost:8080/",
          "height": 55
        }
      },
      "source": [
        "!mkdir logs\n",
        "!ls"
      ],
      "execution_count": 4,
      "outputs": [
        {
          "output_type": "stream",
          "text": [
            "completeDataset.csv  logs  sample_data\n"
          ],
          "name": "stdout"
        }
      ]
    },
    {
      "cell_type": "code",
      "metadata": {
        "id": "DYSIzoAfXiOx",
        "colab_type": "code",
        "outputId": "54026e9c-33bb-481d-e3e3-c4cfaf94ad18",
        "colab": {
          "base_uri": "https://localhost:8080/",
          "height": 55
        }
      },
      "source": [
        "%tensorflow_version 1.x"
      ],
      "execution_count": 5,
      "outputs": [
        {
          "output_type": "stream",
          "text": [
            "TensorFlow 1.x selected.\n"
          ],
          "name": "stdout"
        }
      ]
    },
    {
      "cell_type": "code",
      "metadata": {
        "id": "sHTdFSOVaS4s",
        "colab_type": "code",
        "colab": {}
      },
      "source": [
        "# code found here: https://stackoverflow.com/questions/42355122/can-i-export-a-tensorflow-summary-to-csv\n",
        "import os\n",
        "import numpy as np\n",
        "import pandas as pd\n",
        "\n",
        "import tensorflow as tf\n",
        "\n",
        "from collections import defaultdict\n",
        "from tensorboard.backend.event_processing.event_accumulator import EventAccumulator\n",
        "\n",
        "\n",
        "def tabulate_events(dpath):\n",
        "\n",
        "    final_out = {}\n",
        "    for dname in os.listdir(dpath):\n",
        "        ea = EventAccumulator(os.path.join(dpath, dname)).Reload()\n",
        "        tags = ea.Tags()['scalars']\n",
        "\n",
        "        out = {}\n",
        "\n",
        "        for tag in tags:\n",
        "            tag_values=[]\n",
        "            wall_time=[]\n",
        "            steps=[]\n",
        "\n",
        "            for event in ea.Scalars(tag):\n",
        "                tag_values.append(event.value)\n",
        "                wall_time.append(event.wall_time)\n",
        "                steps.append(event.step)\n",
        "\n",
        "            out[tag]=pd.DataFrame(data=dict(zip(steps,np.array([tag_values,wall_time]).transpose())), columns=steps,index=['value','wall_time'])\n",
        "\n",
        "        if len(tags)>0:      \n",
        "            df= pd.concat(out.values(),keys=out.keys())\n",
        "\n",
        "        final_out[dname] = df\n",
        "\n",
        "\n",
        "    return final_out\n",
        "\n",
        "def saveProgressCSV():\n",
        "  path = \"logs/\"\n",
        "  steps = tabulate_events(path)\n",
        "  pd.concat(steps.values(),keys=steps.keys()).to_csv('all_result.csv')"
      ],
      "execution_count": 0,
      "outputs": []
    },
    {
      "cell_type": "code",
      "metadata": {
        "id": "qdIVxzexflJE",
        "colab_type": "code",
        "outputId": "53b8eed0-173f-4d96-ce5f-6ef23d285008",
        "colab": {
          "base_uri": "https://localhost:8080/",
          "height": 72
        }
      },
      "source": [
        "print(os.getcwd())\n",
        "print(os.listdir())"
      ],
      "execution_count": 7,
      "outputs": [
        {
          "output_type": "stream",
          "text": [
            "/content\n",
            "['.config', 'completeDataset.csv', 'logs', 'sample_data']\n"
          ],
          "name": "stdout"
        }
      ]
    },
    {
      "cell_type": "markdown",
      "metadata": {
        "id": "4hdaAffT9eJY",
        "colab_type": "text"
      },
      "source": [
        "# Test differents models"
      ]
    },
    {
      "cell_type": "markdown",
      "metadata": {
        "id": "42zKyRN2-kDU",
        "colab_type": "text"
      },
      "source": [
        "##Librairies:"
      ]
    },
    {
      "cell_type": "code",
      "metadata": {
        "id": "DleWURFo-jZl",
        "colab_type": "code",
        "outputId": "9869b80b-c165-4b3a-8e80-1d2b70b36154",
        "colab": {
          "base_uri": "https://localhost:8080/",
          "height": 55
        }
      },
      "source": [
        "from keras.optimizers import RMSprop,Adam\n",
        "from keras.callbacks import TensorBoard,EarlyStopping\n",
        "from time import time\n",
        "from keras.models import Model\n",
        "from keras.layers import LSTM, Dense, Input, GRU, BatchNormalization, Dropout, Flatten\n",
        "from keras.models import save_model\n",
        "from datetime import datetime\n",
        "from sklearn.model_selection import KFold"
      ],
      "execution_count": 8,
      "outputs": [
        {
          "output_type": "stream",
          "text": [
            "Using TensorFlow backend.\n"
          ],
          "name": "stderr"
        }
      ]
    },
    {
      "cell_type": "markdown",
      "metadata": {
        "id": "kR-PvzaFPImJ",
        "colab_type": "text"
      },
      "source": [
        "## Accuracy:\n"
      ]
    },
    {
      "cell_type": "code",
      "metadata": {
        "id": "SSFqdgUGPPBB",
        "colab_type": "code",
        "colab": {}
      },
      "source": [
        "def calc_accuracy_3days(y_pred,y_true):\n",
        "    \"\"\"\n",
        "    calculate the accurracy of the prediction according to the true value for each day [D+1, D+2, D+3]\n",
        "    \"\"\"\n",
        "    accuracy = [0,0,0]\n",
        "    for pred,true in zip (y_pred,y_true):\n",
        "        for plusDay in range(3):\n",
        "            if true[plusDay] == np.around(pred[plusDay],2):\n",
        "                accuracy[plusDay]+=1\n",
        "    return(np.array(accuracy)/len(y_true)*100)\n",
        "\n",
        "dicAccuracy = {}"
      ],
      "execution_count": 0,
      "outputs": []
    },
    {
      "cell_type": "markdown",
      "metadata": {
        "id": "2Ml9udxlYMEB",
        "colab_type": "text"
      },
      "source": [
        "## Parameters:"
      ]
    },
    {
      "cell_type": "code",
      "metadata": {
        "id": "ogYmRVgJYO75",
        "colab_type": "code",
        "colab": {}
      },
      "source": [
        "# PARAMS TO TEST\n",
        "EPOCHS = 100"
      ],
      "execution_count": 0,
      "outputs": []
    },
    {
      "cell_type": "markdown",
      "metadata": {
        "id": "OS8ljbx--nhJ",
        "colab_type": "text"
      },
      "source": [
        "## Main script"
      ]
    },
    {
      "cell_type": "markdown",
      "metadata": {
        "id": "Az50d-BTX8xA",
        "colab_type": "text"
      },
      "source": [
        "### Manual script:"
      ]
    },
    {
      "cell_type": "code",
      "metadata": {
        "id": "-q-pJk_7Y_D7",
        "colab_type": "code",
        "outputId": "2dec9c60-aa4e-4b64-a42b-b784bf9ff8ba",
        "colab": {
          "base_uri": "https://localhost:8080/",
          "height": 606
        }
      },
      "source": [
        "x_train,y_train = importData(32)\n",
        "trainLength = int(len(x_train)*0.8)\n",
        "x,x_val = x_train[:trainLength],x_train[trainLength:]\n",
        "y,y_val = y_train[:trainLength],y_train[trainLength:]"
      ],
      "execution_count": 11,
      "outputs": [
        {
          "output_type": "stream",
          "text": [
            "=====IMPORT=====\n"
          ],
          "name": "stdout"
        },
        {
          "output_type": "stream",
          "text": [
            "/usr/local/lib/python3.6/dist-packages/ipykernel_launcher.py:30: SettingWithCopyWarning: \n",
            "A value is trying to be set on a copy of a slice from a DataFrame.\n",
            "Try using .loc[row_indexer,col_indexer] = value instead\n",
            "\n",
            "See the caveats in the documentation: https://pandas.pydata.org/pandas-docs/stable/user_guide/indexing.html#returning-a-view-versus-a-copy\n",
            "/usr/local/lib/python3.6/dist-packages/ipykernel_launcher.py:31: SettingWithCopyWarning: \n",
            "A value is trying to be set on a copy of a slice from a DataFrame.\n",
            "Try using .loc[row_indexer,col_indexer] = value instead\n",
            "\n",
            "See the caveats in the documentation: https://pandas.pydata.org/pandas-docs/stable/user_guide/indexing.html#returning-a-view-versus-a-copy\n",
            "/usr/local/lib/python3.6/dist-packages/ipykernel_launcher.py:32: SettingWithCopyWarning: \n",
            "A value is trying to be set on a copy of a slice from a DataFrame.\n",
            "Try using .loc[row_indexer,col_indexer] = value instead\n",
            "\n",
            "See the caveats in the documentation: https://pandas.pydata.org/pandas-docs/stable/user_guide/indexing.html#returning-a-view-versus-a-copy\n",
            "/usr/local/lib/python3.6/dist-packages/ipykernel_launcher.py:33: SettingWithCopyWarning: \n",
            "A value is trying to be set on a copy of a slice from a DataFrame.\n",
            "Try using .loc[row_indexer,col_indexer] = value instead\n",
            "\n",
            "See the caveats in the documentation: https://pandas.pydata.org/pandas-docs/stable/user_guide/indexing.html#returning-a-view-versus-a-copy\n",
            "/usr/local/lib/python3.6/dist-packages/ipykernel_launcher.py:34: SettingWithCopyWarning: \n",
            "A value is trying to be set on a copy of a slice from a DataFrame.\n",
            "Try using .loc[row_indexer,col_indexer] = value instead\n",
            "\n",
            "See the caveats in the documentation: https://pandas.pydata.org/pandas-docs/stable/user_guide/indexing.html#returning-a-view-versus-a-copy\n"
          ],
          "name": "stderr"
        },
        {
          "output_type": "stream",
          "text": [
            "To long for  2020-02-27 12:00:00+00:00\n",
            "To long for  2020-02-28 12:00:00+00:00\n",
            "To long for  2020-02-29 12:00:00+00:00\n",
            "x_train : (1877, 32, 42)\n",
            "y_train : (1877, 3, 1)\n",
            "====END IMPORT====\n"
          ],
          "name": "stdout"
        }
      ]
    },
    {
      "cell_type": "code",
      "metadata": {
        "id": "0dmRmzu7YAdJ",
        "colab_type": "code",
        "outputId": "253c1427-3ae9-4b73-d4fd-f555b05bc29f",
        "colab": {
          "base_uri": "https://localhost:8080/",
          "height": 1000
        }
      },
      "source": [
        "OPTI = \"Adam\"\n",
        "hiddenUnit = 512\n",
        "gruNext = 128\n",
        "denseSize = 256\n",
        "\n",
        "# Model\n",
        "input_shape = (x_train.shape[-2],x_train.shape[-1])\n",
        "inp = Input(input_shape,name='inputLayer')\n",
        "_ = GRU(hiddenUnit,input_shape=input_shape,name='GRUcommonLayer1')(inp)\n",
        "_ = Dense(denseSize,name=\"intermediateDenseLayer\")(_)\n",
        "_ = Dropout(0.2)(_)\n",
        "\n",
        "outD1 = Dense(1,name=\"D1\")(_)\n",
        "\n",
        "outD2 = Dense(1,name=\"D2\")(_)\n",
        "\n",
        "outD3 = Dense(1,name=\"D3\")(_)\n",
        "  \n",
        "#compile\n",
        "model = Model(inputs=[inp], outputs=[outD1, outD2, outD3])    \n",
        "model.compile(optimizer=OPTI, loss={'D1': 'mse', 'D2': 'mse', 'D3': 'mse'}, metrics={'D1': 'mae', 'D2': 'mae', 'D3': 'mae'})\n",
        "model.summary()\n",
        "\n",
        "#train:\n",
        "model.fit(x=x, y=[y[:,0],y[:,1],y[:,2]], validation_data=(x_val,[y_val[:,0],y_val[:,1],y_val[:,2]]),epochs=EPOCHS,verbose=0)\n",
        "\n",
        "#accuracy:\n",
        "y_pred = model.predict(x_val)\n",
        "y_val_visual = np.array(y_val)\n",
        "y_pred_visual = np.array(y_pred).reshape(y_val_visual.shape)\n",
        "acc = calc_accuracy_3days(y_pred_visual,y_val_visual)  \n",
        "print(\"accuracy val: \",acc)\n",
        "\n",
        "y_pred = model.predict(x_train)\n",
        "y_train_visual = np.array(y_train)\n",
        "y_pred_visual = np.array(y_pred).reshape(y_train_visual.shape)\n",
        "acc = calc_accuracy_3days(y_pred_visual,y_train_visual)  \n",
        "print(\"accuracy all dataset: \",acc)"
      ],
      "execution_count": 12,
      "outputs": [
        {
          "output_type": "stream",
          "text": [
            "WARNING:tensorflow:From /usr/local/lib/python3.6/dist-packages/keras/backend/tensorflow_backend.py:541: The name tf.placeholder is deprecated. Please use tf.compat.v1.placeholder instead.\n",
            "\n",
            "WARNING:tensorflow:From /usr/local/lib/python3.6/dist-packages/keras/backend/tensorflow_backend.py:66: The name tf.get_default_graph is deprecated. Please use tf.compat.v1.get_default_graph instead.\n",
            "\n",
            "WARNING:tensorflow:From /usr/local/lib/python3.6/dist-packages/keras/backend/tensorflow_backend.py:4432: The name tf.random_uniform is deprecated. Please use tf.random.uniform instead.\n",
            "\n",
            "WARNING:tensorflow:From /usr/local/lib/python3.6/dist-packages/keras/backend/tensorflow_backend.py:148: The name tf.placeholder_with_default is deprecated. Please use tf.compat.v1.placeholder_with_default instead.\n",
            "\n",
            "WARNING:tensorflow:From /usr/local/lib/python3.6/dist-packages/keras/backend/tensorflow_backend.py:3733: calling dropout (from tensorflow.python.ops.nn_ops) with keep_prob is deprecated and will be removed in a future version.\n",
            "Instructions for updating:\n",
            "Please use `rate` instead of `keep_prob`. Rate should be set to `rate = 1 - keep_prob`.\n",
            "WARNING:tensorflow:From /usr/local/lib/python3.6/dist-packages/keras/optimizers.py:793: The name tf.train.Optimizer is deprecated. Please use tf.compat.v1.train.Optimizer instead.\n",
            "\n",
            "Model: \"model_1\"\n",
            "__________________________________________________________________________________________________\n",
            "Layer (type)                    Output Shape         Param #     Connected to                     \n",
            "==================================================================================================\n",
            "inputLayer (InputLayer)         (None, 32, 42)       0                                            \n",
            "__________________________________________________________________________________________________\n",
            "GRUcommonLayer1 (GRU)           (None, 512)          852480      inputLayer[0][0]                 \n",
            "__________________________________________________________________________________________________\n",
            "intermediateDenseLayer (Dense)  (None, 256)          131328      GRUcommonLayer1[0][0]            \n",
            "__________________________________________________________________________________________________\n",
            "dropout_1 (Dropout)             (None, 256)          0           intermediateDenseLayer[0][0]     \n",
            "__________________________________________________________________________________________________\n",
            "D1 (Dense)                      (None, 1)            257         dropout_1[0][0]                  \n",
            "__________________________________________________________________________________________________\n",
            "D2 (Dense)                      (None, 1)            257         dropout_1[0][0]                  \n",
            "__________________________________________________________________________________________________\n",
            "D3 (Dense)                      (None, 1)            257         dropout_1[0][0]                  \n",
            "==================================================================================================\n",
            "Total params: 984,579\n",
            "Trainable params: 984,579\n",
            "Non-trainable params: 0\n",
            "__________________________________________________________________________________________________\n",
            "WARNING:tensorflow:From /tensorflow-1.15.2/python3.6/tensorflow_core/python/ops/math_grad.py:1424: where (from tensorflow.python.ops.array_ops) is deprecated and will be removed in a future version.\n",
            "Instructions for updating:\n",
            "Use tf.where in 2.0, which has the same broadcast rule as np.where\n",
            "WARNING:tensorflow:From /usr/local/lib/python3.6/dist-packages/keras/backend/tensorflow_backend.py:1033: The name tf.assign_add is deprecated. Please use tf.compat.v1.assign_add instead.\n",
            "\n",
            "WARNING:tensorflow:From /usr/local/lib/python3.6/dist-packages/keras/backend/tensorflow_backend.py:1020: The name tf.assign is deprecated. Please use tf.compat.v1.assign instead.\n",
            "\n",
            "WARNING:tensorflow:From /usr/local/lib/python3.6/dist-packages/keras/backend/tensorflow_backend.py:3005: The name tf.Session is deprecated. Please use tf.compat.v1.Session instead.\n",
            "\n",
            "WARNING:tensorflow:From /usr/local/lib/python3.6/dist-packages/keras/backend/tensorflow_backend.py:190: The name tf.get_default_session is deprecated. Please use tf.compat.v1.get_default_session instead.\n",
            "\n",
            "WARNING:tensorflow:From /usr/local/lib/python3.6/dist-packages/keras/backend/tensorflow_backend.py:197: The name tf.ConfigProto is deprecated. Please use tf.compat.v1.ConfigProto instead.\n",
            "\n",
            "WARNING:tensorflow:From /usr/local/lib/python3.6/dist-packages/keras/backend/tensorflow_backend.py:207: The name tf.global_variables is deprecated. Please use tf.compat.v1.global_variables instead.\n",
            "\n",
            "WARNING:tensorflow:From /usr/local/lib/python3.6/dist-packages/keras/backend/tensorflow_backend.py:216: The name tf.is_variable_initialized is deprecated. Please use tf.compat.v1.is_variable_initialized instead.\n",
            "\n",
            "WARNING:tensorflow:From /usr/local/lib/python3.6/dist-packages/keras/backend/tensorflow_backend.py:223: The name tf.variables_initializer is deprecated. Please use tf.compat.v1.variables_initializer instead.\n",
            "\n",
            "accuracy val:  [0.79787234 0.26595745 0.26595745]\n",
            "accuracy all dataset:  [0.42621204 0.21310602 0.31965903]\n"
          ],
          "name": "stdout"
        }
      ]
    },
    {
      "cell_type": "code",
      "metadata": {
        "id": "Xfi_ispvJmhD",
        "colab_type": "code",
        "outputId": "75ec1569-dc32-4fa2-f35f-6d40a6682225",
        "colab": {
          "base_uri": "https://localhost:8080/",
          "height": 444
        }
      },
      "source": [
        "# Model\n",
        "input_shape = (x_train.shape[-2],x_train.shape[-1])\n",
        "inp = Input(input_shape,name='inputLayer')\n",
        "_ = GRU(512,input_shape=input_shape,name='GRUcommonLayer1',return_sequences=True)(inp)\n",
        "_ = GRU(512,input_shape=input_shape,name='GRUcommonLayer2')(_)\n",
        "_ = Dropout(0.2)(_)\n",
        "\n",
        "outD1 = Dense(1,name=\"D1\")(_)\n",
        "\n",
        "outD2 = Dense(1,name=\"D2\")(_)\n",
        "\n",
        "outD3 = Dense(1,name=\"D3\")(_)\n",
        "  \n",
        "#compile\n",
        "model = Model(inputs=[inp], outputs=[outD1, outD2, outD3])    \n",
        "model.compile(optimizer=OPTI, loss={'D1': 'mse', 'D2': 'mse', 'D3': 'mse'}, metrics={'D1': 'mae', 'D2': 'mae', 'D3': 'mae'})\n",
        "model.summary()\n",
        "\n",
        "#train:\n",
        "model.fit(x=x, y=[y[:,0],y[:,1],y[:,2]], validation_data=(x_val,[y_val[:,0],y_val[:,1],y_val[:,2]]),epochs=EPOCHS,verbose=0)\n",
        "\n",
        "#accuracy:\n",
        "y_pred = model.predict(x_val)\n",
        "y_val_visual = np.array(y_val)\n",
        "y_pred_visual = np.array(y_pred).reshape(y_val_visual.shape)\n",
        "acc = calc_accuracy_3days(y_pred_visual,y_val_visual)  \n",
        "print(\"accuracy val: \",acc)\n",
        "\n",
        "y_pred = model.predict(x_train)\n",
        "y_train_visual = np.array(y_train)\n",
        "y_pred_visual = np.array(y_pred).reshape(y_train_visual.shape)\n",
        "acc = calc_accuracy_3days(y_pred_visual,y_train_visual)  \n",
        "print(\"accuracy all dataset: \",acc)"
      ],
      "execution_count": 13,
      "outputs": [
        {
          "output_type": "stream",
          "text": [
            "Model: \"model_2\"\n",
            "__________________________________________________________________________________________________\n",
            "Layer (type)                    Output Shape         Param #     Connected to                     \n",
            "==================================================================================================\n",
            "inputLayer (InputLayer)         (None, 32, 42)       0                                            \n",
            "__________________________________________________________________________________________________\n",
            "GRUcommonLayer1 (GRU)           (None, 32, 512)      852480      inputLayer[0][0]                 \n",
            "__________________________________________________________________________________________________\n",
            "GRUcommonLayer2 (GRU)           (None, 512)          1574400     GRUcommonLayer1[0][0]            \n",
            "__________________________________________________________________________________________________\n",
            "dropout_2 (Dropout)             (None, 512)          0           GRUcommonLayer2[0][0]            \n",
            "__________________________________________________________________________________________________\n",
            "D1 (Dense)                      (None, 1)            513         dropout_2[0][0]                  \n",
            "__________________________________________________________________________________________________\n",
            "D2 (Dense)                      (None, 1)            513         dropout_2[0][0]                  \n",
            "__________________________________________________________________________________________________\n",
            "D3 (Dense)                      (None, 1)            513         dropout_2[0][0]                  \n",
            "==================================================================================================\n",
            "Total params: 2,428,419\n",
            "Trainable params: 2,428,419\n",
            "Non-trainable params: 0\n",
            "__________________________________________________________________________________________________\n",
            "accuracy val:  [0.         0.26595745 0.26595745]\n",
            "accuracy all dataset:  [0.42621204 0.26638253 0.21310602]\n"
          ],
          "name": "stdout"
        }
      ]
    },
    {
      "cell_type": "code",
      "metadata": {
        "id": "z5D50rfcKXs_",
        "colab_type": "code",
        "colab": {
          "base_uri": "https://localhost:8080/",
          "height": 515
        },
        "outputId": "9af07ce4-f10f-4e65-bfa8-e218e733973b"
      },
      "source": [
        "# Model\n",
        "input_shape = (x_train.shape[-2],x_train.shape[-1])\n",
        "inp = Input(input_shape,name='inputLayer')\n",
        "_ = GRU(512,input_shape=input_shape,name='GRUcommonLayer1',return_sequences=True)(inp)\n",
        "_ = Dropout(0.2)(_)\n",
        "\n",
        "outD1 = GRU(128)(_)\n",
        "outD1 = Dense(1,name=\"D1\")(outD1)\n",
        "\n",
        "outD2 = GRU(128)(_)\n",
        "outD2 = Dense(1,name=\"D2\")(outD2)\n",
        "\n",
        "outD3 = GRU(128)(_)\n",
        "outD3 = Dense(1,name=\"D3\")(outD3)\n",
        "  \n",
        "#compile\n",
        "model = Model(inputs=[inp], outputs=[outD1, outD2, outD3])    \n",
        "model.compile(optimizer=OPTI, loss={'D1': 'mse', 'D2': 'mse', 'D3': 'mse'}, metrics={'D1': 'mae', 'D2': 'mae', 'D3': 'mae'})\n",
        "model.summary()\n",
        "\n",
        "#train:\n",
        "model.fit(x=x, y=[y[:,0],y[:,1],y[:,2]], validation_data=(x_val,[y_val[:,0],y_val[:,1],y_val[:,2]]),epochs=EPOCHS,verbose=0)\n",
        "\n",
        "#accuracy:\n",
        "y_pred = model.predict(x_val)\n",
        "y_val_visual = np.array(y_val)\n",
        "y_pred_visual = np.array(y_pred).reshape(y_val_visual.shape)\n",
        "acc = calc_accuracy_3days(y_pred_visual,y_val_visual)  \n",
        "print(\"accuracy val: \",acc)\n",
        "\n",
        "y_pred = model.predict(x_train)\n",
        "y_train_visual = np.array(y_train)\n",
        "y_pred_visual = np.array(y_pred).reshape(y_train_visual.shape)\n",
        "acc = calc_accuracy_3days(y_pred_visual,y_train_visual)  \n",
        "print(\"accuracy all dataset: \",acc)"
      ],
      "execution_count": 14,
      "outputs": [
        {
          "output_type": "stream",
          "text": [
            "Model: \"model_3\"\n",
            "__________________________________________________________________________________________________\n",
            "Layer (type)                    Output Shape         Param #     Connected to                     \n",
            "==================================================================================================\n",
            "inputLayer (InputLayer)         (None, 32, 42)       0                                            \n",
            "__________________________________________________________________________________________________\n",
            "GRUcommonLayer1 (GRU)           (None, 32, 512)      852480      inputLayer[0][0]                 \n",
            "__________________________________________________________________________________________________\n",
            "dropout_3 (Dropout)             (None, 32, 512)      0           GRUcommonLayer1[0][0]            \n",
            "__________________________________________________________________________________________________\n",
            "gru_1 (GRU)                     (None, 128)          246144      dropout_3[0][0]                  \n",
            "__________________________________________________________________________________________________\n",
            "gru_2 (GRU)                     (None, 128)          246144      dropout_3[0][0]                  \n",
            "__________________________________________________________________________________________________\n",
            "gru_3 (GRU)                     (None, 128)          246144      dropout_3[0][0]                  \n",
            "__________________________________________________________________________________________________\n",
            "D1 (Dense)                      (None, 1)            129         gru_1[0][0]                      \n",
            "__________________________________________________________________________________________________\n",
            "D2 (Dense)                      (None, 1)            129         gru_2[0][0]                      \n",
            "__________________________________________________________________________________________________\n",
            "D3 (Dense)                      (None, 1)            129         gru_3[0][0]                      \n",
            "==================================================================================================\n",
            "Total params: 1,591,299\n",
            "Trainable params: 1,591,299\n",
            "Non-trainable params: 0\n",
            "__________________________________________________________________________________________________\n",
            "accuracy val:  [0.53191489 0.79787234 0.79787234]\n",
            "accuracy all dataset:  [0.31965903 0.21310602 0.21310602]\n"
          ],
          "name": "stdout"
        }
      ]
    },
    {
      "cell_type": "code",
      "metadata": {
        "id": "dNEpxDFWK_gb",
        "colab_type": "code",
        "colab": {
          "base_uri": "https://localhost:8080/",
          "height": 515
        },
        "outputId": "bff43de6-eba2-4b79-9e00-8b4c3302cf2e"
      },
      "source": [
        "# Model\n",
        "input_shape = (x_train.shape[-2],x_train.shape[-1])\n",
        "inp = Input(input_shape,name='inputLayer')\n",
        "_ = Dense(512,name='DensecommonLayer1')(inp)\n",
        "_ = Dropout(0.2)(_)\n",
        "\n",
        "outD1 = GRU(128)(_)\n",
        "outD1 = Dense(1,name=\"D1\")(outD1)\n",
        "\n",
        "outD2 = GRU(128)(_)\n",
        "outD2 = Dense(1,name=\"D2\")(outD2)\n",
        "\n",
        "outD3 = GRU(128)(_)\n",
        "outD3 = Dense(1,name=\"D3\")(outD3)\n",
        "  \n",
        "#compile\n",
        "model = Model(inputs=[inp], outputs=[outD1, outD2, outD3])    \n",
        "model.compile(optimizer=OPTI, loss={'D1': 'mse', 'D2': 'mse', 'D3': 'mse'}, metrics={'D1': 'mae', 'D2': 'mae', 'D3': 'mae'})\n",
        "model.summary()\n",
        "\n",
        "#train:\n",
        "model.fit(x=x, y=[y[:,0],y[:,1],y[:,2]], validation_data=(x_val,[y_val[:,0],y_val[:,1],y_val[:,2]]),epochs=EPOCHS,verbose=0)\n",
        "\n",
        "#accuracy:\n",
        "y_pred = model.predict(x_val)\n",
        "y_val_visual = np.array(y_val)\n",
        "y_pred_visual = np.array(y_pred).reshape(y_val_visual.shape)\n",
        "acc = calc_accuracy_3days(y_pred_visual,y_val_visual)  \n",
        "print(\"accuracy val: \",acc)\n",
        "\n",
        "y_pred = model.predict(x_train)\n",
        "y_train_visual = np.array(y_train)\n",
        "y_pred_visual = np.array(y_pred).reshape(y_train_visual.shape)\n",
        "acc = calc_accuracy_3days(y_pred_visual,y_train_visual)  \n",
        "print(\"accuracy all dataset: \",acc)"
      ],
      "execution_count": 15,
      "outputs": [
        {
          "output_type": "stream",
          "text": [
            "Model: \"model_4\"\n",
            "__________________________________________________________________________________________________\n",
            "Layer (type)                    Output Shape         Param #     Connected to                     \n",
            "==================================================================================================\n",
            "inputLayer (InputLayer)         (None, 32, 42)       0                                            \n",
            "__________________________________________________________________________________________________\n",
            "DensecommonLayer1 (Dense)       (None, 32, 512)      22016       inputLayer[0][0]                 \n",
            "__________________________________________________________________________________________________\n",
            "dropout_4 (Dropout)             (None, 32, 512)      0           DensecommonLayer1[0][0]          \n",
            "__________________________________________________________________________________________________\n",
            "gru_4 (GRU)                     (None, 128)          246144      dropout_4[0][0]                  \n",
            "__________________________________________________________________________________________________\n",
            "gru_5 (GRU)                     (None, 128)          246144      dropout_4[0][0]                  \n",
            "__________________________________________________________________________________________________\n",
            "gru_6 (GRU)                     (None, 128)          246144      dropout_4[0][0]                  \n",
            "__________________________________________________________________________________________________\n",
            "D1 (Dense)                      (None, 1)            129         gru_4[0][0]                      \n",
            "__________________________________________________________________________________________________\n",
            "D2 (Dense)                      (None, 1)            129         gru_5[0][0]                      \n",
            "__________________________________________________________________________________________________\n",
            "D3 (Dense)                      (None, 1)            129         gru_6[0][0]                      \n",
            "==================================================================================================\n",
            "Total params: 760,835\n",
            "Trainable params: 760,835\n",
            "Non-trainable params: 0\n",
            "__________________________________________________________________________________________________\n",
            "accuracy val:  [0.         0.53191489 0.        ]\n",
            "accuracy all dataset:  [0.58604156 0.47948855 0.37293554]\n"
          ],
          "name": "stdout"
        }
      ]
    },
    {
      "cell_type": "code",
      "metadata": {
        "id": "haULUn5EOibe",
        "colab_type": "code",
        "colab": {
          "base_uri": "https://localhost:8080/",
          "height": 728
        },
        "outputId": "a1efb7a3-e415-49a3-9d6f-676ee2e6376d"
      },
      "source": [
        "# Model\n",
        "input_shape = (x_train.shape[-2],x_train.shape[-1])\n",
        "inp = Input(input_shape,name='inputLayer')\n",
        "_ = Dense(512,name='DensecommonLayer1')(inp)\n",
        "_ = Dropout(0.3)(_)\n",
        "\n",
        "outD1 = Dense(128)(_)\n",
        "outD1 = Dropout(0.3)(outD1)\n",
        "outD1 = Flatten()(outD1)\n",
        "outD1 = Dense(1,name=\"D1\")(outD1)\n",
        "\n",
        "outD2 = Dense(128)(_)\n",
        "outD2 = Dropout(0.3)(outD2)\n",
        "outD2 = Flatten()(outD2)\n",
        "outD2 = Dense(1,name=\"D2\")(outD2)\n",
        "\n",
        "outD3 = Dense(128)(_)\n",
        "outD3 = Dropout(0.3)(outD3)\n",
        "outD3 = Flatten()(outD3)\n",
        "outD3 = Dense(1,name=\"D3\")(outD3)\n",
        "  \n",
        "#compile\n",
        "model = Model(inputs=[inp], outputs=[outD1, outD2, outD3])    \n",
        "model.compile(optimizer=OPTI, loss={'D1': 'mse', 'D2': 'mse', 'D3': 'mse'}, metrics={'D1': 'mae', 'D2': 'mae', 'D3': 'mae'})\n",
        "model.summary()\n",
        "\n",
        "#train:\n",
        "model.fit(x=x, y=[y[:,0],y[:,1],y[:,2]], validation_data=(x_val,[y_val[:,0],y_val[:,1],y_val[:,2]]),epochs=EPOCHS,verbose=0)\n",
        "\n",
        "#accuracy:\n",
        "y_pred = model.predict(x_val)\n",
        "y_val_visual = np.array(y_val)\n",
        "y_pred_visual = np.array(y_pred).reshape(y_val_visual.shape)\n",
        "acc = calc_accuracy_3days(y_pred_visual,y_val_visual)  \n",
        "print(\"accuracy val: \",acc)\n",
        "\n",
        "y_pred = model.predict(x_train)\n",
        "y_train_visual = np.array(y_train)\n",
        "y_pred_visual = np.array(y_pred).reshape(y_train_visual.shape)\n",
        "acc = calc_accuracy_3days(y_pred_visual,y_train_visual)  \n",
        "print(\"accuracy all dataset: \",acc)"
      ],
      "execution_count": 16,
      "outputs": [
        {
          "output_type": "stream",
          "text": [
            "Model: \"model_5\"\n",
            "__________________________________________________________________________________________________\n",
            "Layer (type)                    Output Shape         Param #     Connected to                     \n",
            "==================================================================================================\n",
            "inputLayer (InputLayer)         (None, 32, 42)       0                                            \n",
            "__________________________________________________________________________________________________\n",
            "DensecommonLayer1 (Dense)       (None, 32, 512)      22016       inputLayer[0][0]                 \n",
            "__________________________________________________________________________________________________\n",
            "dropout_5 (Dropout)             (None, 32, 512)      0           DensecommonLayer1[0][0]          \n",
            "__________________________________________________________________________________________________\n",
            "dense_1 (Dense)                 (None, 32, 128)      65664       dropout_5[0][0]                  \n",
            "__________________________________________________________________________________________________\n",
            "dense_2 (Dense)                 (None, 32, 128)      65664       dropout_5[0][0]                  \n",
            "__________________________________________________________________________________________________\n",
            "dense_3 (Dense)                 (None, 32, 128)      65664       dropout_5[0][0]                  \n",
            "__________________________________________________________________________________________________\n",
            "dropout_6 (Dropout)             (None, 32, 128)      0           dense_1[0][0]                    \n",
            "__________________________________________________________________________________________________\n",
            "dropout_7 (Dropout)             (None, 32, 128)      0           dense_2[0][0]                    \n",
            "__________________________________________________________________________________________________\n",
            "dropout_8 (Dropout)             (None, 32, 128)      0           dense_3[0][0]                    \n",
            "__________________________________________________________________________________________________\n",
            "flatten_1 (Flatten)             (None, 4096)         0           dropout_6[0][0]                  \n",
            "__________________________________________________________________________________________________\n",
            "flatten_2 (Flatten)             (None, 4096)         0           dropout_7[0][0]                  \n",
            "__________________________________________________________________________________________________\n",
            "flatten_3 (Flatten)             (None, 4096)         0           dropout_8[0][0]                  \n",
            "__________________________________________________________________________________________________\n",
            "D1 (Dense)                      (None, 1)            4097        flatten_1[0][0]                  \n",
            "__________________________________________________________________________________________________\n",
            "D2 (Dense)                      (None, 1)            4097        flatten_2[0][0]                  \n",
            "__________________________________________________________________________________________________\n",
            "D3 (Dense)                      (None, 1)            4097        flatten_3[0][0]                  \n",
            "==================================================================================================\n",
            "Total params: 231,299\n",
            "Trainable params: 231,299\n",
            "Non-trainable params: 0\n",
            "__________________________________________________________________________________________________\n",
            "accuracy val:  [0.26595745 0.26595745 0.53191489]\n",
            "accuracy all dataset:  [0.31965903 0.26638253 0.42621204]\n"
          ],
          "name": "stdout"
        }
      ]
    }
  ]
}