{
 "cells": [
  {
   "cell_type": "markdown",
   "metadata": {},
   "source": [
    "# Vizualization"
   ]
  },
  {
   "cell_type": "markdown",
   "metadata": {},
   "source": [
    "## Import and clean the dataset"
   ]
  },
  {
   "cell_type": "code",
   "execution_count": 1,
   "metadata": {
    "scrolled": true
   },
   "outputs": [],
   "source": [
    "import pandas as pd\n",
    "import numpy as np\n",
    "\n",
    "PATH = \"aggregatedData/3avrilDoubleGRU.csv\"\n",
    "df = pd.read_csv(PATH, header=0, delimiter=',')\n",
    "df.rename(columns={'Unnamed: 0':'name', 'Unnamed: 1':'Metric','Unnamed: 2':'Horizontal_axis'},inplace=True)\n",
    "\n",
    "NUMBER_OF_EPOCHS = 200"
   ]
  },
  {
   "cell_type": "markdown",
   "metadata": {},
   "source": [
    "Create the columns based on the name:"
   ]
  },
  {
   "cell_type": "code",
   "execution_count": 2,
   "metadata": {},
   "outputs": [],
   "source": [
    "def nameToCol(row):\n",
    "    features = str(row['name']).split(\"-\")\n",
    "    for f in features:\n",
    "        if \"opti\" in f:\n",
    "            row[str(f[:4])] = str(f[4:])\n",
    "        for i,caracter in enumerate(f):\n",
    "            if caracter.isdigit():\n",
    "                featureName = f[:i]\n",
    "                try:\n",
    "                    row[featureName] = int(f[i:])\n",
    "                except:\n",
    "                    row[featureName] = float(f[i:])\n",
    "                break\n",
    "    return(row)\n",
    "\n",
    "df = df.apply(lambda x: nameToCol(x),axis=1)"
   ]
  },
  {
   "cell_type": "markdown",
   "metadata": {},
   "source": [
    "Concatenate the epochs colums into one list of measurements:"
   ]
  },
  {
   "cell_type": "code",
   "execution_count": 3,
   "metadata": {},
   "outputs": [],
   "source": [
    "def epochsToColumn(row):\n",
    "    listOfMeasures = []\n",
    "    for c in range(0,NUMBER_OF_EPOCHS):\n",
    "        listOfMeasures.append(row[str(c)])\n",
    "    row[\"measures\"] = listOfMeasures  \n",
    "    return(row)\n",
    "\n",
    "df = df.apply(lambda x: epochsToColumn(x),axis=1)"
   ]
  },
  {
   "cell_type": "markdown",
   "metadata": {},
   "source": [
    "Drop unecessary columns:"
   ]
  },
  {
   "cell_type": "code",
   "execution_count": 4,
   "metadata": {},
   "outputs": [],
   "source": [
    "dropList = []\n",
    "for i in range(0,NUMBER_OF_EPOCHS-1):\n",
    "    dropList.append(str(i))\n",
    "    \n",
    "df = df.drop(columns=dropList)\n",
    "df = df.rename(columns={str(NUMBER_OF_EPOCHS-1):'lastValue'})"
   ]
  },
  {
   "cell_type": "code",
   "execution_count": 5,
   "metadata": {},
   "outputs": [
    {
     "data": {
      "text/html": [
       "<div>\n",
       "<style scoped>\n",
       "    .dataframe tbody tr th:only-of-type {\n",
       "        vertical-align: middle;\n",
       "    }\n",
       "\n",
       "    .dataframe tbody tr th {\n",
       "        vertical-align: top;\n",
       "    }\n",
       "\n",
       "    .dataframe thead th {\n",
       "        text-align: right;\n",
       "    }\n",
       "</style>\n",
       "<table border=\"1\" class=\"dataframe\">\n",
       "  <thead>\n",
       "    <tr style=\"text-align: right;\">\n",
       "      <th></th>\n",
       "      <th>name</th>\n",
       "      <th>Metric</th>\n",
       "      <th>Horizontal_axis</th>\n",
       "      <th>lastValue</th>\n",
       "      <th>nobs</th>\n",
       "      <th>opti</th>\n",
       "      <th>lr</th>\n",
       "      <th>doubleGRU</th>\n",
       "      <th>GRUnext</th>\n",
       "      <th>time</th>\n",
       "      <th>measures</th>\n",
       "    </tr>\n",
       "  </thead>\n",
       "  <tbody>\n",
       "    <tr>\n",
       "      <th>0</th>\n",
       "      <td>nobs32-optiRMS-lr0.0005-doubleGRU512-GRUnext64...</td>\n",
       "      <td>val_loss</td>\n",
       "      <td>value</td>\n",
       "      <td>4.329522e-02</td>\n",
       "      <td>32</td>\n",
       "      <td>RMS</td>\n",
       "      <td>0.0005</td>\n",
       "      <td>512</td>\n",
       "      <td>64</td>\n",
       "      <td>1585899844</td>\n",
       "      <td>[0.5383313894271851, 0.5058935284614563, 0.460...</td>\n",
       "    </tr>\n",
       "    <tr>\n",
       "      <th>1</th>\n",
       "      <td>nobs32-optiRMS-lr0.0005-doubleGRU512-GRUnext64...</td>\n",
       "      <td>val_loss</td>\n",
       "      <td>wall_time</td>\n",
       "      <td>1.585902e+09</td>\n",
       "      <td>32</td>\n",
       "      <td>RMS</td>\n",
       "      <td>0.0005</td>\n",
       "      <td>512</td>\n",
       "      <td>64</td>\n",
       "      <td>1585899844</td>\n",
       "      <td>[1585899868.63525, 1585899877.7796047, 1585899...</td>\n",
       "    </tr>\n",
       "    <tr>\n",
       "      <th>2</th>\n",
       "      <td>nobs32-optiRMS-lr0.0005-doubleGRU512-GRUnext64...</td>\n",
       "      <td>val_D1_loss</td>\n",
       "      <td>value</td>\n",
       "      <td>1.329818e-02</td>\n",
       "      <td>32</td>\n",
       "      <td>RMS</td>\n",
       "      <td>0.0005</td>\n",
       "      <td>512</td>\n",
       "      <td>64</td>\n",
       "      <td>1585899844</td>\n",
       "      <td>[0.2265210896730423, 0.13387306034564972, 0.15...</td>\n",
       "    </tr>\n",
       "    <tr>\n",
       "      <th>3</th>\n",
       "      <td>nobs32-optiRMS-lr0.0005-doubleGRU512-GRUnext64...</td>\n",
       "      <td>val_D1_loss</td>\n",
       "      <td>wall_time</td>\n",
       "      <td>1.585902e+09</td>\n",
       "      <td>32</td>\n",
       "      <td>RMS</td>\n",
       "      <td>0.0005</td>\n",
       "      <td>512</td>\n",
       "      <td>64</td>\n",
       "      <td>1585899844</td>\n",
       "      <td>[1585899868.635361, 1585899877.7796915, 158589...</td>\n",
       "    </tr>\n",
       "    <tr>\n",
       "      <th>4</th>\n",
       "      <td>nobs32-optiRMS-lr0.0005-doubleGRU512-GRUnext64...</td>\n",
       "      <td>val_D2_loss</td>\n",
       "      <td>value</td>\n",
       "      <td>1.397044e-02</td>\n",
       "      <td>32</td>\n",
       "      <td>RMS</td>\n",
       "      <td>0.0005</td>\n",
       "      <td>512</td>\n",
       "      <td>64</td>\n",
       "      <td>1585899844</td>\n",
       "      <td>[0.1955714374780655, 0.11087248474359512, 0.10...</td>\n",
       "    </tr>\n",
       "  </tbody>\n",
       "</table>\n",
       "</div>"
      ],
      "text/plain": [
       "                                                name       Metric  \\\n",
       "0  nobs32-optiRMS-lr0.0005-doubleGRU512-GRUnext64...     val_loss   \n",
       "1  nobs32-optiRMS-lr0.0005-doubleGRU512-GRUnext64...     val_loss   \n",
       "2  nobs32-optiRMS-lr0.0005-doubleGRU512-GRUnext64...  val_D1_loss   \n",
       "3  nobs32-optiRMS-lr0.0005-doubleGRU512-GRUnext64...  val_D1_loss   \n",
       "4  nobs32-optiRMS-lr0.0005-doubleGRU512-GRUnext64...  val_D2_loss   \n",
       "\n",
       "  Horizontal_axis     lastValue  nobs opti      lr  doubleGRU  GRUnext  \\\n",
       "0           value  4.329522e-02    32  RMS  0.0005        512       64   \n",
       "1       wall_time  1.585902e+09    32  RMS  0.0005        512       64   \n",
       "2           value  1.329818e-02    32  RMS  0.0005        512       64   \n",
       "3       wall_time  1.585902e+09    32  RMS  0.0005        512       64   \n",
       "4           value  1.397044e-02    32  RMS  0.0005        512       64   \n",
       "\n",
       "         time                                           measures  \n",
       "0  1585899844  [0.5383313894271851, 0.5058935284614563, 0.460...  \n",
       "1  1585899844  [1585899868.63525, 1585899877.7796047, 1585899...  \n",
       "2  1585899844  [0.2265210896730423, 0.13387306034564972, 0.15...  \n",
       "3  1585899844  [1585899868.635361, 1585899877.7796915, 158589...  \n",
       "4  1585899844  [0.1955714374780655, 0.11087248474359512, 0.10...  "
      ]
     },
     "execution_count": 5,
     "metadata": {},
     "output_type": "execute_result"
    }
   ],
   "source": [
    "df.head()"
   ]
  },
  {
   "cell_type": "markdown",
   "metadata": {},
   "source": [
    "Uniques values:"
   ]
  },
  {
   "cell_type": "code",
   "execution_count": 6,
   "metadata": {},
   "outputs": [
    {
     "name": "stdout",
     "output_type": "stream",
     "text": [
      "Metric \n",
      " ['val_loss' 'val_D1_loss' 'val_D2_loss' 'val_D3_loss'\n",
      " 'val_D1_mean_absolute_error' 'val_D2_mean_absolute_error'\n",
      " 'val_D3_mean_absolute_error' 'loss' 'D1_loss' 'D2_loss' 'D3_loss'\n",
      " 'D1_mean_absolute_error' 'D2_mean_absolute_error'\n",
      " 'D3_mean_absolute_error'] \n",
      "\n",
      "Horizontal_axis \n",
      " ['value' 'wall_time'] \n",
      "\n",
      "nobs \n",
      " [32] \n",
      "\n",
      "opti \n",
      " ['RMS'] \n",
      "\n",
      "lr \n",
      " [0.0005] \n",
      "\n",
      "doubleGRU \n",
      " [512] \n",
      "\n",
      "GRUnext \n",
      " [64] \n",
      "\n"
     ]
    }
   ],
   "source": [
    "for col in df:\n",
    "    if str(col)!=\"time\" and str(col)!=\"measures\" and str(col)!=\"name\" and str(col)!=\"lastValue\":\n",
    "        print(col,\"\\n\",df[col].unique(),\"\\n\")"
   ]
  },
  {
   "cell_type": "markdown",
   "metadata": {},
   "source": [
    "## Visualize"
   ]
  },
  {
   "cell_type": "code",
   "execution_count": 7,
   "metadata": {},
   "outputs": [],
   "source": [
    "import matplotlib as mpl\n",
    "import matplotlib.pyplot as plt"
   ]
  },
  {
   "cell_type": "code",
   "execution_count": 8,
   "metadata": {},
   "outputs": [],
   "source": [
    "mpl.rcParams['figure.figsize'] = (16,7)"
   ]
  },
  {
   "cell_type": "markdown",
   "metadata": {},
   "source": [
    "Select what we want to see:"
   ]
  },
  {
   "cell_type": "code",
   "execution_count": 9,
   "metadata": {},
   "outputs": [
    {
     "data": {
      "text/html": [
       "<div>\n",
       "<style scoped>\n",
       "    .dataframe tbody tr th:only-of-type {\n",
       "        vertical-align: middle;\n",
       "    }\n",
       "\n",
       "    .dataframe tbody tr th {\n",
       "        vertical-align: top;\n",
       "    }\n",
       "\n",
       "    .dataframe thead th {\n",
       "        text-align: right;\n",
       "    }\n",
       "</style>\n",
       "<table border=\"1\" class=\"dataframe\">\n",
       "  <thead>\n",
       "    <tr style=\"text-align: right;\">\n",
       "      <th></th>\n",
       "      <th>name</th>\n",
       "      <th>Metric</th>\n",
       "      <th>lastValue</th>\n",
       "      <th>nobs</th>\n",
       "      <th>opti</th>\n",
       "      <th>lr</th>\n",
       "      <th>doubleGRU</th>\n",
       "      <th>GRUnext</th>\n",
       "      <th>time</th>\n",
       "      <th>measures</th>\n",
       "    </tr>\n",
       "  </thead>\n",
       "  <tbody>\n",
       "    <tr>\n",
       "      <th>0</th>\n",
       "      <td>nobs32-optiRMS-lr0.0005-doubleGRU512-GRUnext64...</td>\n",
       "      <td>val_loss</td>\n",
       "      <td>0.043295</td>\n",
       "      <td>32</td>\n",
       "      <td>RMS</td>\n",
       "      <td>0.0005</td>\n",
       "      <td>512</td>\n",
       "      <td>64</td>\n",
       "      <td>1585899844</td>\n",
       "      <td>[0.5383313894271851, 0.5058935284614563, 0.460...</td>\n",
       "    </tr>\n",
       "    <tr>\n",
       "      <th>2</th>\n",
       "      <td>nobs32-optiRMS-lr0.0005-doubleGRU512-GRUnext64...</td>\n",
       "      <td>val_D1_loss</td>\n",
       "      <td>0.013298</td>\n",
       "      <td>32</td>\n",
       "      <td>RMS</td>\n",
       "      <td>0.0005</td>\n",
       "      <td>512</td>\n",
       "      <td>64</td>\n",
       "      <td>1585899844</td>\n",
       "      <td>[0.2265210896730423, 0.13387306034564972, 0.15...</td>\n",
       "    </tr>\n",
       "    <tr>\n",
       "      <th>4</th>\n",
       "      <td>nobs32-optiRMS-lr0.0005-doubleGRU512-GRUnext64...</td>\n",
       "      <td>val_D2_loss</td>\n",
       "      <td>0.013970</td>\n",
       "      <td>32</td>\n",
       "      <td>RMS</td>\n",
       "      <td>0.0005</td>\n",
       "      <td>512</td>\n",
       "      <td>64</td>\n",
       "      <td>1585899844</td>\n",
       "      <td>[0.1955714374780655, 0.11087248474359512, 0.10...</td>\n",
       "    </tr>\n",
       "    <tr>\n",
       "      <th>6</th>\n",
       "      <td>nobs32-optiRMS-lr0.0005-doubleGRU512-GRUnext64...</td>\n",
       "      <td>val_D3_loss</td>\n",
       "      <td>0.016027</td>\n",
       "      <td>32</td>\n",
       "      <td>RMS</td>\n",
       "      <td>0.0005</td>\n",
       "      <td>512</td>\n",
       "      <td>64</td>\n",
       "      <td>1585899844</td>\n",
       "      <td>[0.11623886972665788, 0.2611479461193085, 0.20...</td>\n",
       "    </tr>\n",
       "    <tr>\n",
       "      <th>8</th>\n",
       "      <td>nobs32-optiRMS-lr0.0005-doubleGRU512-GRUnext64...</td>\n",
       "      <td>val_D1_mean_absolute_error</td>\n",
       "      <td>0.084491</td>\n",
       "      <td>32</td>\n",
       "      <td>RMS</td>\n",
       "      <td>0.0005</td>\n",
       "      <td>512</td>\n",
       "      <td>64</td>\n",
       "      <td>1585899844</td>\n",
       "      <td>[0.4548433125019074, 0.33628615736961365, 0.36...</td>\n",
       "    </tr>\n",
       "  </tbody>\n",
       "</table>\n",
       "</div>"
      ],
      "text/plain": [
       "                                                name  \\\n",
       "0  nobs32-optiRMS-lr0.0005-doubleGRU512-GRUnext64...   \n",
       "2  nobs32-optiRMS-lr0.0005-doubleGRU512-GRUnext64...   \n",
       "4  nobs32-optiRMS-lr0.0005-doubleGRU512-GRUnext64...   \n",
       "6  nobs32-optiRMS-lr0.0005-doubleGRU512-GRUnext64...   \n",
       "8  nobs32-optiRMS-lr0.0005-doubleGRU512-GRUnext64...   \n",
       "\n",
       "                       Metric  lastValue  nobs opti      lr  doubleGRU  \\\n",
       "0                    val_loss   0.043295    32  RMS  0.0005        512   \n",
       "2                 val_D1_loss   0.013298    32  RMS  0.0005        512   \n",
       "4                 val_D2_loss   0.013970    32  RMS  0.0005        512   \n",
       "6                 val_D3_loss   0.016027    32  RMS  0.0005        512   \n",
       "8  val_D1_mean_absolute_error   0.084491    32  RMS  0.0005        512   \n",
       "\n",
       "   GRUnext        time                                           measures  \n",
       "0       64  1585899844  [0.5383313894271851, 0.5058935284614563, 0.460...  \n",
       "2       64  1585899844  [0.2265210896730423, 0.13387306034564972, 0.15...  \n",
       "4       64  1585899844  [0.1955714374780655, 0.11087248474359512, 0.10...  \n",
       "6       64  1585899844  [0.11623886972665788, 0.2611479461193085, 0.20...  \n",
       "8       64  1585899844  [0.4548433125019074, 0.33628615736961365, 0.36...  "
      ]
     },
     "execution_count": 9,
     "metadata": {},
     "output_type": "execute_result"
    }
   ],
   "source": [
    "dfViz = df[df[\"Horizontal_axis\"] == \"value\"]\n",
    "dfViz = dfViz.drop(columns=[\"Horizontal_axis\"])\n",
    "dfViz.head()"
   ]
  },
  {
   "cell_type": "code",
   "execution_count": 10,
   "metadata": {},
   "outputs": [],
   "source": [
    "from scipy.ndimage.filters import gaussian_filter1d\n",
    "\n",
    "def showGraph(toShow,title=\" \",xaxis=\"Epoch\",yaxis=\"???\",smooth=False):\n",
    "    for i, row in toShow.iterrows(): \n",
    "        # smooth the plot\n",
    "        if smooth:\n",
    "            ysmoothed = gaussian_filter1d(row[\"measures\"], sigma=2)\n",
    "            plt.plot(ysmoothed)\n",
    "        else:\n",
    "            plt.plot(row[\"measures\"])        \n",
    "    # axes\n",
    "    axes = plt.gca()\n",
    "    axes.set_xlim()\n",
    "    axes.set_ylim((0,0.1))\n",
    "    plt.xlabel(xaxis)\n",
    "    plt.ylabel(yaxis)\n",
    "    plt.title(title)\n",
    "    plt.legend(toShow[\"name\"], title=\"From best to worst last result:\")\n",
    "    plt.show()\n",
    "    \n",
    "def showBestMetric(dfViz,metric,N=10):\n",
    "    toShow = dfViz[dfViz[\"Metric\"] == metric].nsmallest(N, ['lastValue']).sort_values(by=[\"lastValue\"],ascending=True)\n",
    "    showGraph(toShow,title = f'Best {N} runs ({metric})',xaxis=\"Epoch\",yaxis=metric,smooth=True)"
   ]
  },
  {
   "cell_type": "markdown",
   "metadata": {},
   "source": [
    "Best 10 final loss train:"
   ]
  },
  {
   "cell_type": "code",
   "execution_count": 11,
   "metadata": {},
   "outputs": [
    {
     "data": {
      "image/png": "[encoded data removed]",
      "text/plain": [
       "<Figure size 1152x504 with 1 Axes>"
      ]
     },
     "metadata": {
      "needs_background": "light"
     },
     "output_type": "display_data"
    }
   ],
   "source": [
    "N = 10\n",
    "metric= \"loss\"\n",
    "showBestMetric(dfViz,metric,N)"
   ]
  },
  {
   "cell_type": "markdown",
   "metadata": {},
   "source": [
    "Best N final validation loss train:"
   ]
  },
  {
   "cell_type": "code",
   "execution_count": 12,
   "metadata": {},
   "outputs": [
    {
     "data": {
      "image/png": "[encoded data removed]",
      "text/plain": [
       "<Figure size 1152x504 with 1 Axes>"
      ]
     },
     "metadata": {
      "needs_background": "light"
     },
     "output_type": "display_data"
    }
   ],
   "source": [
    "N = 10\n",
    "metric= \"val_loss\"\n",
    "showBestMetric(dfViz,metric,N)"
   ]
  },
  {
   "cell_type": "markdown",
   "metadata": {},
   "source": [
    "## Stats"
   ]
  },
  {
   "cell_type": "code",
   "execution_count": 13,
   "metadata": {},
   "outputs": [
    {
     "name": "stdout",
     "output_type": "stream",
     "text": [
      "===Mean of the last result for the 10 best last result of each feature, group by feature and ordered by mean best result===\n",
      "\n",
      "----==== loss ====----\n",
      "--- nobs --\n",
      "32 :  0.01784\n",
      "--- opti --\n",
      "RMS :  0.01784\n",
      "--- doubleGRU --\n",
      "512 :  0.01784\n",
      "--- GRUnext --\n",
      "64 :  0.01784\n",
      "\n",
      "----==== val_loss ====----\n",
      "--- nobs --\n",
      "32 :  0.0433\n",
      "--- opti --\n",
      "RMS :  0.0433\n",
      "--- doubleGRU --\n",
      "512 :  0.0433\n",
      "--- GRUnext --\n",
      "64 :  0.0433\n"
     ]
    }
   ],
   "source": [
    "list_of_features = [\"nobs\",\"opti\",\"doubleGRU\",\"GRUnext\"]\n",
    "\n",
    "print(f\"===Mean of the last result for the {N} best last result of each feature, group by feature and ordered by mean best result===\")\n",
    "for metric in [\"loss\",\"val_loss\"]:\n",
    "    # for each metric\n",
    "    print(\"\\n----==== {} ====----\".format(metric))\n",
    "    for feature in list_of_features:\n",
    "        # for each feature of the model\n",
    "        print(\"--- {} --\".format(feature))\n",
    "        dico = {}\n",
    "        for unique in dfViz[feature].unique():\n",
    "            # for each unique value\n",
    "            dico[unique] = dfViz[dfViz[feature] == unique][dfViz[\"Metric\"] == metric].nsmallest(N, ['lastValue'])[\"lastValue\"].mean()\n",
    "        # print the result for this feature\n",
    "        orderKey = sorted(dico, key=dico.get)\n",
    "        for k in orderKey:\n",
    "            print(k,\": \",round(dico[k],5))\n",
    "        "
   ]
  }
 ],
 "metadata": {
  "kernelspec": {
   "display_name": "Python 3",
   "language": "python",
   "name": "python3"
  },
  "language_info": {
   "codemirror_mode": {
    "name": "ipython",
    "version": 3
   },
   "file_extension": ".py",
   "mimetype": "text/x-python",
   "name": "python",
   "nbconvert_exporter": "python",
   "pygments_lexer": "ipython3",
   "version": "3.7.5"
  }
 },
 "nbformat": 4,
 "nbformat_minor": 2
}
