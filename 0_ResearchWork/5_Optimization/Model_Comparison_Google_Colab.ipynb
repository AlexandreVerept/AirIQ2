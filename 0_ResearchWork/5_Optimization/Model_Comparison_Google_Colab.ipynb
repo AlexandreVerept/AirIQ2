{
  "nbformat": 4,
  "nbformat_minor": 0,
  "metadata": {
    "colab": {
      "name": "Model Comparison.ipynb",
      "provenance": [],
      "collapsed_sections": [
        "_ugu5pGr8G_h",
        "8JsppRjQc6sT",
        "42zKyRN2-kDU"
      ],
      "toc_visible": true
    },
    "kernelspec": {
      "name": "python3",
      "display_name": "Python 3"
    },
    "accelerator": "GPU"
  },
  "cells": [
    {
      "cell_type": "markdown",
      "metadata": {
        "id": "RrTaf6mm737G",
        "colab_type": "text"
      },
      "source": [
        "# Import Data"
      ]
    },
    {
      "cell_type": "markdown",
      "metadata": {
        "id": "NoWD6Cz18DO1",
        "colab_type": "text"
      },
      "source": [
        "## Import the dataset"
      ]
    },
    {
      "cell_type": "markdown",
      "metadata": {
        "id": "c7TR7hSElUId",
        "colab_type": "text"
      },
      "source": [
        "Import the dataset if you are in colab:"
      ]
    },
    {
      "cell_type": "code",
      "metadata": {
        "id": "vFmrfJMK8ClS",
        "colab_type": "code",
        "outputId": "84cd1f0b-8bba-4408-b059-19ad0b3333dd",
        "colab": {
          "resources": {
            "http://localhost:8080/nbextensions/google.colab/files.js": {
              "data": "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",
              "ok": true,
              "headers": [
                [
                  "content-type",
                  "application/javascript"
                ]
              ],
              "status": 200,
              "status_text": ""
            }
          },
          "base_uri": "https://localhost:8080/",
          "height": 90
        }
      },
      "source": [
        "from google.colab import files\n",
        "files.upload()\n",
        "!ls"
      ],
      "execution_count": 1,
      "outputs": [
        {
          "output_type": "display_data",
          "data": {
            "text/html": [
              "\n",
              "     <input type=\"file\" id=\"files-71a73fe2-d0d0-48fd-8b2c-f91a58171922\" name=\"files[]\" multiple disabled />\n",
              "     <output id=\"result-71a73fe2-d0d0-48fd-8b2c-f91a58171922\">\n",
              "      Upload widget is only available when the cell has been executed in the\n",
              "      current browser session. Please rerun this cell to enable.\n",
              "      </output>\n",
              "      <script src=\"/nbextensions/google.colab/files.js\"></script> "
            ],
            "text/plain": [
              "<IPython.core.display.HTML object>"
            ]
          },
          "metadata": {
            "tags": []
          }
        },
        {
          "output_type": "stream",
          "text": [
            "Saving completeDataset.csv to completeDataset.csv\n",
            "completeDataset.csv  sample_data\n"
          ],
          "name": "stdout"
        }
      ]
    },
    {
      "cell_type": "markdown",
      "metadata": {
        "id": "vDqVHMyDlO0j",
        "colab_type": "text"
      },
      "source": [
        "Set the path to the csv file:"
      ]
    },
    {
      "cell_type": "code",
      "metadata": {
        "id": "R9R3uTpMlMks",
        "colab_type": "code",
        "colab": {}
      },
      "source": [
        "PATH_CSV = \"completeDataset.csv\""
      ],
      "execution_count": 0,
      "outputs": []
    },
    {
      "cell_type": "markdown",
      "metadata": {
        "id": "_ugu5pGr8G_h",
        "colab_type": "text"
      },
      "source": [
        "## Function to import data"
      ]
    },
    {
      "cell_type": "code",
      "metadata": {
        "id": "IIvtUzIi77ST",
        "colab_type": "code",
        "colab": {}
      },
      "source": [
        "import numpy as np\n",
        "import pandas as pd\n",
        "from sklearn.utils import shuffle\n",
        "\n",
        "RANDOM_SHUFFLE_SEED = 0\n",
        "\n",
        "#dataset\n",
        "features_considered = ['IQ','pressure','wind_direction','wind_force','humidity','temperature']\n",
        "\n",
        "DF = pd.read_csv(PATH_CSV, header=0, delimiter=';')\n",
        "DF['date'] = pd.to_datetime(DF['date'],utc=True)\n",
        "\n",
        "\n",
        "def importData(nb_prev_measures_for_predict):\n",
        "    print(\"=====IMPORT=====\")\n",
        "\n",
        "    features = DF[features_considered]\n",
        "    features.index = DF['date']\n",
        "\n",
        "    dataset_test = features.values\n",
        "\n",
        "    def higher_value(features,i):\n",
        "        return[row[i] for row in dataset_test]\n",
        "\n",
        "    max_pressure = max(higher_value(dataset_test,1))\n",
        "    max_wind_force = max(higher_value(dataset_test,3))\n",
        "    max_temperature = max(higher_value(dataset_test, 5))\n",
        "\n",
        "    #normalize\n",
        "    features['IQ'] = features['IQ'].apply(lambda x: x/10)\n",
        "    features['pressure'] = features['pressure'].apply(lambda x: x/max_pressure)\n",
        "    features['wind_force'] = features['wind_force'].apply(lambda x: x/max_wind_force)\n",
        "    features['humidity'] = features['humidity'].apply(lambda x: x/100)\n",
        "    features['temperature'] = features['temperature'].apply(lambda x: (x-273.15)/(max_temperature-273.15)) \n",
        "\n",
        "    #wind_direction to categorical\n",
        "    features = pd.concat([features, pd.get_dummies(features['wind_direction'])], axis=1)\n",
        "    features = features.drop(columns=[\"wind_direction\"])\n",
        "\n",
        "    x_train = []\n",
        "    y_train = []\n",
        "    countRow=0\n",
        "\n",
        "    for indexRow, rowx in features.iterrows():\n",
        "        # for each day we found with a value at 12:00\n",
        "        if indexRow.hour == 12 and countRow >= nb_prev_measures_for_predict:\n",
        "            try:\n",
        "                # indexes for x (the range is inversed as our data are from the oldest to the newest)\n",
        "                batchX = range(countRow, countRow - nb_prev_measures_for_predict, -1)\n",
        "                # indexes for y\n",
        "                batchY = [countRow+8,countRow+16,countRow+24]\n",
        "\n",
        "                #application\n",
        "                y_train.append(features.iloc[batchY][\"IQ\"].values)\n",
        "                x_train.append(features.iloc[batchX].values)\n",
        "            except:\n",
        "                print(\"To long for \",indexRow)\n",
        "        countRow+=1\n",
        "    \n",
        "    x_train = np.array(x_train)\n",
        "    y_train = np.array(y_train)\n",
        "    \n",
        "    x_train,y_train = shuffle(x_train,y_train, random_state=RANDOM_SHUFFLE_SEED)\n",
        "    \n",
        "    x_train = np.array(x_train)\n",
        "    y_train = np.array(y_train)\n",
        "    y_train = y_train.reshape(y_train.shape[0],3,1)\n",
        "    print(\"x_train :\",x_train.shape)\n",
        "    print(\"y_train :\",y_train.shape)\n",
        "    \n",
        "    print(\"====END IMPORT====\")\n",
        "    return(x_train,y_train)"
      ],
      "execution_count": 0,
      "outputs": []
    },
    {
      "cell_type": "markdown",
      "metadata": {
        "id": "8JsppRjQc6sT",
        "colab_type": "text"
      },
      "source": [
        "## Function to save the results"
      ]
    },
    {
      "cell_type": "markdown",
      "metadata": {
        "id": "k0zIoYFTbZ8l",
        "colab_type": "text"
      },
      "source": [
        "To save the results in a csv file:"
      ]
    },
    {
      "cell_type": "code",
      "metadata": {
        "id": "MBLufvQjazlw",
        "colab_type": "code",
        "outputId": "001ddf79-f04c-44fe-979e-653a3c0d748a",
        "colab": {
          "base_uri": "https://localhost:8080/",
          "height": 33
        }
      },
      "source": [
        "!mkdir logs\n",
        "!ls"
      ],
      "execution_count": 3,
      "outputs": [
        {
          "output_type": "stream",
          "text": [
            "completeDataset.csv  logs  sample_data\n"
          ],
          "name": "stdout"
        }
      ]
    },
    {
      "cell_type": "code",
      "metadata": {
        "id": "sHTdFSOVaS4s",
        "colab_type": "code",
        "colab": {}
      },
      "source": [
        "# code found here: https://stackoverflow.com/questions/42355122/can-i-export-a-tensorflow-summary-to-csv\n",
        "\n",
        "import os\n",
        "import numpy as np\n",
        "import pandas as pd\n",
        "\n",
        "from collections import defaultdict\n",
        "from tensorboard.backend.event_processing.event_accumulator import EventAccumulator\n",
        "\n",
        "\n",
        "def tabulate_events(dpath):\n",
        "\n",
        "    final_out = {}\n",
        "    for dname in os.listdir(dpath):\n",
        "        ea = EventAccumulator(os.path.join(dpath, dname)).Reload()\n",
        "        tags = ea.Tags()['scalars']\n",
        "\n",
        "        out = {}\n",
        "\n",
        "        for tag in tags:\n",
        "            tag_values=[]\n",
        "            wall_time=[]\n",
        "            steps=[]\n",
        "\n",
        "            for event in ea.Scalars(tag):\n",
        "                tag_values.append(event.value)\n",
        "                wall_time.append(event.wall_time)\n",
        "                steps.append(event.step)\n",
        "\n",
        "            out[tag]=pd.DataFrame(data=dict(zip(steps,np.array([tag_values,wall_time]).transpose())), columns=steps,index=['value','wall_time'])\n",
        "\n",
        "        if len(tags)>0:      \n",
        "            df= pd.concat(out.values(),keys=out.keys())\n",
        "            print(\"- Done\")\n",
        "        else:\n",
        "            print('- Not scalers to write')\n",
        "\n",
        "        final_out[dname] = df\n",
        "\n",
        "\n",
        "    return final_out\n",
        "\n",
        "def saveProgressCSV():\n",
        "  path = \"logs/\"\n",
        "  steps = tabulate_events(path)\n",
        "  pd.concat(steps.values(),keys=steps.keys()).to_csv('all_result.csv')"
      ],
      "execution_count": 0,
      "outputs": []
    },
    {
      "cell_type": "code",
      "metadata": {
        "id": "qdIVxzexflJE",
        "colab_type": "code",
        "colab": {
          "base_uri": "https://localhost:8080/",
          "height": 50
        },
        "outputId": "f0bbd302-3d18-400a-9e66-130e2752b85a"
      },
      "source": [
        "print(os.getcwd())\n",
        "print(os.listdir())"
      ],
      "execution_count": 5,
      "outputs": [
        {
          "output_type": "stream",
          "text": [
            "/content\n",
            "['.config', 'logs', 'completeDataset.csv', 'sample_data']\n"
          ],
          "name": "stdout"
        }
      ]
    },
    {
      "cell_type": "markdown",
      "metadata": {
        "id": "4hdaAffT9eJY",
        "colab_type": "text"
      },
      "source": [
        "# Test differents models"
      ]
    },
    {
      "cell_type": "markdown",
      "metadata": {
        "id": "42zKyRN2-kDU",
        "colab_type": "text"
      },
      "source": [
        "##Librairies and parameters:"
      ]
    },
    {
      "cell_type": "code",
      "metadata": {
        "id": "DleWURFo-jZl",
        "colab_type": "code",
        "outputId": "815a7dd3-bc39-4714-c49b-70e775112d0e",
        "colab": {
          "base_uri": "https://localhost:8080/",
          "height": 79
        }
      },
      "source": [
        "from keras.optimizers import RMSprop,Adam\n",
        "from keras.callbacks import TensorBoard,EarlyStopping\n",
        "from time import time\n",
        "from keras.models import Model\n",
        "from keras.layers import LSTM, Dense, Input\n",
        "from keras.models import save_model\n",
        "\n",
        "# PARAMS TO TEST\n",
        "EPOCHS = 200\n",
        "LR = 0.0005\n",
        "\n",
        "NUMBER_OBSERVATIONS = [8] #,16,24,36,80]\n",
        "LSTM_HIDDEN_UNITS = [32,128,512,1024]\n",
        "INTERMEDIATE_DENSE = [0,128,512,1024]\n",
        "OPTIMIZER = {\"RMS\" : RMSprop(LR),\"Adam\":Adam(LR)}"
      ],
      "execution_count": 6,
      "outputs": [
        {
          "output_type": "stream",
          "text": [
            "Using TensorFlow backend.\n"
          ],
          "name": "stderr"
        },
        {
          "output_type": "display_data",
          "data": {
            "text/html": [
              "<p style=\"color: red;\">\n",
              "The default version of TensorFlow in Colab will switch to TensorFlow 2.x on the 27th of March, 2020.<br>\n",
              "We recommend you <a href=\"https://www.tensorflow.org/guide/migrate\" target=\"_blank\">upgrade</a> now\n",
              "or ensure your notebook will continue to use TensorFlow 1.x via the <code>%tensorflow_version 1.x</code> magic:\n",
              "<a href=\"https://colab.research.google.com/notebooks/tensorflow_version.ipynb\" target=\"_blank\">more info</a>.</p>\n"
            ],
            "text/plain": [
              "<IPython.core.display.HTML object>"
            ]
          },
          "metadata": {
            "tags": []
          }
        }
      ]
    },
    {
      "cell_type": "markdown",
      "metadata": {
        "id": "OS8ljbx--nhJ",
        "colab_type": "text"
      },
      "source": [
        "## Main script"
      ]
    },
    {
      "cell_type": "code",
      "metadata": {
        "id": "7tg6DDbM9hU5",
        "colab_type": "code",
        "outputId": "ef3e04fc-9f6b-4ed6-8c0c-5176d29f8bb5",
        "colab": {
          "base_uri": "https://localhost:8080/",
          "height": 1000
        }
      },
      "source": [
        " for observations in NUMBER_OBSERVATIONS:\n",
        "  x_train,y_train = importData(observations)\n",
        "  trainLength = int(len(x_train)*0.8)\n",
        "  x,x_val = x_train[:trainLength],x_train[trainLength:]\n",
        "  y,y_val = y_train[:trainLength],y_train[trainLength:]\n",
        "  for opti in OPTIMIZER:\n",
        "    for hiddenUnit in LSTM_HIDDEN_UNITS:\n",
        "      for denseSize in INTERMEDIATE_DENSE:\n",
        "        name = f\"nobs{observations}-opti{opti}-lr{LR}-hid{hiddenUnit}-dens{denseSize}-time{int(time())}\"\n",
        "        print(name)\n",
        "        try:\n",
        "          callbackName = str('logs/{}'.format(name))\n",
        "          tensor_board = TensorBoard(callbackName)\n",
        "\n",
        "          input_shape = (x_train.shape[-2],x_train.shape[-1])\n",
        "          inp = Input(input_shape)\n",
        "          d = LSTM(hiddenUnit,input_shape=input_shape,name='LSTM_layer')(inp)\n",
        "          if denseSize>0:\n",
        "           d = Dense(denseSize,name=\"Intermediate_dense_layer\")(d)\n",
        "    \n",
        "          outD1 = Dense(1,name=\"D1\")(d)\n",
        "          outD2 = Dense(1,name=\"D2\")(d)\n",
        "          outD3 = Dense(1,name=\"D3\")(d)\n",
        "    \n",
        "          model = Model(inputs=[inp], outputs=[outD1, outD2, outD3])    \n",
        "          model.compile(optimizer=OPTIMIZER[opti], loss={'D1': 'mse', 'D2': 'mse', 'D3': 'mse'}, metrics={'D1': 'mae', 'D2': 'mae', 'D3': 'mae'})\n",
        "                    \n",
        "          model.fit(x=x, y=[y[:,0],y[:,1],y[:,2]], validation_data=(x_val,[y_val[:,0],y_val[:,1],y_val[:,2]]),epochs=EPOCHS,callbacks = [tensor_board],verbose=0)\n",
        "\n",
        "        except:\n",
        "          print(\"Error: \",name)\n",
        "      saveProgressCSV()"
      ],
      "execution_count": 7,
      "outputs": [
        {
          "output_type": "stream",
          "text": [
            "=====IMPORT=====\n"
          ],
          "name": "stdout"
        },
        {
          "output_type": "stream",
          "text": [
            "/usr/local/lib/python3.6/dist-packages/ipykernel_launcher.py:30: SettingWithCopyWarning: \n",
            "A value is trying to be set on a copy of a slice from a DataFrame.\n",
            "Try using .loc[row_indexer,col_indexer] = value instead\n",
            "\n",
            "See the caveats in the documentation: http://pandas.pydata.org/pandas-docs/stable/user_guide/indexing.html#returning-a-view-versus-a-copy\n",
            "/usr/local/lib/python3.6/dist-packages/ipykernel_launcher.py:31: SettingWithCopyWarning: \n",
            "A value is trying to be set on a copy of a slice from a DataFrame.\n",
            "Try using .loc[row_indexer,col_indexer] = value instead\n",
            "\n",
            "See the caveats in the documentation: http://pandas.pydata.org/pandas-docs/stable/user_guide/indexing.html#returning-a-view-versus-a-copy\n",
            "/usr/local/lib/python3.6/dist-packages/ipykernel_launcher.py:32: SettingWithCopyWarning: \n",
            "A value is trying to be set on a copy of a slice from a DataFrame.\n",
            "Try using .loc[row_indexer,col_indexer] = value instead\n",
            "\n",
            "See the caveats in the documentation: http://pandas.pydata.org/pandas-docs/stable/user_guide/indexing.html#returning-a-view-versus-a-copy\n",
            "/usr/local/lib/python3.6/dist-packages/ipykernel_launcher.py:33: SettingWithCopyWarning: \n",
            "A value is trying to be set on a copy of a slice from a DataFrame.\n",
            "Try using .loc[row_indexer,col_indexer] = value instead\n",
            "\n",
            "See the caveats in the documentation: http://pandas.pydata.org/pandas-docs/stable/user_guide/indexing.html#returning-a-view-versus-a-copy\n",
            "/usr/local/lib/python3.6/dist-packages/ipykernel_launcher.py:34: SettingWithCopyWarning: \n",
            "A value is trying to be set on a copy of a slice from a DataFrame.\n",
            "Try using .loc[row_indexer,col_indexer] = value instead\n",
            "\n",
            "See the caveats in the documentation: http://pandas.pydata.org/pandas-docs/stable/user_guide/indexing.html#returning-a-view-versus-a-copy\n"
          ],
          "name": "stderr"
        },
        {
          "output_type": "stream",
          "text": [
            "To long for  2020-02-27 12:00:00+00:00\n",
            "To long for  2020-02-28 12:00:00+00:00\n",
            "To long for  2020-02-29 12:00:00+00:00\n",
            "x_train : (785, 8, 42)\n",
            "y_train : (785, 3, 1)\n",
            "====END IMPORT====\n",
            "nobs8-optiRMS-lr0.0005-hid32-dens0-time1585305653\n",
            "WARNING:tensorflow:From /usr/local/lib/python3.6/dist-packages/keras/backend/tensorflow_backend.py:66: The name tf.get_default_graph is deprecated. Please use tf.compat.v1.get_default_graph instead.\n",
            "\n",
            "WARNING:tensorflow:From /usr/local/lib/python3.6/dist-packages/keras/backend/tensorflow_backend.py:541: The name tf.placeholder is deprecated. Please use tf.compat.v1.placeholder instead.\n",
            "\n",
            "WARNING:tensorflow:From /usr/local/lib/python3.6/dist-packages/keras/backend/tensorflow_backend.py:4432: The name tf.random_uniform is deprecated. Please use tf.random.uniform instead.\n",
            "\n",
            "WARNING:tensorflow:From /usr/local/lib/python3.6/dist-packages/keras/optimizers.py:793: The name tf.train.Optimizer is deprecated. Please use tf.compat.v1.train.Optimizer instead.\n",
            "\n",
            "WARNING:tensorflow:From /tensorflow-1.15.2/python3.6/tensorflow_core/python/ops/math_grad.py:1424: where (from tensorflow.python.ops.array_ops) is deprecated and will be removed in a future version.\n",
            "Instructions for updating:\n",
            "Use tf.where in 2.0, which has the same broadcast rule as np.where\n",
            "WARNING:tensorflow:From /usr/local/lib/python3.6/dist-packages/keras/backend/tensorflow_backend.py:1033: The name tf.assign_add is deprecated. Please use tf.compat.v1.assign_add instead.\n",
            "\n",
            "WARNING:tensorflow:From /usr/local/lib/python3.6/dist-packages/keras/backend/tensorflow_backend.py:1020: The name tf.assign is deprecated. Please use tf.compat.v1.assign instead.\n",
            "\n",
            "WARNING:tensorflow:From /usr/local/lib/python3.6/dist-packages/keras/backend/tensorflow_backend.py:3005: The name tf.Session is deprecated. Please use tf.compat.v1.Session instead.\n",
            "\n",
            "WARNING:tensorflow:From /usr/local/lib/python3.6/dist-packages/keras/backend/tensorflow_backend.py:190: The name tf.get_default_session is deprecated. Please use tf.compat.v1.get_default_session instead.\n",
            "\n",
            "WARNING:tensorflow:From /usr/local/lib/python3.6/dist-packages/keras/backend/tensorflow_backend.py:197: The name tf.ConfigProto is deprecated. Please use tf.compat.v1.ConfigProto instead.\n",
            "\n",
            "WARNING:tensorflow:From /usr/local/lib/python3.6/dist-packages/keras/backend/tensorflow_backend.py:207: The name tf.global_variables is deprecated. Please use tf.compat.v1.global_variables instead.\n",
            "\n",
            "WARNING:tensorflow:From /usr/local/lib/python3.6/dist-packages/keras/backend/tensorflow_backend.py:216: The name tf.is_variable_initialized is deprecated. Please use tf.compat.v1.is_variable_initialized instead.\n",
            "\n",
            "WARNING:tensorflow:From /usr/local/lib/python3.6/dist-packages/keras/backend/tensorflow_backend.py:223: The name tf.variables_initializer is deprecated. Please use tf.compat.v1.variables_initializer instead.\n",
            "\n",
            "WARNING:tensorflow:From /usr/local/lib/python3.6/dist-packages/keras/callbacks.py:1122: The name tf.summary.merge_all is deprecated. Please use tf.compat.v1.summary.merge_all instead.\n",
            "\n",
            "WARNING:tensorflow:From /usr/local/lib/python3.6/dist-packages/keras/callbacks.py:1125: The name tf.summary.FileWriter is deprecated. Please use tf.compat.v1.summary.FileWriter instead.\n",
            "\n",
            "WARNING:tensorflow:From /usr/local/lib/python3.6/dist-packages/keras/callbacks.py:1265: The name tf.Summary is deprecated. Please use tf.compat.v1.Summary instead.\n",
            "\n",
            "nobs8-optiRMS-lr0.0005-hid32-dens128-time1585305731\n",
            "nobs8-optiRMS-lr0.0005-hid32-dens512-time1585305798\n",
            "nobs8-optiRMS-lr0.0005-hid32-dens1024-time1585305866\n",
            "Converting run nobs8-optiRMS-lr0.0005-hid32-dens0-time1585305653- Done\n",
            "Converting run nobs8-optiRMS-lr0.0005-hid32-dens512-time1585305798- Done\n",
            "Converting run nobs8-optiRMS-lr0.0005-hid32-dens128-time1585305731- Done\n",
            "Converting run nobs8-optiRMS-lr0.0005-hid32-dens1024-time1585305866- Done\n",
            "nobs8-optiRMS-lr0.0005-hid128-dens0-time1585305933\n",
            "nobs8-optiRMS-lr0.0005-hid128-dens128-time1585306000\n",
            "nobs8-optiRMS-lr0.0005-hid128-dens512-time1585306071\n",
            "nobs8-optiRMS-lr0.0005-hid128-dens1024-time1585306140\n",
            "Converting run nobs8-optiRMS-lr0.0005-hid128-dens1024-time1585306140- Done\n",
            "Converting run nobs8-optiRMS-lr0.0005-hid32-dens0-time1585305653- Done\n",
            "Converting run nobs8-optiRMS-lr0.0005-hid32-dens512-time1585305798- Done\n",
            "Converting run nobs8-optiRMS-lr0.0005-hid128-dens0-time1585305933- Done\n",
            "Converting run nobs8-optiRMS-lr0.0005-hid32-dens128-time1585305731- Done\n",
            "Converting run nobs8-optiRMS-lr0.0005-hid128-dens512-time1585306071- Done\n",
            "Converting run nobs8-optiRMS-lr0.0005-hid128-dens128-time1585306000- Done\n",
            "Converting run nobs8-optiRMS-lr0.0005-hid32-dens1024-time1585305866- Done\n",
            "nobs8-optiRMS-lr0.0005-hid512-dens0-time1585306211\n",
            "nobs8-optiRMS-lr0.0005-hid512-dens128-time1585306286\n",
            "nobs8-optiRMS-lr0.0005-hid512-dens512-time1585306361\n",
            "nobs8-optiRMS-lr0.0005-hid512-dens1024-time1585306437\n",
            "Converting run nobs8-optiRMS-lr0.0005-hid128-dens1024-time1585306140- Done\n",
            "Converting run nobs8-optiRMS-lr0.0005-hid512-dens128-time1585306286- Done\n",
            "Converting run nobs8-optiRMS-lr0.0005-hid512-dens1024-time1585306437- Done\n",
            "Converting run nobs8-optiRMS-lr0.0005-hid512-dens512-time1585306361- Done\n",
            "Converting run nobs8-optiRMS-lr0.0005-hid32-dens0-time1585305653- Done\n",
            "Converting run nobs8-optiRMS-lr0.0005-hid32-dens512-time1585305798- Done\n",
            "Converting run nobs8-optiRMS-lr0.0005-hid128-dens0-time1585305933- Done\n",
            "Converting run nobs8-optiRMS-lr0.0005-hid32-dens128-time1585305731- Done\n",
            "Converting run nobs8-optiRMS-lr0.0005-hid128-dens512-time1585306071- Done\n",
            "Converting run nobs8-optiRMS-lr0.0005-hid512-dens0-time1585306211- Done\n",
            "Converting run nobs8-optiRMS-lr0.0005-hid128-dens128-time1585306000- Done\n",
            "Converting run nobs8-optiRMS-lr0.0005-hid32-dens1024-time1585305866- Done\n",
            "nobs8-optiRMS-lr0.0005-hid1024-dens0-time1585306515\n",
            "nobs8-optiRMS-lr0.0005-hid1024-dens128-time1585306621\n",
            "nobs8-optiRMS-lr0.0005-hid1024-dens512-time1585306730\n",
            "nobs8-optiRMS-lr0.0005-hid1024-dens1024-time1585306839\n",
            "Converting run nobs8-optiRMS-lr0.0005-hid1024-dens1024-time1585306839- Done\n",
            "Converting run nobs8-optiRMS-lr0.0005-hid128-dens1024-time1585306140- Done\n",
            "Converting run nobs8-optiRMS-lr0.0005-hid1024-dens0-time1585306515- Done\n",
            "Converting run nobs8-optiRMS-lr0.0005-hid512-dens128-time1585306286- Done\n",
            "Converting run nobs8-optiRMS-lr0.0005-hid512-dens1024-time1585306437- Done\n",
            "Converting run nobs8-optiRMS-lr0.0005-hid1024-dens512-time1585306730- Done\n",
            "Converting run nobs8-optiRMS-lr0.0005-hid1024-dens128-time1585306621- Done\n",
            "Converting run nobs8-optiRMS-lr0.0005-hid512-dens512-time1585306361- Done\n",
            "Converting run nobs8-optiRMS-lr0.0005-hid32-dens0-time1585305653- Done\n",
            "Converting run nobs8-optiRMS-lr0.0005-hid32-dens512-time1585305798- Done\n",
            "Converting run nobs8-optiRMS-lr0.0005-hid128-dens0-time1585305933- Done\n",
            "Converting run nobs8-optiRMS-lr0.0005-hid32-dens128-time1585305731- Done\n",
            "Converting run nobs8-optiRMS-lr0.0005-hid128-dens512-time1585306071- Done\n",
            "Converting run nobs8-optiRMS-lr0.0005-hid512-dens0-time1585306211- Done\n",
            "Converting run nobs8-optiRMS-lr0.0005-hid128-dens128-time1585306000- Done\n",
            "Converting run nobs8-optiRMS-lr0.0005-hid32-dens1024-time1585305866- Done\n",
            "nobs8-optiAdam-lr0.0005-hid32-dens0-time1585306953\n",
            "nobs8-optiAdam-lr0.0005-hid32-dens128-time1585307025\n",
            "nobs8-optiAdam-lr0.0005-hid32-dens512-time1585307101\n",
            "nobs8-optiAdam-lr0.0005-hid32-dens1024-time1585307176\n",
            "Converting run nobs8-optiRMS-lr0.0005-hid1024-dens1024-time1585306839- Done\n",
            "Converting run nobs8-optiRMS-lr0.0005-hid128-dens1024-time1585306140- Done\n",
            "Converting run nobs8-optiRMS-lr0.0005-hid1024-dens0-time1585306515- Done\n",
            "Converting run nobs8-optiRMS-lr0.0005-hid512-dens128-time1585306286- Done\n",
            "Converting run nobs8-optiRMS-lr0.0005-hid512-dens1024-time1585306437- Done\n",
            "Converting run nobs8-optiRMS-lr0.0005-hid1024-dens512-time1585306730- Done\n",
            "Converting run nobs8-optiAdam-lr0.0005-hid32-dens0-time1585306953- Done\n",
            "Converting run nobs8-optiRMS-lr0.0005-hid1024-dens128-time1585306621- Done\n",
            "Converting run nobs8-optiRMS-lr0.0005-hid512-dens512-time1585306361- Done\n",
            "Converting run nobs8-optiRMS-lr0.0005-hid32-dens0-time1585305653- Done\n",
            "Converting run nobs8-optiRMS-lr0.0005-hid32-dens512-time1585305798- Done\n",
            "Converting run nobs8-optiRMS-lr0.0005-hid128-dens0-time1585305933- Done\n",
            "Converting run nobs8-optiAdam-lr0.0005-hid32-dens512-time1585307101- Done\n",
            "Converting run nobs8-optiRMS-lr0.0005-hid32-dens128-time1585305731- Done\n",
            "Converting run nobs8-optiRMS-lr0.0005-hid128-dens512-time1585306071- Done\n",
            "Converting run nobs8-optiRMS-lr0.0005-hid512-dens0-time1585306211- Done\n",
            "Converting run nobs8-optiAdam-lr0.0005-hid32-dens1024-time1585307176- Done\n",
            "Converting run nobs8-optiRMS-lr0.0005-hid128-dens128-time1585306000- Done\n",
            "Converting run nobs8-optiRMS-lr0.0005-hid32-dens1024-time1585305866- Done\n",
            "Converting run nobs8-optiAdam-lr0.0005-hid32-dens128-time1585307025- Done\n",
            "nobs8-optiAdam-lr0.0005-hid128-dens0-time1585307257\n",
            "nobs8-optiAdam-lr0.0005-hid128-dens128-time1585307332\n",
            "nobs8-optiAdam-lr0.0005-hid128-dens512-time1585307409\n",
            "nobs8-optiAdam-lr0.0005-hid128-dens1024-time1585307487\n",
            "Converting run nobs8-optiRMS-lr0.0005-hid1024-dens1024-time1585306839- Done\n",
            "Converting run nobs8-optiRMS-lr0.0005-hid128-dens1024-time1585306140- Done\n",
            "Converting run nobs8-optiAdam-lr0.0005-hid128-dens128-time1585307332- Done\n",
            "Converting run nobs8-optiRMS-lr0.0005-hid1024-dens0-time1585306515- Done\n",
            "Converting run nobs8-optiRMS-lr0.0005-hid512-dens128-time1585306286- Done\n",
            "Converting run nobs8-optiRMS-lr0.0005-hid512-dens1024-time1585306437- Done\n",
            "Converting run nobs8-optiRMS-lr0.0005-hid1024-dens512-time1585306730- Done\n",
            "Converting run nobs8-optiAdam-lr0.0005-hid32-dens0-time1585306953- Done\n",
            "Converting run nobs8-optiRMS-lr0.0005-hid1024-dens128-time1585306621- Done\n",
            "Converting run nobs8-optiRMS-lr0.0005-hid512-dens512-time1585306361- Done\n",
            "Converting run nobs8-optiRMS-lr0.0005-hid32-dens0-time1585305653- Done\n",
            "Converting run nobs8-optiRMS-lr0.0005-hid32-dens512-time1585305798- Done\n",
            "Converting run nobs8-optiRMS-lr0.0005-hid128-dens0-time1585305933- Done\n",
            "Converting run nobs8-optiAdam-lr0.0005-hid32-dens512-time1585307101- Done\n",
            "Converting run nobs8-optiAdam-lr0.0005-hid128-dens0-time1585307257- Done\n",
            "Converting run nobs8-optiAdam-lr0.0005-hid128-dens512-time1585307409- Done\n",
            "Converting run nobs8-optiAdam-lr0.0005-hid128-dens1024-time1585307487- Done\n",
            "Converting run nobs8-optiRMS-lr0.0005-hid32-dens128-time1585305731- Done\n",
            "Converting run nobs8-optiRMS-lr0.0005-hid128-dens512-time1585306071- Done\n",
            "Converting run nobs8-optiRMS-lr0.0005-hid512-dens0-time1585306211- Done\n",
            "Converting run nobs8-optiAdam-lr0.0005-hid32-dens1024-time1585307176- Done\n",
            "Converting run nobs8-optiRMS-lr0.0005-hid128-dens128-time1585306000- Done\n",
            "Converting run nobs8-optiRMS-lr0.0005-hid32-dens1024-time1585305866- Done\n",
            "Converting run nobs8-optiAdam-lr0.0005-hid32-dens128-time1585307025- Done\n",
            "nobs8-optiAdam-lr0.0005-hid512-dens0-time1585307574\n",
            "nobs8-optiAdam-lr0.0005-hid512-dens128-time1585307665\n",
            "nobs8-optiAdam-lr0.0005-hid512-dens512-time1585307758\n",
            "nobs8-optiAdam-lr0.0005-hid512-dens1024-time1585307852\n",
            "Converting run nobs8-optiRMS-lr0.0005-hid1024-dens1024-time1585306839- Done\n",
            "Converting run nobs8-optiRMS-lr0.0005-hid128-dens1024-time1585306140- Done\n",
            "Converting run nobs8-optiAdam-lr0.0005-hid128-dens128-time1585307332- Done\n",
            "Converting run nobs8-optiAdam-lr0.0005-hid512-dens128-time1585307665- Done\n",
            "Converting run nobs8-optiRMS-lr0.0005-hid1024-dens0-time1585306515- Done\n",
            "Converting run nobs8-optiRMS-lr0.0005-hid512-dens128-time1585306286- Done\n",
            "Converting run nobs8-optiRMS-lr0.0005-hid512-dens1024-time1585306437- Done\n",
            "Converting run nobs8-optiAdam-lr0.0005-hid512-dens1024-time1585307852- Done\n",
            "Converting run nobs8-optiAdam-lr0.0005-hid512-dens512-time1585307758- Done\n",
            "Converting run nobs8-optiRMS-lr0.0005-hid1024-dens512-time1585306730- Done\n",
            "Converting run nobs8-optiAdam-lr0.0005-hid32-dens0-time1585306953- Done\n",
            "Converting run nobs8-optiRMS-lr0.0005-hid1024-dens128-time1585306621- Done\n",
            "Converting run nobs8-optiRMS-lr0.0005-hid512-dens512-time1585306361- Done\n",
            "Converting run nobs8-optiRMS-lr0.0005-hid32-dens0-time1585305653- Done\n",
            "Converting run nobs8-optiRMS-lr0.0005-hid32-dens512-time1585305798- Done\n",
            "Converting run nobs8-optiRMS-lr0.0005-hid128-dens0-time1585305933- Done\n",
            "Converting run nobs8-optiAdam-lr0.0005-hid32-dens512-time1585307101- Done\n",
            "Converting run nobs8-optiAdam-lr0.0005-hid128-dens0-time1585307257- Done\n",
            "Converting run nobs8-optiAdam-lr0.0005-hid128-dens512-time1585307409- Done\n",
            "Converting run nobs8-optiAdam-lr0.0005-hid128-dens1024-time1585307487- Done\n",
            "Converting run nobs8-optiRMS-lr0.0005-hid32-dens128-time1585305731- Done\n",
            "Converting run nobs8-optiRMS-lr0.0005-hid128-dens512-time1585306071- Done\n",
            "Converting run nobs8-optiRMS-lr0.0005-hid512-dens0-time1585306211- Done\n",
            "Converting run nobs8-optiAdam-lr0.0005-hid32-dens1024-time1585307176- Done\n",
            "Converting run nobs8-optiAdam-lr0.0005-hid512-dens0-time1585307574- Done\n",
            "Converting run nobs8-optiRMS-lr0.0005-hid128-dens128-time1585306000- Done\n",
            "Converting run nobs8-optiRMS-lr0.0005-hid32-dens1024-time1585305866- Done\n",
            "Converting run nobs8-optiAdam-lr0.0005-hid32-dens128-time1585307025- Done\n",
            "nobs8-optiAdam-lr0.0005-hid1024-dens0-time1585307953\n",
            "nobs8-optiAdam-lr0.0005-hid1024-dens128-time1585308078\n",
            "nobs8-optiAdam-lr0.0005-hid1024-dens512-time1585308205\n",
            "nobs8-optiAdam-lr0.0005-hid1024-dens1024-time1585308335\n",
            "Converting run nobs8-optiRMS-lr0.0005-hid1024-dens1024-time1585306839- Done\n",
            "Converting run nobs8-optiRMS-lr0.0005-hid128-dens1024-time1585306140- Done\n",
            "Converting run nobs8-optiAdam-lr0.0005-hid128-dens128-time1585307332- Done\n",
            "Converting run nobs8-optiAdam-lr0.0005-hid512-dens128-time1585307665- Done\n",
            "Converting run nobs8-optiRMS-lr0.0005-hid1024-dens0-time1585306515- Done\n",
            "Converting run nobs8-optiRMS-lr0.0005-hid512-dens128-time1585306286- Done\n",
            "Converting run nobs8-optiRMS-lr0.0005-hid512-dens1024-time1585306437- Done\n",
            "Converting run nobs8-optiAdam-lr0.0005-hid1024-dens0-time1585307953- Done\n",
            "Converting run nobs8-optiAdam-lr0.0005-hid512-dens1024-time1585307852- Done\n",
            "Converting run nobs8-optiAdam-lr0.0005-hid512-dens512-time1585307758- Done\n",
            "Converting run nobs8-optiRMS-lr0.0005-hid1024-dens512-time1585306730- Done\n",
            "Converting run nobs8-optiAdam-lr0.0005-hid32-dens0-time1585306953- Done\n",
            "Converting run nobs8-optiRMS-lr0.0005-hid1024-dens128-time1585306621- Done\n",
            "Converting run nobs8-optiRMS-lr0.0005-hid512-dens512-time1585306361- Done\n",
            "Converting run nobs8-optiRMS-lr0.0005-hid32-dens0-time1585305653- Done\n",
            "Converting run nobs8-optiRMS-lr0.0005-hid32-dens512-time1585305798- Done\n",
            "Converting run nobs8-optiRMS-lr0.0005-hid128-dens0-time1585305933- Done\n",
            "Converting run nobs8-optiAdam-lr0.0005-hid32-dens512-time1585307101- Done\n",
            "Converting run nobs8-optiAdam-lr0.0005-hid128-dens0-time1585307257- Done\n",
            "Converting run nobs8-optiAdam-lr0.0005-hid128-dens512-time1585307409- Done\n",
            "Converting run nobs8-optiAdam-lr0.0005-hid1024-dens512-time1585308205- Done\n",
            "Converting run nobs8-optiAdam-lr0.0005-hid128-dens1024-time1585307487- Done\n",
            "Converting run nobs8-optiRMS-lr0.0005-hid32-dens128-time1585305731- Done\n",
            "Converting run nobs8-optiAdam-lr0.0005-hid1024-dens1024-time1585308335- Done\n",
            "Converting run nobs8-optiRMS-lr0.0005-hid128-dens512-time1585306071- Done\n",
            "Converting run nobs8-optiAdam-lr0.0005-hid1024-dens128-time1585308078- Done\n",
            "Converting run nobs8-optiRMS-lr0.0005-hid512-dens0-time1585306211- Done\n",
            "Converting run nobs8-optiAdam-lr0.0005-hid32-dens1024-time1585307176- Done\n",
            "Converting run nobs8-optiAdam-lr0.0005-hid512-dens0-time1585307574- Done\n",
            "Converting run nobs8-optiRMS-lr0.0005-hid128-dens128-time1585306000- Done\n",
            "Converting run nobs8-optiRMS-lr0.0005-hid32-dens1024-time1585305866- Done\n",
            "Converting run nobs8-optiAdam-lr0.0005-hid32-dens128-time1585307025- Done\n"
          ],
          "name": "stdout"
        }
      ]
    },
    {
      "cell_type": "code",
      "metadata": {
        "id": "gMRZbJOyMaEf",
        "colab_type": "code",
        "colab": {
          "base_uri": "https://localhost:8080/",
          "height": 567
        },
        "outputId": "d9655ba5-8a91-4b23-b198-5c557b761a61"
      },
      "source": [
        "print(\"end!\",time())\n",
        "!ls logs/"
      ],
      "execution_count": 8,
      "outputs": [
        {
          "output_type": "stream",
          "text": [
            "end! 1585308476.1885016\n",
            "nobs8-optiAdam-lr0.0005-hid1024-dens0-time1585307953\n",
            "nobs8-optiAdam-lr0.0005-hid1024-dens1024-time1585308335\n",
            "nobs8-optiAdam-lr0.0005-hid1024-dens128-time1585308078\n",
            "nobs8-optiAdam-lr0.0005-hid1024-dens512-time1585308205\n",
            "nobs8-optiAdam-lr0.0005-hid128-dens0-time1585307257\n",
            "nobs8-optiAdam-lr0.0005-hid128-dens1024-time1585307487\n",
            "nobs8-optiAdam-lr0.0005-hid128-dens128-time1585307332\n",
            "nobs8-optiAdam-lr0.0005-hid128-dens512-time1585307409\n",
            "nobs8-optiAdam-lr0.0005-hid32-dens0-time1585306953\n",
            "nobs8-optiAdam-lr0.0005-hid32-dens1024-time1585307176\n",
            "nobs8-optiAdam-lr0.0005-hid32-dens128-time1585307025\n",
            "nobs8-optiAdam-lr0.0005-hid32-dens512-time1585307101\n",
            "nobs8-optiAdam-lr0.0005-hid512-dens0-time1585307574\n",
            "nobs8-optiAdam-lr0.0005-hid512-dens1024-time1585307852\n",
            "nobs8-optiAdam-lr0.0005-hid512-dens128-time1585307665\n",
            "nobs8-optiAdam-lr0.0005-hid512-dens512-time1585307758\n",
            "nobs8-optiRMS-lr0.0005-hid1024-dens0-time1585306515\n",
            "nobs8-optiRMS-lr0.0005-hid1024-dens1024-time1585306839\n",
            "nobs8-optiRMS-lr0.0005-hid1024-dens128-time1585306621\n",
            "nobs8-optiRMS-lr0.0005-hid1024-dens512-time1585306730\n",
            "nobs8-optiRMS-lr0.0005-hid128-dens0-time1585305933\n",
            "nobs8-optiRMS-lr0.0005-hid128-dens1024-time1585306140\n",
            "nobs8-optiRMS-lr0.0005-hid128-dens128-time1585306000\n",
            "nobs8-optiRMS-lr0.0005-hid128-dens512-time1585306071\n",
            "nobs8-optiRMS-lr0.0005-hid32-dens0-time1585305653\n",
            "nobs8-optiRMS-lr0.0005-hid32-dens1024-time1585305866\n",
            "nobs8-optiRMS-lr0.0005-hid32-dens128-time1585305731\n",
            "nobs8-optiRMS-lr0.0005-hid32-dens512-time1585305798\n",
            "nobs8-optiRMS-lr0.0005-hid512-dens0-time1585306211\n",
            "nobs8-optiRMS-lr0.0005-hid512-dens1024-time1585306437\n",
            "nobs8-optiRMS-lr0.0005-hid512-dens128-time1585306286\n",
            "nobs8-optiRMS-lr0.0005-hid512-dens512-time1585306361\n"
          ],
          "name": "stdout"
        }
      ]
    },
    {
      "cell_type": "code",
      "metadata": {
        "id": "oZe306L0h4FY",
        "colab_type": "code",
        "colab": {}
      },
      "source": [
        "from google.colab import files\n",
        "files.download(\"all_result.csv\")"
      ],
      "execution_count": 0,
      "outputs": []
    }
  ]
}