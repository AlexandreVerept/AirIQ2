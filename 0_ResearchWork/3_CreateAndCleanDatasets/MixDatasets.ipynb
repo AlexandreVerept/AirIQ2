{
 "cells": [
  {
   "cell_type": "markdown",
   "metadata": {},
   "source": [
    "# Mix datasets\n",
    "\n",
    "This script mix all our datasets together in a way to have everything we need in only one file."
   ]
  },
  {
   "cell_type": "code",
   "execution_count": 1,
   "metadata": {},
   "outputs": [],
   "source": [
    "import pandas as pd\n",
    "from datetime import datetime"
   ]
  },
  {
   "cell_type": "markdown",
   "metadata": {},
   "source": [
    "### Import datasets\n",
    "\n",
    "#### IQ :"
   ]
  },
  {
   "cell_type": "code",
   "execution_count": 2,
   "metadata": {},
   "outputs": [
    {
     "data": {
      "text/html": [
       "<div>\n",
       "<style scoped>\n",
       "    .dataframe tbody tr th:only-of-type {\n",
       "        vertical-align: middle;\n",
       "    }\n",
       "\n",
       "    .dataframe tbody tr th {\n",
       "        vertical-align: top;\n",
       "    }\n",
       "\n",
       "    .dataframe thead th {\n",
       "        text-align: right;\n",
       "    }\n",
       "</style>\n",
       "<table border=\"1\" class=\"dataframe\">\n",
       "  <thead>\n",
       "    <tr style=\"text-align: right;\">\n",
       "      <th></th>\n",
       "      <th>date</th>\n",
       "      <th>IQ</th>\n",
       "    </tr>\n",
       "  </thead>\n",
       "  <tbody>\n",
       "    <tr>\n",
       "      <th>0</th>\n",
       "      <td>2019-01-01 00:00:00+00:00</td>\n",
       "      <td>3</td>\n",
       "    </tr>\n",
       "    <tr>\n",
       "      <th>1</th>\n",
       "      <td>2019-01-02 00:00:00+00:00</td>\n",
       "      <td>3</td>\n",
       "    </tr>\n",
       "    <tr>\n",
       "      <th>2</th>\n",
       "      <td>2019-01-03 00:00:00+00:00</td>\n",
       "      <td>4</td>\n",
       "    </tr>\n",
       "    <tr>\n",
       "      <th>3</th>\n",
       "      <td>2019-01-04 00:00:00+00:00</td>\n",
       "      <td>4</td>\n",
       "    </tr>\n",
       "    <tr>\n",
       "      <th>4</th>\n",
       "      <td>2019-01-05 00:00:00+00:00</td>\n",
       "      <td>4</td>\n",
       "    </tr>\n",
       "  </tbody>\n",
       "</table>\n",
       "</div>"
      ],
      "text/plain": [
       "                       date  IQ\n",
       "0 2019-01-01 00:00:00+00:00   3\n",
       "1 2019-01-02 00:00:00+00:00   3\n",
       "2 2019-01-03 00:00:00+00:00   4\n",
       "3 2019-01-04 00:00:00+00:00   4\n",
       "4 2019-01-05 00:00:00+00:00   4"
      ]
     },
     "execution_count": 2,
     "metadata": {},
     "output_type": "execute_result"
    }
   ],
   "source": [
    "dfiq = pd.read_csv(\"HistoricDataset/iqComplete/completeIQDataset.csv\", header=0, delimiter=';')\n",
    "dfiq['date'] = pd.to_datetime(dfiq['date'],utc=True)\n",
    "dfiq.head()"
   ]
  },
  {
   "cell_type": "code",
   "execution_count": 3,
   "metadata": {},
   "outputs": [
    {
     "data": {
      "text/plain": [
       "date    datetime64[ns, UTC]\n",
       "IQ                    int64\n",
       "dtype: object"
      ]
     },
     "execution_count": 3,
     "metadata": {},
     "output_type": "execute_result"
    }
   ],
   "source": [
    "dfiq.dtypes"
   ]
  },
  {
   "cell_type": "code",
   "execution_count": 4,
   "metadata": {},
   "outputs": [
    {
     "data": {
      "text/plain": [
       "448"
      ]
     },
     "execution_count": 4,
     "metadata": {},
     "output_type": "execute_result"
    }
   ],
   "source": [
    "len(dfiq)"
   ]
  },
  {
   "cell_type": "markdown",
   "metadata": {},
   "source": [
    "#### Synop : "
   ]
  },
  {
   "cell_type": "code",
   "execution_count": 5,
   "metadata": {},
   "outputs": [
    {
     "data": {
      "text/html": [
       "<div>\n",
       "<style scoped>\n",
       "    .dataframe tbody tr th:only-of-type {\n",
       "        vertical-align: middle;\n",
       "    }\n",
       "\n",
       "    .dataframe tbody tr th {\n",
       "        vertical-align: top;\n",
       "    }\n",
       "\n",
       "    .dataframe thead th {\n",
       "        text-align: right;\n",
       "    }\n",
       "</style>\n",
       "<table border=\"1\" class=\"dataframe\">\n",
       "  <thead>\n",
       "    <tr style=\"text-align: right;\">\n",
       "      <th></th>\n",
       "      <th>date</th>\n",
       "      <th>pressure</th>\n",
       "      <th>wind_direction</th>\n",
       "      <th>wind_force</th>\n",
       "      <th>humidity</th>\n",
       "      <th>temperature</th>\n",
       "    </tr>\n",
       "  </thead>\n",
       "  <tbody>\n",
       "    <tr>\n",
       "      <th>0</th>\n",
       "      <td>1996-01-01 00:00:00+00:00</td>\n",
       "      <td>99380</td>\n",
       "      <td>0</td>\n",
       "      <td>0.0</td>\n",
       "      <td>96</td>\n",
       "      <td>275.95</td>\n",
       "    </tr>\n",
       "    <tr>\n",
       "      <th>1</th>\n",
       "      <td>1996-01-01 03:00:00+00:00</td>\n",
       "      <td>99440</td>\n",
       "      <td>150</td>\n",
       "      <td>2.0</td>\n",
       "      <td>97</td>\n",
       "      <td>275.25</td>\n",
       "    </tr>\n",
       "    <tr>\n",
       "      <th>2</th>\n",
       "      <td>1996-01-01 06:00:00+00:00</td>\n",
       "      <td>99440</td>\n",
       "      <td>150</td>\n",
       "      <td>2.0</td>\n",
       "      <td>97</td>\n",
       "      <td>275.15</td>\n",
       "    </tr>\n",
       "    <tr>\n",
       "      <th>3</th>\n",
       "      <td>1996-01-01 09:00:00+00:00</td>\n",
       "      <td>99470</td>\n",
       "      <td>90</td>\n",
       "      <td>2.0</td>\n",
       "      <td>97</td>\n",
       "      <td>275.35</td>\n",
       "    </tr>\n",
       "    <tr>\n",
       "      <th>4</th>\n",
       "      <td>1996-01-01 12:00:00+00:00</td>\n",
       "      <td>99470</td>\n",
       "      <td>70</td>\n",
       "      <td>1.0</td>\n",
       "      <td>97</td>\n",
       "      <td>276.45</td>\n",
       "    </tr>\n",
       "  </tbody>\n",
       "</table>\n",
       "</div>"
      ],
      "text/plain": [
       "                       date  pressure  wind_direction  wind_force  humidity  \\\n",
       "0 1996-01-01 00:00:00+00:00     99380               0         0.0        96   \n",
       "1 1996-01-01 03:00:00+00:00     99440             150         2.0        97   \n",
       "2 1996-01-01 06:00:00+00:00     99440             150         2.0        97   \n",
       "3 1996-01-01 09:00:00+00:00     99470              90         2.0        97   \n",
       "4 1996-01-01 12:00:00+00:00     99470              70         1.0        97   \n",
       "\n",
       "   temperature  \n",
       "0       275.95  \n",
       "1       275.25  \n",
       "2       275.15  \n",
       "3       275.35  \n",
       "4       276.45  "
      ]
     },
     "execution_count": 5,
     "metadata": {},
     "output_type": "execute_result"
    }
   ],
   "source": [
    "dfsynop = pd.read_csv(\"HistoricDataset/synopComplete/completeSynopDataset.csv\", header=0, delimiter=';')\n",
    "dfsynop['date'] = pd.to_datetime(dfsynop['date'],utc=True)\n",
    "dfsynop.head()"
   ]
  },
  {
   "cell_type": "code",
   "execution_count": 6,
   "metadata": {},
   "outputs": [
    {
     "data": {
      "text/plain": [
       "date              datetime64[ns, UTC]\n",
       "pressure                        int64\n",
       "wind_direction                  int64\n",
       "wind_force                    float64\n",
       "humidity                        int64\n",
       "temperature                   float64\n",
       "dtype: object"
      ]
     },
     "execution_count": 6,
     "metadata": {},
     "output_type": "execute_result"
    }
   ],
   "source": [
    "dfsynop.dtypes"
   ]
  },
  {
   "cell_type": "code",
   "execution_count": 7,
   "metadata": {},
   "outputs": [
    {
     "data": {
      "text/plain": [
       "70381"
      ]
     },
     "execution_count": 7,
     "metadata": {},
     "output_type": "execute_result"
    }
   ],
   "source": [
    "len(dfsynop)"
   ]
  },
  {
   "cell_type": "markdown",
   "metadata": {},
   "source": [
    "### Mix both datasets\n",
    "We want to associate an IQ to each line depending on the day."
   ]
  },
  {
   "cell_type": "code",
   "execution_count": 8,
   "metadata": {},
   "outputs": [],
   "source": [
    "def getDay(row):\n",
    "    return(row[\"date\"].year,row[\"date\"].month,row[\"date\"].day)\n",
    "\n",
    "dfsynop[\"day\"] = dfsynop.apply(lambda row: getDay(row), axis=1)\n",
    "dfiq[\"day\"] = dfiq.apply(lambda row: getDay(row), axis=1)"
   ]
  },
  {
   "cell_type": "code",
   "execution_count": 9,
   "metadata": {},
   "outputs": [
    {
     "data": {
      "text/html": [
       "<div>\n",
       "<style scoped>\n",
       "    .dataframe tbody tr th:only-of-type {\n",
       "        vertical-align: middle;\n",
       "    }\n",
       "\n",
       "    .dataframe tbody tr th {\n",
       "        vertical-align: top;\n",
       "    }\n",
       "\n",
       "    .dataframe thead th {\n",
       "        text-align: right;\n",
       "    }\n",
       "</style>\n",
       "<table border=\"1\" class=\"dataframe\">\n",
       "  <thead>\n",
       "    <tr style=\"text-align: right;\">\n",
       "      <th></th>\n",
       "      <th>date_x</th>\n",
       "      <th>IQ</th>\n",
       "      <th>day</th>\n",
       "      <th>date_y</th>\n",
       "      <th>pressure</th>\n",
       "      <th>wind_direction</th>\n",
       "      <th>wind_force</th>\n",
       "      <th>humidity</th>\n",
       "      <th>temperature</th>\n",
       "    </tr>\n",
       "  </thead>\n",
       "  <tbody>\n",
       "    <tr>\n",
       "      <th>0</th>\n",
       "      <td>2019-01-01 00:00:00+00:00</td>\n",
       "      <td>3</td>\n",
       "      <td>(2019, 1, 1)</td>\n",
       "      <td>2019-01-01 00:00:00+00:00</td>\n",
       "      <td>102870</td>\n",
       "      <td>250</td>\n",
       "      <td>2.9</td>\n",
       "      <td>89</td>\n",
       "      <td>280.35</td>\n",
       "    </tr>\n",
       "    <tr>\n",
       "      <th>1</th>\n",
       "      <td>2019-01-01 00:00:00+00:00</td>\n",
       "      <td>3</td>\n",
       "      <td>(2019, 1, 1)</td>\n",
       "      <td>2019-01-01 03:00:00+00:00</td>\n",
       "      <td>102800</td>\n",
       "      <td>270</td>\n",
       "      <td>2.9</td>\n",
       "      <td>85</td>\n",
       "      <td>280.35</td>\n",
       "    </tr>\n",
       "    <tr>\n",
       "      <th>2</th>\n",
       "      <td>2019-01-01 00:00:00+00:00</td>\n",
       "      <td>3</td>\n",
       "      <td>(2019, 1, 1)</td>\n",
       "      <td>2019-01-01 06:00:00+00:00</td>\n",
       "      <td>102720</td>\n",
       "      <td>260</td>\n",
       "      <td>2.9</td>\n",
       "      <td>84</td>\n",
       "      <td>280.25</td>\n",
       "    </tr>\n",
       "    <tr>\n",
       "      <th>3</th>\n",
       "      <td>2019-01-01 00:00:00+00:00</td>\n",
       "      <td>3</td>\n",
       "      <td>(2019, 1, 1)</td>\n",
       "      <td>2019-01-01 09:00:00+00:00</td>\n",
       "      <td>102730</td>\n",
       "      <td>260</td>\n",
       "      <td>3.6</td>\n",
       "      <td>84</td>\n",
       "      <td>280.55</td>\n",
       "    </tr>\n",
       "    <tr>\n",
       "      <th>4</th>\n",
       "      <td>2019-01-01 00:00:00+00:00</td>\n",
       "      <td>3</td>\n",
       "      <td>(2019, 1, 1)</td>\n",
       "      <td>2019-01-01 12:00:00+00:00</td>\n",
       "      <td>102640</td>\n",
       "      <td>270</td>\n",
       "      <td>5.7</td>\n",
       "      <td>85</td>\n",
       "      <td>281.75</td>\n",
       "    </tr>\n",
       "  </tbody>\n",
       "</table>\n",
       "</div>"
      ],
      "text/plain": [
       "                     date_x  IQ           day                    date_y  \\\n",
       "0 2019-01-01 00:00:00+00:00   3  (2019, 1, 1) 2019-01-01 00:00:00+00:00   \n",
       "1 2019-01-01 00:00:00+00:00   3  (2019, 1, 1) 2019-01-01 03:00:00+00:00   \n",
       "2 2019-01-01 00:00:00+00:00   3  (2019, 1, 1) 2019-01-01 06:00:00+00:00   \n",
       "3 2019-01-01 00:00:00+00:00   3  (2019, 1, 1) 2019-01-01 09:00:00+00:00   \n",
       "4 2019-01-01 00:00:00+00:00   3  (2019, 1, 1) 2019-01-01 12:00:00+00:00   \n",
       "\n",
       "   pressure  wind_direction  wind_force  humidity  temperature  \n",
       "0    102870             250         2.9        89       280.35  \n",
       "1    102800             270         2.9        85       280.35  \n",
       "2    102720             260         2.9        84       280.25  \n",
       "3    102730             260         3.6        84       280.55  \n",
       "4    102640             270         5.7        85       281.75  "
      ]
     },
     "execution_count": 9,
     "metadata": {},
     "output_type": "execute_result"
    }
   ],
   "source": [
    "dfMerged = pd.merge(dfiq, dfsynop, how='inner', on=\"day\")\n",
    "dfMerged.head()"
   ]
  },
  {
   "cell_type": "code",
   "execution_count": 10,
   "metadata": {},
   "outputs": [
    {
     "data": {
      "text/html": [
       "<div>\n",
       "<style scoped>\n",
       "    .dataframe tbody tr th:only-of-type {\n",
       "        vertical-align: middle;\n",
       "    }\n",
       "\n",
       "    .dataframe tbody tr th {\n",
       "        vertical-align: top;\n",
       "    }\n",
       "\n",
       "    .dataframe thead th {\n",
       "        text-align: right;\n",
       "    }\n",
       "</style>\n",
       "<table border=\"1\" class=\"dataframe\">\n",
       "  <thead>\n",
       "    <tr style=\"text-align: right;\">\n",
       "      <th></th>\n",
       "      <th>IQ</th>\n",
       "      <th>date</th>\n",
       "      <th>pressure</th>\n",
       "      <th>wind_direction</th>\n",
       "      <th>wind_force</th>\n",
       "      <th>humidity</th>\n",
       "      <th>temperature</th>\n",
       "    </tr>\n",
       "  </thead>\n",
       "  <tbody>\n",
       "    <tr>\n",
       "      <th>0</th>\n",
       "      <td>3</td>\n",
       "      <td>2019-01-01 00:00:00+00:00</td>\n",
       "      <td>102870</td>\n",
       "      <td>250</td>\n",
       "      <td>2.9</td>\n",
       "      <td>89</td>\n",
       "      <td>280.35</td>\n",
       "    </tr>\n",
       "    <tr>\n",
       "      <th>1</th>\n",
       "      <td>3</td>\n",
       "      <td>2019-01-01 03:00:00+00:00</td>\n",
       "      <td>102800</td>\n",
       "      <td>270</td>\n",
       "      <td>2.9</td>\n",
       "      <td>85</td>\n",
       "      <td>280.35</td>\n",
       "    </tr>\n",
       "    <tr>\n",
       "      <th>2</th>\n",
       "      <td>3</td>\n",
       "      <td>2019-01-01 06:00:00+00:00</td>\n",
       "      <td>102720</td>\n",
       "      <td>260</td>\n",
       "      <td>2.9</td>\n",
       "      <td>84</td>\n",
       "      <td>280.25</td>\n",
       "    </tr>\n",
       "    <tr>\n",
       "      <th>3</th>\n",
       "      <td>3</td>\n",
       "      <td>2019-01-01 09:00:00+00:00</td>\n",
       "      <td>102730</td>\n",
       "      <td>260</td>\n",
       "      <td>3.6</td>\n",
       "      <td>84</td>\n",
       "      <td>280.55</td>\n",
       "    </tr>\n",
       "    <tr>\n",
       "      <th>4</th>\n",
       "      <td>3</td>\n",
       "      <td>2019-01-01 12:00:00+00:00</td>\n",
       "      <td>102640</td>\n",
       "      <td>270</td>\n",
       "      <td>5.7</td>\n",
       "      <td>85</td>\n",
       "      <td>281.75</td>\n",
       "    </tr>\n",
       "  </tbody>\n",
       "</table>\n",
       "</div>"
      ],
      "text/plain": [
       "   IQ                      date  pressure  wind_direction  wind_force  \\\n",
       "0   3 2019-01-01 00:00:00+00:00    102870             250         2.9   \n",
       "1   3 2019-01-01 03:00:00+00:00    102800             270         2.9   \n",
       "2   3 2019-01-01 06:00:00+00:00    102720             260         2.9   \n",
       "3   3 2019-01-01 09:00:00+00:00    102730             260         3.6   \n",
       "4   3 2019-01-01 12:00:00+00:00    102640             270         5.7   \n",
       "\n",
       "   humidity  temperature  \n",
       "0        89       280.35  \n",
       "1        85       280.35  \n",
       "2        84       280.25  \n",
       "3        84       280.55  \n",
       "4        85       281.75  "
      ]
     },
     "execution_count": 10,
     "metadata": {},
     "output_type": "execute_result"
    }
   ],
   "source": [
    "dfMerged = dfMerged.drop(columns=[\"date_x\",\"day\"])\n",
    "dfMerged = dfMerged.rename(columns={\"date_y\":\"date\"})\n",
    "dfMerged.head()"
   ]
  },
  {
   "cell_type": "code",
   "execution_count": 11,
   "metadata": {},
   "outputs": [
    {
     "data": {
      "text/plain": [
       "3396"
      ]
     },
     "execution_count": 11,
     "metadata": {},
     "output_type": "execute_result"
    }
   ],
   "source": [
    "len(dfMerged)"
   ]
  },
  {
   "cell_type": "markdown",
   "metadata": {},
   "source": [
    "### Save dataset"
   ]
  },
  {
   "cell_type": "code",
   "execution_count": 12,
   "metadata": {},
   "outputs": [],
   "source": [
    "dfMerged.to_csv(\"HistoricDataset/completeMixDataset/completeDataset.csv\", index=False,sep=';')"
   ]
  }
 ],
 "metadata": {
  "kernelspec": {
   "display_name": "Python 3",
   "language": "python",
   "name": "python3"
  },
  "language_info": {
   "codemirror_mode": {
    "name": "ipython",
    "version": 3
   },
   "file_extension": ".py",
   "mimetype": "text/x-python",
   "name": "python",
   "nbconvert_exporter": "python",
   "pygments_lexer": "ipython3",
   "version": "3.7.5"
  }
 },
 "nbformat": 4,
 "nbformat_minor": 2
}
