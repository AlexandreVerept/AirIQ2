{
 "cells": [
  {
   "cell_type": "markdown",
   "metadata": {},
   "source": [
    "# Cleaning IQ dataset\n",
    "\n",
    "This script allow us to clean the dataset with the IQ for each day:\n",
    "https://opendata.lillemetropole.fr/explore/dataset/indice-qualite-de-lair/export/        "
   ]
  },
  {
   "cell_type": "code",
   "execution_count": 1,
   "metadata": {},
   "outputs": [
    {
     "name": "stdout",
     "output_type": "stream",
     "text": [
      "C:\\Users\\avere\\Documents\\Cours\\Projet PPAL\\AirIQ2\\0_ResearchWork\\3_CreateAndCleanDatasets\n"
     ]
    }
   ],
   "source": [
    "import pandas as pd\n",
    "import os\n",
    "import glob\n",
    "\n",
    "print(os.getcwd())"
   ]
  },
  {
   "cell_type": "markdown",
   "metadata": {},
   "source": [
    "### Import dataset (2018-2020)"
   ]
  },
  {
   "cell_type": "code",
   "execution_count": 2,
   "metadata": {},
   "outputs": [
    {
     "data": {
      "text/html": [
       "<div>\n",
       "<style scoped>\n",
       "    .dataframe tbody tr th:only-of-type {\n",
       "        vertical-align: middle;\n",
       "    }\n",
       "\n",
       "    .dataframe tbody tr th {\n",
       "        vertical-align: top;\n",
       "    }\n",
       "\n",
       "    .dataframe thead th {\n",
       "        text-align: right;\n",
       "    }\n",
       "</style>\n",
       "<table border=\"1\" class=\"dataframe\">\n",
       "  <thead>\n",
       "    <tr style=\"text-align: right;\">\n",
       "      <th></th>\n",
       "      <th>Geo Point</th>\n",
       "      <th>Geo Shape</th>\n",
       "      <th>qualif</th>\n",
       "      <th>type_zone</th>\n",
       "      <th>ObjectId</th>\n",
       "      <th>y_wgs84</th>\n",
       "      <th>val_so2</th>\n",
       "      <th>couleur</th>\n",
       "      <th>val_no2</th>\n",
       "      <th>val_o3</th>\n",
       "      <th>date_ech</th>\n",
       "      <th>id</th>\n",
       "      <th>source</th>\n",
       "      <th>valeur</th>\n",
       "      <th>val_pm25</th>\n",
       "      <th>code_zone</th>\n",
       "      <th>lib_zone</th>\n",
       "      <th>x_wgs84</th>\n",
       "      <th>the_geom</th>\n",
       "      <th>val_pm10</th>\n",
       "    </tr>\n",
       "  </thead>\n",
       "  <tbody>\n",
       "    <tr>\n",
       "      <th>0</th>\n",
       "      <td>50.6309,3.0468</td>\n",
       "      <td>{\"type\": \"Point\", \"coordinates\": [3.0468, 50.6...</td>\n",
       "      <td>Moyen</td>\n",
       "      <td>commune</td>\n",
       "      <td>5048</td>\n",
       "      <td>50.6309</td>\n",
       "      <td>0</td>\n",
       "      <td>#FFFF00</td>\n",
       "      <td>2</td>\n",
       "      <td>1</td>\n",
       "      <td>2020-01-24T01:00:00+01:00</td>\n",
       "      <td>34501</td>\n",
       "      <td>Atmo HDF</td>\n",
       "      <td>5</td>\n",
       "      <td>0</td>\n",
       "      <td>59350</td>\n",
       "      <td>Lille</td>\n",
       "      <td>3.0468</td>\n",
       "      <td>01010000206A08000000000000AA76254100000040DFED...</td>\n",
       "      <td>5</td>\n",
       "    </tr>\n",
       "    <tr>\n",
       "      <th>1</th>\n",
       "      <td>50.6309,3.0468</td>\n",
       "      <td>{\"type\": \"Point\", \"coordinates\": [3.0468, 50.6...</td>\n",
       "      <td>Moyen</td>\n",
       "      <td>commune</td>\n",
       "      <td>5060</td>\n",
       "      <td>50.6309</td>\n",
       "      <td>0</td>\n",
       "      <td>#FFFF00</td>\n",
       "      <td>2</td>\n",
       "      <td>1</td>\n",
       "      <td>2020-01-25T01:00:00+01:00</td>\n",
       "      <td>34502</td>\n",
       "      <td>Atmo HDF</td>\n",
       "      <td>5</td>\n",
       "      <td>0</td>\n",
       "      <td>59350</td>\n",
       "      <td>Lille</td>\n",
       "      <td>3.0468</td>\n",
       "      <td>01010000206A08000000000000AA76254100000040DFED...</td>\n",
       "      <td>5</td>\n",
       "    </tr>\n",
       "    <tr>\n",
       "      <th>2</th>\n",
       "      <td>50.6309,3.0468</td>\n",
       "      <td>{\"type\": \"Point\", \"coordinates\": [3.0468, 50.6...</td>\n",
       "      <td>Bon</td>\n",
       "      <td>commune</td>\n",
       "      <td>5077</td>\n",
       "      <td>50.6309</td>\n",
       "      <td>0</td>\n",
       "      <td>#99E600</td>\n",
       "      <td>2</td>\n",
       "      <td>3</td>\n",
       "      <td>2020-01-27T01:00:00+01:00</td>\n",
       "      <td>34504</td>\n",
       "      <td>Atmo HDF</td>\n",
       "      <td>3</td>\n",
       "      <td>0</td>\n",
       "      <td>59350</td>\n",
       "      <td>Lille</td>\n",
       "      <td>3.0468</td>\n",
       "      <td>01010000206A08000000000000AA76254100000040DFED...</td>\n",
       "      <td>2</td>\n",
       "    </tr>\n",
       "    <tr>\n",
       "      <th>3</th>\n",
       "      <td>50.6309,3.0468</td>\n",
       "      <td>{\"type\": \"Point\", \"coordinates\": [3.0468, 50.6...</td>\n",
       "      <td>Bon</td>\n",
       "      <td>commune</td>\n",
       "      <td>5094</td>\n",
       "      <td>50.6309</td>\n",
       "      <td>0</td>\n",
       "      <td>#99E600</td>\n",
       "      <td>1</td>\n",
       "      <td>4</td>\n",
       "      <td>2020-01-28T01:00:00+01:00</td>\n",
       "      <td>34505</td>\n",
       "      <td>Atmo HDF</td>\n",
       "      <td>4</td>\n",
       "      <td>0</td>\n",
       "      <td>59350</td>\n",
       "      <td>Lille</td>\n",
       "      <td>3.0468</td>\n",
       "      <td>01010000206A08000000000000AA76254100000040DFED...</td>\n",
       "      <td>2</td>\n",
       "    </tr>\n",
       "    <tr>\n",
       "      <th>4</th>\n",
       "      <td>50.6309,3.0468</td>\n",
       "      <td>{\"type\": \"Point\", \"coordinates\": [3.0468, 50.6...</td>\n",
       "      <td>Bon</td>\n",
       "      <td>commune</td>\n",
       "      <td>5306</td>\n",
       "      <td>50.6309</td>\n",
       "      <td>0</td>\n",
       "      <td>#99E600</td>\n",
       "      <td>1</td>\n",
       "      <td>3</td>\n",
       "      <td>2020-02-13T01:00:00+01:00</td>\n",
       "      <td>34521</td>\n",
       "      <td>Atmo HDF</td>\n",
       "      <td>3</td>\n",
       "      <td>0</td>\n",
       "      <td>59350</td>\n",
       "      <td>Lille</td>\n",
       "      <td>3.0468</td>\n",
       "      <td>01010000206A08000000000000AA76254100000040DFED...</td>\n",
       "      <td>2</td>\n",
       "    </tr>\n",
       "  </tbody>\n",
       "</table>\n",
       "</div>"
      ],
      "text/plain": [
       "        Geo Point                                          Geo Shape qualif  \\\n",
       "0  50.6309,3.0468  {\"type\": \"Point\", \"coordinates\": [3.0468, 50.6...  Moyen   \n",
       "1  50.6309,3.0468  {\"type\": \"Point\", \"coordinates\": [3.0468, 50.6...  Moyen   \n",
       "2  50.6309,3.0468  {\"type\": \"Point\", \"coordinates\": [3.0468, 50.6...    Bon   \n",
       "3  50.6309,3.0468  {\"type\": \"Point\", \"coordinates\": [3.0468, 50.6...    Bon   \n",
       "4  50.6309,3.0468  {\"type\": \"Point\", \"coordinates\": [3.0468, 50.6...    Bon   \n",
       "\n",
       "  type_zone  ObjectId  y_wgs84  val_so2  couleur  val_no2  val_o3  \\\n",
       "0   commune      5048  50.6309        0  #FFFF00        2       1   \n",
       "1   commune      5060  50.6309        0  #FFFF00        2       1   \n",
       "2   commune      5077  50.6309        0  #99E600        2       3   \n",
       "3   commune      5094  50.6309        0  #99E600        1       4   \n",
       "4   commune      5306  50.6309        0  #99E600        1       3   \n",
       "\n",
       "                    date_ech     id    source  valeur  val_pm25  code_zone  \\\n",
       "0  2020-01-24T01:00:00+01:00  34501  Atmo HDF       5         0      59350   \n",
       "1  2020-01-25T01:00:00+01:00  34502  Atmo HDF       5         0      59350   \n",
       "2  2020-01-27T01:00:00+01:00  34504  Atmo HDF       3         0      59350   \n",
       "3  2020-01-28T01:00:00+01:00  34505  Atmo HDF       4         0      59350   \n",
       "4  2020-02-13T01:00:00+01:00  34521  Atmo HDF       3         0      59350   \n",
       "\n",
       "  lib_zone  x_wgs84                                           the_geom  \\\n",
       "0    Lille   3.0468  01010000206A08000000000000AA76254100000040DFED...   \n",
       "1    Lille   3.0468  01010000206A08000000000000AA76254100000040DFED...   \n",
       "2    Lille   3.0468  01010000206A08000000000000AA76254100000040DFED...   \n",
       "3    Lille   3.0468  01010000206A08000000000000AA76254100000040DFED...   \n",
       "4    Lille   3.0468  01010000206A08000000000000AA76254100000040DFED...   \n",
       "\n",
       "   val_pm10  \n",
       "0         5  \n",
       "1         5  \n",
       "2         2  \n",
       "3         2  \n",
       "4         2  "
      ]
     },
     "execution_count": 2,
     "metadata": {},
     "output_type": "execute_result"
    }
   ],
   "source": [
    "df = pd.read_csv(\"HistoricDataset/iqDownload/indice-qualite-de-lair.csv\", header=0, delimiter=';')\n",
    "df.head()"
   ]
  },
  {
   "cell_type": "code",
   "execution_count": 3,
   "metadata": {},
   "outputs": [
    {
     "data": {
      "text/html": [
       "<div>\n",
       "<style scoped>\n",
       "    .dataframe tbody tr th:only-of-type {\n",
       "        vertical-align: middle;\n",
       "    }\n",
       "\n",
       "    .dataframe tbody tr th {\n",
       "        vertical-align: top;\n",
       "    }\n",
       "\n",
       "    .dataframe thead th {\n",
       "        text-align: right;\n",
       "    }\n",
       "</style>\n",
       "<table border=\"1\" class=\"dataframe\">\n",
       "  <thead>\n",
       "    <tr style=\"text-align: right;\">\n",
       "      <th></th>\n",
       "      <th>date_ech</th>\n",
       "      <th>valeur</th>\n",
       "    </tr>\n",
       "  </thead>\n",
       "  <tbody>\n",
       "    <tr>\n",
       "      <th>0</th>\n",
       "      <td>2020-01-24T01:00:00+01:00</td>\n",
       "      <td>5</td>\n",
       "    </tr>\n",
       "    <tr>\n",
       "      <th>1</th>\n",
       "      <td>2020-01-25T01:00:00+01:00</td>\n",
       "      <td>5</td>\n",
       "    </tr>\n",
       "    <tr>\n",
       "      <th>2</th>\n",
       "      <td>2020-01-27T01:00:00+01:00</td>\n",
       "      <td>3</td>\n",
       "    </tr>\n",
       "    <tr>\n",
       "      <th>3</th>\n",
       "      <td>2020-01-28T01:00:00+01:00</td>\n",
       "      <td>4</td>\n",
       "    </tr>\n",
       "    <tr>\n",
       "      <th>4</th>\n",
       "      <td>2020-02-13T01:00:00+01:00</td>\n",
       "      <td>3</td>\n",
       "    </tr>\n",
       "  </tbody>\n",
       "</table>\n",
       "</div>"
      ],
      "text/plain": [
       "                    date_ech  valeur\n",
       "0  2020-01-24T01:00:00+01:00       5\n",
       "1  2020-01-25T01:00:00+01:00       5\n",
       "2  2020-01-27T01:00:00+01:00       3\n",
       "3  2020-01-28T01:00:00+01:00       4\n",
       "4  2020-02-13T01:00:00+01:00       3"
      ]
     },
     "execution_count": 3,
     "metadata": {},
     "output_type": "execute_result"
    }
   ],
   "source": [
    "interestingFeatures = [\"date_ech\",\"valeur\"]\n",
    "df = df[interestingFeatures]\n",
    "df.head()"
   ]
  },
  {
   "cell_type": "code",
   "execution_count": 4,
   "metadata": {},
   "outputs": [
    {
     "data": {
      "text/html": [
       "<div>\n",
       "<style scoped>\n",
       "    .dataframe tbody tr th:only-of-type {\n",
       "        vertical-align: middle;\n",
       "    }\n",
       "\n",
       "    .dataframe tbody tr th {\n",
       "        vertical-align: top;\n",
       "    }\n",
       "\n",
       "    .dataframe thead th {\n",
       "        text-align: right;\n",
       "    }\n",
       "</style>\n",
       "<table border=\"1\" class=\"dataframe\">\n",
       "  <thead>\n",
       "    <tr style=\"text-align: right;\">\n",
       "      <th></th>\n",
       "      <th>date</th>\n",
       "      <th>IQ</th>\n",
       "    </tr>\n",
       "  </thead>\n",
       "  <tbody>\n",
       "    <tr>\n",
       "      <th>0</th>\n",
       "      <td>2020-01-24T01:00:00+01:00</td>\n",
       "      <td>5</td>\n",
       "    </tr>\n",
       "    <tr>\n",
       "      <th>1</th>\n",
       "      <td>2020-01-25T01:00:00+01:00</td>\n",
       "      <td>5</td>\n",
       "    </tr>\n",
       "    <tr>\n",
       "      <th>2</th>\n",
       "      <td>2020-01-27T01:00:00+01:00</td>\n",
       "      <td>3</td>\n",
       "    </tr>\n",
       "    <tr>\n",
       "      <th>3</th>\n",
       "      <td>2020-01-28T01:00:00+01:00</td>\n",
       "      <td>4</td>\n",
       "    </tr>\n",
       "    <tr>\n",
       "      <th>4</th>\n",
       "      <td>2020-02-13T01:00:00+01:00</td>\n",
       "      <td>3</td>\n",
       "    </tr>\n",
       "  </tbody>\n",
       "</table>\n",
       "</div>"
      ],
      "text/plain": [
       "                        date  IQ\n",
       "0  2020-01-24T01:00:00+01:00   5\n",
       "1  2020-01-25T01:00:00+01:00   5\n",
       "2  2020-01-27T01:00:00+01:00   3\n",
       "3  2020-01-28T01:00:00+01:00   4\n",
       "4  2020-02-13T01:00:00+01:00   3"
      ]
     },
     "execution_count": 4,
     "metadata": {},
     "output_type": "execute_result"
    }
   ],
   "source": [
    "df.columns = [\"date\", \"IQ\"]\n",
    "df.head()"
   ]
  },
  {
   "cell_type": "markdown",
   "metadata": {},
   "source": [
    "### Import dataset (2015-2019)"
   ]
  },
  {
   "cell_type": "code",
   "execution_count": 5,
   "metadata": {},
   "outputs": [
    {
     "data": {
      "text/html": [
       "<div>\n",
       "<style scoped>\n",
       "    .dataframe tbody tr th:only-of-type {\n",
       "        vertical-align: middle;\n",
       "    }\n",
       "\n",
       "    .dataframe tbody tr th {\n",
       "        vertical-align: top;\n",
       "    }\n",
       "\n",
       "    .dataframe thead th {\n",
       "        text-align: right;\n",
       "    }\n",
       "</style>\n",
       "<table border=\"1\" class=\"dataframe\">\n",
       "  <thead>\n",
       "    <tr style=\"text-align: right;\">\n",
       "      <th></th>\n",
       "      <th>Unnamed: 0</th>\n",
       "      <th>Partiel diff</th>\n",
       "      <th>SO2</th>\n",
       "      <th>NO2</th>\n",
       "      <th>O3</th>\n",
       "      <th>PM10</th>\n",
       "      <th>Partiel prv J</th>\n",
       "      <th>Partiel J+1</th>\n",
       "      <th>Partiel J+2</th>\n",
       "      <th>Complet diff</th>\n",
       "      <th>SO2.1</th>\n",
       "      <th>NO2.1</th>\n",
       "      <th>O3.1</th>\n",
       "      <th>PM10.1</th>\n",
       "      <th>Complet prv J</th>\n",
       "      <th>Complet J+1</th>\n",
       "      <th>Complet J+2</th>\n",
       "    </tr>\n",
       "  </thead>\n",
       "  <tbody>\n",
       "    <tr>\n",
       "      <th>0</th>\n",
       "      <td>NaT</td>\n",
       "      <td>NaN</td>\n",
       "      <td>NaN</td>\n",
       "      <td>NaN</td>\n",
       "      <td>NaN</td>\n",
       "      <td>NaN</td>\n",
       "      <td>NaN</td>\n",
       "      <td>NaN</td>\n",
       "      <td>NaN</td>\n",
       "      <td>NaN</td>\n",
       "      <td>NaN</td>\n",
       "      <td>NaN</td>\n",
       "      <td>NaN</td>\n",
       "      <td>NaN</td>\n",
       "      <td>NaN</td>\n",
       "      <td>NaN</td>\n",
       "      <td>NaN</td>\n",
       "    </tr>\n",
       "    <tr>\n",
       "      <th>1</th>\n",
       "      <td>2015-01-01</td>\n",
       "      <td>5.0</td>\n",
       "      <td>1.0</td>\n",
       "      <td>2.0</td>\n",
       "      <td>3.0</td>\n",
       "      <td>5.0</td>\n",
       "      <td>5.0</td>\n",
       "      <td>4.0</td>\n",
       "      <td>NaN</td>\n",
       "      <td>5.0</td>\n",
       "      <td>1.0</td>\n",
       "      <td>2.0</td>\n",
       "      <td>3.0</td>\n",
       "      <td>5.0</td>\n",
       "      <td>5.0</td>\n",
       "      <td>NaN</td>\n",
       "      <td>NaN</td>\n",
       "    </tr>\n",
       "    <tr>\n",
       "      <th>2</th>\n",
       "      <td>2015-01-02</td>\n",
       "      <td>3.0</td>\n",
       "      <td>1.0</td>\n",
       "      <td>2.0</td>\n",
       "      <td>3.0</td>\n",
       "      <td>3.0</td>\n",
       "      <td>4.0</td>\n",
       "      <td>4.0</td>\n",
       "      <td>NaN</td>\n",
       "      <td>3.0</td>\n",
       "      <td>1.0</td>\n",
       "      <td>2.0</td>\n",
       "      <td>3.0</td>\n",
       "      <td>3.0</td>\n",
       "      <td>4.0</td>\n",
       "      <td>NaN</td>\n",
       "      <td>NaN</td>\n",
       "    </tr>\n",
       "    <tr>\n",
       "      <th>3</th>\n",
       "      <td>2015-01-03</td>\n",
       "      <td>3.0</td>\n",
       "      <td>1.0</td>\n",
       "      <td>2.0</td>\n",
       "      <td>2.0</td>\n",
       "      <td>3.0</td>\n",
       "      <td>4.0</td>\n",
       "      <td>3.0</td>\n",
       "      <td>4.0</td>\n",
       "      <td>3.0</td>\n",
       "      <td>1.0</td>\n",
       "      <td>2.0</td>\n",
       "      <td>2.0</td>\n",
       "      <td>3.0</td>\n",
       "      <td>4.0</td>\n",
       "      <td>NaN</td>\n",
       "      <td>NaN</td>\n",
       "    </tr>\n",
       "    <tr>\n",
       "      <th>4</th>\n",
       "      <td>2015-01-04</td>\n",
       "      <td>3.0</td>\n",
       "      <td>1.0</td>\n",
       "      <td>2.0</td>\n",
       "      <td>2.0</td>\n",
       "      <td>3.0</td>\n",
       "      <td>3.0</td>\n",
       "      <td>4.0</td>\n",
       "      <td>NaN</td>\n",
       "      <td>5.0</td>\n",
       "      <td>1.0</td>\n",
       "      <td>5.0</td>\n",
       "      <td>2.0</td>\n",
       "      <td>5.0</td>\n",
       "      <td>3.0</td>\n",
       "      <td>4.0</td>\n",
       "      <td>NaN</td>\n",
       "    </tr>\n",
       "  </tbody>\n",
       "</table>\n",
       "</div>"
      ],
      "text/plain": [
       "  Unnamed: 0  Partiel diff  SO2  NO2   O3  PM10  Partiel prv J  Partiel J+1  \\\n",
       "0        NaT           NaN  NaN  NaN  NaN   NaN            NaN          NaN   \n",
       "1 2015-01-01           5.0  1.0  2.0  3.0   5.0            5.0          4.0   \n",
       "2 2015-01-02           3.0  1.0  2.0  3.0   3.0            4.0          4.0   \n",
       "3 2015-01-03           3.0  1.0  2.0  2.0   3.0            4.0          3.0   \n",
       "4 2015-01-04           3.0  1.0  2.0  2.0   3.0            3.0          4.0   \n",
       "\n",
       "   Partiel J+2  Complet diff  SO2.1  NO2.1  O3.1  PM10.1  Complet prv J  \\\n",
       "0          NaN           NaN    NaN    NaN   NaN     NaN            NaN   \n",
       "1          NaN           5.0    1.0    2.0   3.0     5.0            5.0   \n",
       "2          NaN           3.0    1.0    2.0   3.0     3.0            4.0   \n",
       "3          4.0           3.0    1.0    2.0   2.0     3.0            4.0   \n",
       "4          NaN           5.0    1.0    5.0   2.0     5.0            3.0   \n",
       "\n",
       "   Complet J+1  Complet J+2  \n",
       "0          NaN          NaN  \n",
       "1          NaN          NaN  \n",
       "2          NaN          NaN  \n",
       "3          NaN          NaN  \n",
       "4          4.0          NaN  "
      ]
     },
     "execution_count": 5,
     "metadata": {},
     "output_type": "execute_result"
    }
   ],
   "source": [
    "dfh = pd.read_excel(\"HistoricDataset/MelHistoric/Indice_Lille_2015à2019.xlsx\")\n",
    "dfh.head()"
   ]
  },
  {
   "cell_type": "markdown",
   "metadata": {},
   "source": [
    "We want both dataset to have the same shape to mix them:"
   ]
  },
  {
   "cell_type": "code",
   "execution_count": 6,
   "metadata": {},
   "outputs": [
    {
     "data": {
      "text/html": [
       "<div>\n",
       "<style scoped>\n",
       "    .dataframe tbody tr th:only-of-type {\n",
       "        vertical-align: middle;\n",
       "    }\n",
       "\n",
       "    .dataframe tbody tr th {\n",
       "        vertical-align: top;\n",
       "    }\n",
       "\n",
       "    .dataframe thead th {\n",
       "        text-align: right;\n",
       "    }\n",
       "</style>\n",
       "<table border=\"1\" class=\"dataframe\">\n",
       "  <thead>\n",
       "    <tr style=\"text-align: right;\">\n",
       "      <th></th>\n",
       "      <th>date</th>\n",
       "      <th>IQ</th>\n",
       "    </tr>\n",
       "  </thead>\n",
       "  <tbody>\n",
       "    <tr>\n",
       "      <th>1</th>\n",
       "      <td>2015-01-01</td>\n",
       "      <td>5.0</td>\n",
       "    </tr>\n",
       "    <tr>\n",
       "      <th>2</th>\n",
       "      <td>2015-01-02</td>\n",
       "      <td>3.0</td>\n",
       "    </tr>\n",
       "    <tr>\n",
       "      <th>3</th>\n",
       "      <td>2015-01-03</td>\n",
       "      <td>3.0</td>\n",
       "    </tr>\n",
       "    <tr>\n",
       "      <th>4</th>\n",
       "      <td>2015-01-04</td>\n",
       "      <td>5.0</td>\n",
       "    </tr>\n",
       "    <tr>\n",
       "      <th>5</th>\n",
       "      <td>2015-01-05</td>\n",
       "      <td>4.0</td>\n",
       "    </tr>\n",
       "  </tbody>\n",
       "</table>\n",
       "</div>"
      ],
      "text/plain": [
       "        date   IQ\n",
       "1 2015-01-01  5.0\n",
       "2 2015-01-02  3.0\n",
       "3 2015-01-03  3.0\n",
       "4 2015-01-04  5.0\n",
       "5 2015-01-05  4.0"
      ]
     },
     "execution_count": 6,
     "metadata": {},
     "output_type": "execute_result"
    }
   ],
   "source": [
    "interestingFeatures = [\"Unnamed: 0\",\"Complet diff\"]\n",
    "dfh = dfh[interestingFeatures]\n",
    "dfh.columns = [\"date\", \"IQ\"]\n",
    "dfh = dfh.drop([0])\n",
    "dfh.head()"
   ]
  },
  {
   "cell_type": "code",
   "execution_count": 7,
   "metadata": {},
   "outputs": [
    {
     "data": {
      "text/html": [
       "<div>\n",
       "<style scoped>\n",
       "    .dataframe tbody tr th:only-of-type {\n",
       "        vertical-align: middle;\n",
       "    }\n",
       "\n",
       "    .dataframe tbody tr th {\n",
       "        vertical-align: top;\n",
       "    }\n",
       "\n",
       "    .dataframe thead th {\n",
       "        text-align: right;\n",
       "    }\n",
       "</style>\n",
       "<table border=\"1\" class=\"dataframe\">\n",
       "  <thead>\n",
       "    <tr style=\"text-align: right;\">\n",
       "      <th></th>\n",
       "      <th>date</th>\n",
       "      <th>IQ</th>\n",
       "    </tr>\n",
       "  </thead>\n",
       "  <tbody>\n",
       "    <tr>\n",
       "      <th>1</th>\n",
       "      <td>2015-01-01</td>\n",
       "      <td>5.0</td>\n",
       "    </tr>\n",
       "    <tr>\n",
       "      <th>2</th>\n",
       "      <td>2015-01-02</td>\n",
       "      <td>3.0</td>\n",
       "    </tr>\n",
       "    <tr>\n",
       "      <th>3</th>\n",
       "      <td>2015-01-03</td>\n",
       "      <td>3.0</td>\n",
       "    </tr>\n",
       "    <tr>\n",
       "      <th>4</th>\n",
       "      <td>2015-01-04</td>\n",
       "      <td>5.0</td>\n",
       "    </tr>\n",
       "    <tr>\n",
       "      <th>5</th>\n",
       "      <td>2015-01-05</td>\n",
       "      <td>4.0</td>\n",
       "    </tr>\n",
       "  </tbody>\n",
       "</table>\n",
       "</div>"
      ],
      "text/plain": [
       "        date   IQ\n",
       "1 2015-01-01  5.0\n",
       "2 2015-01-02  3.0\n",
       "3 2015-01-03  3.0\n",
       "4 2015-01-04  5.0\n",
       "5 2015-01-05  4.0"
      ]
     },
     "execution_count": 7,
     "metadata": {},
     "output_type": "execute_result"
    }
   ],
   "source": [
    "from datetime import datetime\n",
    "dfh['date'] = dfh['date'].apply(lambda x: datetime.fromisoformat(str(x)))\n",
    "dfh.head()"
   ]
  },
  {
   "cell_type": "code",
   "execution_count": 8,
   "metadata": {},
   "outputs": [
    {
     "data": {
      "text/html": [
       "<div>\n",
       "<style scoped>\n",
       "    .dataframe tbody tr th:only-of-type {\n",
       "        vertical-align: middle;\n",
       "    }\n",
       "\n",
       "    .dataframe tbody tr th {\n",
       "        vertical-align: top;\n",
       "    }\n",
       "\n",
       "    .dataframe thead th {\n",
       "        text-align: right;\n",
       "    }\n",
       "</style>\n",
       "<table border=\"1\" class=\"dataframe\">\n",
       "  <thead>\n",
       "    <tr style=\"text-align: right;\">\n",
       "      <th></th>\n",
       "      <th>date</th>\n",
       "      <th>IQ</th>\n",
       "    </tr>\n",
       "  </thead>\n",
       "  <tbody>\n",
       "    <tr>\n",
       "      <th>0</th>\n",
       "      <td>2020-01-24</td>\n",
       "      <td>5</td>\n",
       "    </tr>\n",
       "    <tr>\n",
       "      <th>1</th>\n",
       "      <td>2020-01-25</td>\n",
       "      <td>5</td>\n",
       "    </tr>\n",
       "    <tr>\n",
       "      <th>2</th>\n",
       "      <td>2020-01-27</td>\n",
       "      <td>3</td>\n",
       "    </tr>\n",
       "    <tr>\n",
       "      <th>3</th>\n",
       "      <td>2020-01-28</td>\n",
       "      <td>4</td>\n",
       "    </tr>\n",
       "    <tr>\n",
       "      <th>4</th>\n",
       "      <td>2020-02-13</td>\n",
       "      <td>3</td>\n",
       "    </tr>\n",
       "  </tbody>\n",
       "</table>\n",
       "</div>"
      ],
      "text/plain": [
       "        date  IQ\n",
       "0 2020-01-24   5\n",
       "1 2020-01-25   5\n",
       "2 2020-01-27   3\n",
       "3 2020-01-28   4\n",
       "4 2020-02-13   3"
      ]
     },
     "execution_count": 8,
     "metadata": {},
     "output_type": "execute_result"
    }
   ],
   "source": [
    "df['date'] = df['date'].apply(lambda x: datetime.fromisoformat(str(x)[0:10]))\n",
    "df.head()"
   ]
  },
  {
   "cell_type": "markdown",
   "metadata": {},
   "source": [
    "### Mix both datasets"
   ]
  },
  {
   "cell_type": "code",
   "execution_count": 9,
   "metadata": {},
   "outputs": [],
   "source": [
    "df = pd.concat([df,dfh]).drop_duplicates()"
   ]
  },
  {
   "cell_type": "code",
   "execution_count": 10,
   "metadata": {},
   "outputs": [
    {
     "data": {
      "text/plain": [
       "date    datetime64[ns]\n",
       "IQ             float64\n",
       "dtype: object"
      ]
     },
     "execution_count": 10,
     "metadata": {},
     "output_type": "execute_result"
    }
   ],
   "source": [
    "df.dtypes"
   ]
  },
  {
   "cell_type": "code",
   "execution_count": 11,
   "metadata": {},
   "outputs": [
    {
     "data": {
      "text/plain": [
       "date    datetime64[ns]\n",
       "IQ             float64\n",
       "dtype: object"
      ]
     },
     "execution_count": 11,
     "metadata": {},
     "output_type": "execute_result"
    }
   ],
   "source": [
    "df.dtypes"
   ]
  },
  {
   "cell_type": "markdown",
   "metadata": {},
   "source": [
    "### NA values"
   ]
  },
  {
   "cell_type": "code",
   "execution_count": 12,
   "metadata": {},
   "outputs": [
    {
     "data": {
      "text/plain": [
       "date    0\n",
       "IQ      3\n",
       "dtype: int64"
      ]
     },
     "execution_count": 12,
     "metadata": {},
     "output_type": "execute_result"
    }
   ],
   "source": [
    "df.isna().sum()"
   ]
  },
  {
   "cell_type": "code",
   "execution_count": 13,
   "metadata": {},
   "outputs": [
    {
     "data": {
      "text/plain": [
       "date    0\n",
       "IQ      0\n",
       "dtype: int64"
      ]
     },
     "execution_count": 13,
     "metadata": {},
     "output_type": "execute_result"
    }
   ],
   "source": [
    "df = df.fillna(method='ffill')\n",
    "df.isna().sum()"
   ]
  },
  {
   "cell_type": "code",
   "execution_count": 14,
   "metadata": {},
   "outputs": [
    {
     "data": {
      "text/html": [
       "<div>\n",
       "<style scoped>\n",
       "    .dataframe tbody tr th:only-of-type {\n",
       "        vertical-align: middle;\n",
       "    }\n",
       "\n",
       "    .dataframe tbody tr th {\n",
       "        vertical-align: top;\n",
       "    }\n",
       "\n",
       "    .dataframe thead th {\n",
       "        text-align: right;\n",
       "    }\n",
       "</style>\n",
       "<table border=\"1\" class=\"dataframe\">\n",
       "  <thead>\n",
       "    <tr style=\"text-align: right;\">\n",
       "      <th></th>\n",
       "      <th>IQ</th>\n",
       "    </tr>\n",
       "  </thead>\n",
       "  <tbody>\n",
       "    <tr>\n",
       "      <th>count</th>\n",
       "      <td>1909.000000</td>\n",
       "    </tr>\n",
       "    <tr>\n",
       "      <th>mean</th>\n",
       "      <td>4.011524</td>\n",
       "    </tr>\n",
       "    <tr>\n",
       "      <th>std</th>\n",
       "      <td>1.360522</td>\n",
       "    </tr>\n",
       "    <tr>\n",
       "      <th>min</th>\n",
       "      <td>2.000000</td>\n",
       "    </tr>\n",
       "    <tr>\n",
       "      <th>25%</th>\n",
       "      <td>3.000000</td>\n",
       "    </tr>\n",
       "    <tr>\n",
       "      <th>50%</th>\n",
       "      <td>4.000000</td>\n",
       "    </tr>\n",
       "    <tr>\n",
       "      <th>75%</th>\n",
       "      <td>5.000000</td>\n",
       "    </tr>\n",
       "    <tr>\n",
       "      <th>max</th>\n",
       "      <td>10.000000</td>\n",
       "    </tr>\n",
       "  </tbody>\n",
       "</table>\n",
       "</div>"
      ],
      "text/plain": [
       "                IQ\n",
       "count  1909.000000\n",
       "mean      4.011524\n",
       "std       1.360522\n",
       "min       2.000000\n",
       "25%       3.000000\n",
       "50%       4.000000\n",
       "75%       5.000000\n",
       "max      10.000000"
      ]
     },
     "execution_count": 14,
     "metadata": {},
     "output_type": "execute_result"
    }
   ],
   "source": [
    "df.describe()"
   ]
  },
  {
   "cell_type": "markdown",
   "metadata": {},
   "source": [
    "### Oder"
   ]
  },
  {
   "cell_type": "code",
   "execution_count": 15,
   "metadata": {},
   "outputs": [
    {
     "data": {
      "text/plain": [
       "date    datetime64[ns]\n",
       "IQ             float64\n",
       "dtype: object"
      ]
     },
     "execution_count": 15,
     "metadata": {},
     "output_type": "execute_result"
    }
   ],
   "source": [
    "df.dtypes"
   ]
  },
  {
   "cell_type": "code",
   "execution_count": 16,
   "metadata": {},
   "outputs": [],
   "source": [
    "df['date'] = pd.to_datetime(df['date'],utc=True)"
   ]
  },
  {
   "cell_type": "code",
   "execution_count": 17,
   "metadata": {},
   "outputs": [],
   "source": [
    "df = df.sort_values(by=['date'])"
   ]
  },
  {
   "cell_type": "markdown",
   "metadata": {},
   "source": [
    "### Save dataset"
   ]
  },
  {
   "cell_type": "code",
   "execution_count": 18,
   "metadata": {},
   "outputs": [],
   "source": [
    "df.to_csv(\"HistoricDataset/iqComplete/completeIQDataset.csv\", index=False,sep=';')"
   ]
  }
 ],
 "metadata": {
  "kernelspec": {
   "display_name": "Python 3",
   "language": "python",
   "name": "python3"
  },
  "language_info": {
   "codemirror_mode": {
    "name": "ipython",
    "version": 3
   },
   "file_extension": ".py",
   "mimetype": "text/x-python",
   "name": "python",
   "nbconvert_exporter": "python",
   "pygments_lexer": "ipython3",
   "version": "3.7.5"
  }
 },
 "nbformat": 4,
 "nbformat_minor": 2
}
