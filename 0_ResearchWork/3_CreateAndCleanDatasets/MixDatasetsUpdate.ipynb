{
 "cells": [
  {
   "cell_type": "markdown",
   "metadata": {},
   "source": [
    "# Mix datasets\n",
    "\n",
    "This script mix all our datasets together in a way to have everything we need in only one file."
   ]
  },
  {
   "cell_type": "code",
   "execution_count": 1,
   "metadata": {},
   "outputs": [],
   "source": [
    "import pandas as pd\n",
    "from datetime import datetime"
   ]
  },
  {
   "cell_type": "markdown",
   "metadata": {},
   "source": [
    "### Import datasets\n",
    "\n",
    "#### IQ :"
   ]
  },
  {
   "cell_type": "code",
   "execution_count": 2,
   "metadata": {},
   "outputs": [
    {
     "data": {
      "text/html": [
       "<div>\n",
       "<style scoped>\n",
       "    .dataframe tbody tr th:only-of-type {\n",
       "        vertical-align: middle;\n",
       "    }\n",
       "\n",
       "    .dataframe tbody tr th {\n",
       "        vertical-align: top;\n",
       "    }\n",
       "\n",
       "    .dataframe thead th {\n",
       "        text-align: right;\n",
       "    }\n",
       "</style>\n",
       "<table border=\"1\" class=\"dataframe\">\n",
       "  <thead>\n",
       "    <tr style=\"text-align: right;\">\n",
       "      <th></th>\n",
       "      <th>date</th>\n",
       "      <th>IQ</th>\n",
       "    </tr>\n",
       "  </thead>\n",
       "  <tbody>\n",
       "    <tr>\n",
       "      <th>0</th>\n",
       "      <td>2015-01-01 00:00:00+00:00</td>\n",
       "      <td>5.0</td>\n",
       "    </tr>\n",
       "    <tr>\n",
       "      <th>1</th>\n",
       "      <td>2015-01-02 00:00:00+00:00</td>\n",
       "      <td>3.0</td>\n",
       "    </tr>\n",
       "    <tr>\n",
       "      <th>2</th>\n",
       "      <td>2015-01-03 00:00:00+00:00</td>\n",
       "      <td>3.0</td>\n",
       "    </tr>\n",
       "    <tr>\n",
       "      <th>3</th>\n",
       "      <td>2015-01-04 00:00:00+00:00</td>\n",
       "      <td>5.0</td>\n",
       "    </tr>\n",
       "    <tr>\n",
       "      <th>4</th>\n",
       "      <td>2015-01-05 00:00:00+00:00</td>\n",
       "      <td>4.0</td>\n",
       "    </tr>\n",
       "  </tbody>\n",
       "</table>\n",
       "</div>"
      ],
      "text/plain": [
       "                       date   IQ\n",
       "0 2015-01-01 00:00:00+00:00  5.0\n",
       "1 2015-01-02 00:00:00+00:00  3.0\n",
       "2 2015-01-03 00:00:00+00:00  3.0\n",
       "3 2015-01-04 00:00:00+00:00  5.0\n",
       "4 2015-01-05 00:00:00+00:00  4.0"
      ]
     },
     "execution_count": 2,
     "metadata": {},
     "output_type": "execute_result"
    }
   ],
   "source": [
    "dfiq = pd.read_csv(\"HistoricDataset/iqComplete/completeIQDataset.csv\", header=0, delimiter=';')\n",
    "dfiq['date'] = pd.to_datetime(dfiq['date'],utc=True)\n",
    "dfiq.head()"
   ]
  },
  {
   "cell_type": "code",
   "execution_count": 3,
   "metadata": {},
   "outputs": [
    {
     "data": {
      "text/plain": [
       "date    datetime64[ns, UTC]\n",
       "IQ                  float64\n",
       "dtype: object"
      ]
     },
     "execution_count": 3,
     "metadata": {},
     "output_type": "execute_result"
    }
   ],
   "source": [
    "dfiq.dtypes"
   ]
  },
  {
   "cell_type": "code",
   "execution_count": 4,
   "metadata": {},
   "outputs": [
    {
     "data": {
      "text/plain": [
       "1909"
      ]
     },
     "execution_count": 4,
     "metadata": {},
     "output_type": "execute_result"
    }
   ],
   "source": [
    "len(dfiq)"
   ]
  },
  {
   "cell_type": "markdown",
   "metadata": {},
   "source": [
    "#### Synop : "
   ]
  },
  {
   "cell_type": "code",
   "execution_count": 5,
   "metadata": {},
   "outputs": [
    {
     "data": {
      "text/html": [
       "<div>\n",
       "<style scoped>\n",
       "    .dataframe tbody tr th:only-of-type {\n",
       "        vertical-align: middle;\n",
       "    }\n",
       "\n",
       "    .dataframe tbody tr th {\n",
       "        vertical-align: top;\n",
       "    }\n",
       "\n",
       "    .dataframe thead th {\n",
       "        text-align: right;\n",
       "    }\n",
       "</style>\n",
       "<table border=\"1\" class=\"dataframe\">\n",
       "  <thead>\n",
       "    <tr style=\"text-align: right;\">\n",
       "      <th></th>\n",
       "      <th>date</th>\n",
       "      <th>pressure</th>\n",
       "      <th>wind_direction</th>\n",
       "      <th>wind_force</th>\n",
       "      <th>humidity</th>\n",
       "      <th>temperature</th>\n",
       "    </tr>\n",
       "  </thead>\n",
       "  <tbody>\n",
       "    <tr>\n",
       "      <th>0</th>\n",
       "      <td>1996-01-01 00:00:00+00:00</td>\n",
       "      <td>99380</td>\n",
       "      <td>0</td>\n",
       "      <td>0.0</td>\n",
       "      <td>96</td>\n",
       "      <td>275.95</td>\n",
       "    </tr>\n",
       "    <tr>\n",
       "      <th>1</th>\n",
       "      <td>1996-01-01 03:00:00+00:00</td>\n",
       "      <td>99440</td>\n",
       "      <td>150</td>\n",
       "      <td>2.0</td>\n",
       "      <td>97</td>\n",
       "      <td>275.25</td>\n",
       "    </tr>\n",
       "    <tr>\n",
       "      <th>2</th>\n",
       "      <td>1996-01-01 06:00:00+00:00</td>\n",
       "      <td>99440</td>\n",
       "      <td>150</td>\n",
       "      <td>2.0</td>\n",
       "      <td>97</td>\n",
       "      <td>275.15</td>\n",
       "    </tr>\n",
       "    <tr>\n",
       "      <th>3</th>\n",
       "      <td>1996-01-01 09:00:00+00:00</td>\n",
       "      <td>99470</td>\n",
       "      <td>90</td>\n",
       "      <td>2.0</td>\n",
       "      <td>97</td>\n",
       "      <td>275.35</td>\n",
       "    </tr>\n",
       "    <tr>\n",
       "      <th>4</th>\n",
       "      <td>1996-01-01 12:00:00+00:00</td>\n",
       "      <td>99470</td>\n",
       "      <td>70</td>\n",
       "      <td>1.0</td>\n",
       "      <td>97</td>\n",
       "      <td>276.45</td>\n",
       "    </tr>\n",
       "  </tbody>\n",
       "</table>\n",
       "</div>"
      ],
      "text/plain": [
       "                       date  pressure  wind_direction  wind_force  humidity  \\\n",
       "0 1996-01-01 00:00:00+00:00     99380               0         0.0        96   \n",
       "1 1996-01-01 03:00:00+00:00     99440             150         2.0        97   \n",
       "2 1996-01-01 06:00:00+00:00     99440             150         2.0        97   \n",
       "3 1996-01-01 09:00:00+00:00     99470              90         2.0        97   \n",
       "4 1996-01-01 12:00:00+00:00     99470              70         1.0        97   \n",
       "\n",
       "   temperature  \n",
       "0       275.95  \n",
       "1       275.25  \n",
       "2       275.15  \n",
       "3       275.35  \n",
       "4       276.45  "
      ]
     },
     "execution_count": 5,
     "metadata": {},
     "output_type": "execute_result"
    }
   ],
   "source": [
    "dfsynop = pd.read_csv(\"HistoricDataset/synopComplete/completeSynopDataset.csv\", header=0, delimiter=';')\n",
    "dfsynop['date'] = pd.to_datetime(dfsynop['date'],utc=True)\n",
    "dfsynop.head()"
   ]
  },
  {
   "cell_type": "code",
   "execution_count": 6,
   "metadata": {},
   "outputs": [
    {
     "data": {
      "text/plain": [
       "date              datetime64[ns, UTC]\n",
       "pressure                        int64\n",
       "wind_direction                  int64\n",
       "wind_force                    float64\n",
       "humidity                        int64\n",
       "temperature                   float64\n",
       "dtype: object"
      ]
     },
     "execution_count": 6,
     "metadata": {},
     "output_type": "execute_result"
    }
   ],
   "source": [
    "dfsynop.dtypes"
   ]
  },
  {
   "cell_type": "code",
   "execution_count": 7,
   "metadata": {},
   "outputs": [
    {
     "data": {
      "text/plain": [
       "70381"
      ]
     },
     "execution_count": 7,
     "metadata": {},
     "output_type": "execute_result"
    }
   ],
   "source": [
    "len(dfsynop)"
   ]
  },
  {
   "cell_type": "markdown",
   "metadata": {},
   "source": [
    "#### Pollutants:"
   ]
  },
  {
   "cell_type": "code",
   "execution_count": 8,
   "metadata": {},
   "outputs": [
    {
     "data": {
      "text/html": [
       "<div>\n",
       "<style scoped>\n",
       "    .dataframe tbody tr th:only-of-type {\n",
       "        vertical-align: middle;\n",
       "    }\n",
       "\n",
       "    .dataframe tbody tr th {\n",
       "        vertical-align: top;\n",
       "    }\n",
       "\n",
       "    .dataframe thead th {\n",
       "        text-align: right;\n",
       "    }\n",
       "</style>\n",
       "<table border=\"1\" class=\"dataframe\">\n",
       "  <thead>\n",
       "    <tr style=\"text-align: right;\">\n",
       "      <th></th>\n",
       "      <th>date</th>\n",
       "      <th>NO2</th>\n",
       "      <th>O3</th>\n",
       "      <th>PM10</th>\n",
       "    </tr>\n",
       "  </thead>\n",
       "  <tbody>\n",
       "    <tr>\n",
       "      <th>0</th>\n",
       "      <td>2012-01-01 00:00:00+00:00</td>\n",
       "      <td>1.0</td>\n",
       "      <td>3.0</td>\n",
       "      <td>1.0</td>\n",
       "    </tr>\n",
       "    <tr>\n",
       "      <th>1</th>\n",
       "      <td>2012-01-02 00:00:00+00:00</td>\n",
       "      <td>3.0</td>\n",
       "      <td>2.0</td>\n",
       "      <td>8.0</td>\n",
       "    </tr>\n",
       "    <tr>\n",
       "      <th>2</th>\n",
       "      <td>2012-01-03 00:00:00+00:00</td>\n",
       "      <td>3.0</td>\n",
       "      <td>1.0</td>\n",
       "      <td>8.0</td>\n",
       "    </tr>\n",
       "    <tr>\n",
       "      <th>3</th>\n",
       "      <td>2012-01-04 00:00:00+00:00</td>\n",
       "      <td>2.0</td>\n",
       "      <td>3.0</td>\n",
       "      <td>4.0</td>\n",
       "    </tr>\n",
       "    <tr>\n",
       "      <th>4</th>\n",
       "      <td>2012-01-05 00:00:00+00:00</td>\n",
       "      <td>1.0</td>\n",
       "      <td>4.0</td>\n",
       "      <td>3.0</td>\n",
       "    </tr>\n",
       "  </tbody>\n",
       "</table>\n",
       "</div>"
      ],
      "text/plain": [
       "                       date  NO2   O3  PM10\n",
       "0 2012-01-01 00:00:00+00:00  1.0  3.0   1.0\n",
       "1 2012-01-02 00:00:00+00:00  3.0  2.0   8.0\n",
       "2 2012-01-03 00:00:00+00:00  3.0  1.0   8.0\n",
       "3 2012-01-04 00:00:00+00:00  2.0  3.0   4.0\n",
       "4 2012-01-05 00:00:00+00:00  1.0  4.0   3.0"
      ]
     },
     "execution_count": 8,
     "metadata": {},
     "output_type": "execute_result"
    }
   ],
   "source": [
    "dfp = pd.read_csv(\"HistoricDataset/PollDownload/ArchivePollMELClean.csv\", header=0, delimiter=';')\n",
    "dfp['date'] = pd.to_datetime(dfp['date'],utc=True)\n",
    "dfp.head()"
   ]
  },
  {
   "cell_type": "code",
   "execution_count": 9,
   "metadata": {},
   "outputs": [
    {
     "data": {
      "text/plain": [
       "date    datetime64[ns, UTC]\n",
       "NO2                 float64\n",
       "O3                  float64\n",
       "PM10                float64\n",
       "dtype: object"
      ]
     },
     "execution_count": 9,
     "metadata": {},
     "output_type": "execute_result"
    }
   ],
   "source": [
    "dfp.dtypes"
   ]
  },
  {
   "cell_type": "code",
   "execution_count": 10,
   "metadata": {},
   "outputs": [
    {
     "data": {
      "text/plain": [
       "3026"
      ]
     },
     "execution_count": 10,
     "metadata": {},
     "output_type": "execute_result"
    }
   ],
   "source": [
    "len(dfp)"
   ]
  },
  {
   "cell_type": "markdown",
   "metadata": {},
   "source": [
    "### Mix datasets\n",
    "\n",
    "We want to associate an IQ to each line depending on the day."
   ]
  },
  {
   "cell_type": "code",
   "execution_count": 11,
   "metadata": {},
   "outputs": [],
   "source": [
    "def getDay(row):\n",
    "    return(row[\"date\"].year,row[\"date\"].month,row[\"date\"].day)\n",
    "\n",
    "dfsynop[\"day\"] = dfsynop.apply(lambda row: getDay(row), axis=1)\n",
    "dfiq[\"day\"] = dfiq.apply(lambda row: getDay(row), axis=1)\n",
    "dfp[\"day\"] = dfiq.apply(lambda row: getDay(row), axis=1)\n",
    "dfp = dfp.drop(columns=\"date\")"
   ]
  },
  {
   "cell_type": "code",
   "execution_count": 12,
   "metadata": {},
   "outputs": [
    {
     "data": {
      "text/html": [
       "<div>\n",
       "<style scoped>\n",
       "    .dataframe tbody tr th:only-of-type {\n",
       "        vertical-align: middle;\n",
       "    }\n",
       "\n",
       "    .dataframe tbody tr th {\n",
       "        vertical-align: top;\n",
       "    }\n",
       "\n",
       "    .dataframe thead th {\n",
       "        text-align: right;\n",
       "    }\n",
       "</style>\n",
       "<table border=\"1\" class=\"dataframe\">\n",
       "  <thead>\n",
       "    <tr style=\"text-align: right;\">\n",
       "      <th></th>\n",
       "      <th>date_x</th>\n",
       "      <th>IQ</th>\n",
       "      <th>day</th>\n",
       "      <th>date_y</th>\n",
       "      <th>pressure</th>\n",
       "      <th>wind_direction</th>\n",
       "      <th>wind_force</th>\n",
       "      <th>humidity</th>\n",
       "      <th>temperature</th>\n",
       "      <th>NO2</th>\n",
       "      <th>O3</th>\n",
       "      <th>PM10</th>\n",
       "    </tr>\n",
       "  </thead>\n",
       "  <tbody>\n",
       "    <tr>\n",
       "      <th>0</th>\n",
       "      <td>2015-01-01 00:00:00+00:00</td>\n",
       "      <td>5.0</td>\n",
       "      <td>(2015, 1, 1)</td>\n",
       "      <td>2015-01-01 00:00:00+00:00</td>\n",
       "      <td>103030</td>\n",
       "      <td>170</td>\n",
       "      <td>2.4</td>\n",
       "      <td>100</td>\n",
       "      <td>272.85</td>\n",
       "      <td>1.0</td>\n",
       "      <td>3.0</td>\n",
       "      <td>1.0</td>\n",
       "    </tr>\n",
       "    <tr>\n",
       "      <th>1</th>\n",
       "      <td>2015-01-01 00:00:00+00:00</td>\n",
       "      <td>5.0</td>\n",
       "      <td>(2015, 1, 1)</td>\n",
       "      <td>2015-01-01 03:00:00+00:00</td>\n",
       "      <td>102920</td>\n",
       "      <td>160</td>\n",
       "      <td>3.5</td>\n",
       "      <td>95</td>\n",
       "      <td>272.75</td>\n",
       "      <td>1.0</td>\n",
       "      <td>3.0</td>\n",
       "      <td>1.0</td>\n",
       "    </tr>\n",
       "    <tr>\n",
       "      <th>2</th>\n",
       "      <td>2015-01-01 00:00:00+00:00</td>\n",
       "      <td>5.0</td>\n",
       "      <td>(2015, 1, 1)</td>\n",
       "      <td>2015-01-01 06:00:00+00:00</td>\n",
       "      <td>102990</td>\n",
       "      <td>170</td>\n",
       "      <td>3.4</td>\n",
       "      <td>94</td>\n",
       "      <td>272.65</td>\n",
       "      <td>1.0</td>\n",
       "      <td>3.0</td>\n",
       "      <td>1.0</td>\n",
       "    </tr>\n",
       "    <tr>\n",
       "      <th>3</th>\n",
       "      <td>2015-01-01 00:00:00+00:00</td>\n",
       "      <td>5.0</td>\n",
       "      <td>(2015, 1, 1)</td>\n",
       "      <td>2015-01-01 09:00:00+00:00</td>\n",
       "      <td>103010</td>\n",
       "      <td>190</td>\n",
       "      <td>4.7</td>\n",
       "      <td>85</td>\n",
       "      <td>274.35</td>\n",
       "      <td>1.0</td>\n",
       "      <td>3.0</td>\n",
       "      <td>1.0</td>\n",
       "    </tr>\n",
       "    <tr>\n",
       "      <th>4</th>\n",
       "      <td>2015-01-01 00:00:00+00:00</td>\n",
       "      <td>5.0</td>\n",
       "      <td>(2015, 1, 1)</td>\n",
       "      <td>2015-01-01 12:00:00+00:00</td>\n",
       "      <td>102820</td>\n",
       "      <td>190</td>\n",
       "      <td>6.4</td>\n",
       "      <td>72</td>\n",
       "      <td>277.25</td>\n",
       "      <td>1.0</td>\n",
       "      <td>3.0</td>\n",
       "      <td>1.0</td>\n",
       "    </tr>\n",
       "  </tbody>\n",
       "</table>\n",
       "</div>"
      ],
      "text/plain": [
       "                     date_x   IQ           day                    date_y  \\\n",
       "0 2015-01-01 00:00:00+00:00  5.0  (2015, 1, 1) 2015-01-01 00:00:00+00:00   \n",
       "1 2015-01-01 00:00:00+00:00  5.0  (2015, 1, 1) 2015-01-01 03:00:00+00:00   \n",
       "2 2015-01-01 00:00:00+00:00  5.0  (2015, 1, 1) 2015-01-01 06:00:00+00:00   \n",
       "3 2015-01-01 00:00:00+00:00  5.0  (2015, 1, 1) 2015-01-01 09:00:00+00:00   \n",
       "4 2015-01-01 00:00:00+00:00  5.0  (2015, 1, 1) 2015-01-01 12:00:00+00:00   \n",
       "\n",
       "   pressure  wind_direction  wind_force  humidity  temperature  NO2   O3  PM10  \n",
       "0    103030             170         2.4       100       272.85  1.0  3.0   1.0  \n",
       "1    102920             160         3.5        95       272.75  1.0  3.0   1.0  \n",
       "2    102990             170         3.4        94       272.65  1.0  3.0   1.0  \n",
       "3    103010             190         4.7        85       274.35  1.0  3.0   1.0  \n",
       "4    102820             190         6.4        72       277.25  1.0  3.0   1.0  "
      ]
     },
     "execution_count": 12,
     "metadata": {},
     "output_type": "execute_result"
    }
   ],
   "source": [
    "dfMerged = pd.merge(dfiq, dfsynop, how='inner', on=\"day\")\n",
    "dfMerged = pd.merge(dfMerged,dfp, how='inner', on=\"day\")\n",
    "dfMerged.head()"
   ]
  },
  {
   "cell_type": "code",
   "execution_count": 13,
   "metadata": {},
   "outputs": [
    {
     "data": {
      "text/html": [
       "<div>\n",
       "<style scoped>\n",
       "    .dataframe tbody tr th:only-of-type {\n",
       "        vertical-align: middle;\n",
       "    }\n",
       "\n",
       "    .dataframe tbody tr th {\n",
       "        vertical-align: top;\n",
       "    }\n",
       "\n",
       "    .dataframe thead th {\n",
       "        text-align: right;\n",
       "    }\n",
       "</style>\n",
       "<table border=\"1\" class=\"dataframe\">\n",
       "  <thead>\n",
       "    <tr style=\"text-align: right;\">\n",
       "      <th></th>\n",
       "      <th>IQ</th>\n",
       "      <th>date</th>\n",
       "      <th>pressure</th>\n",
       "      <th>wind_direction</th>\n",
       "      <th>wind_force</th>\n",
       "      <th>humidity</th>\n",
       "      <th>temperature</th>\n",
       "      <th>NO2</th>\n",
       "      <th>O3</th>\n",
       "      <th>PM10</th>\n",
       "    </tr>\n",
       "  </thead>\n",
       "  <tbody>\n",
       "    <tr>\n",
       "      <th>0</th>\n",
       "      <td>5.0</td>\n",
       "      <td>2015-01-01 00:00:00+00:00</td>\n",
       "      <td>103030</td>\n",
       "      <td>170</td>\n",
       "      <td>2.4</td>\n",
       "      <td>100</td>\n",
       "      <td>272.85</td>\n",
       "      <td>1.0</td>\n",
       "      <td>3.0</td>\n",
       "      <td>1.0</td>\n",
       "    </tr>\n",
       "    <tr>\n",
       "      <th>1</th>\n",
       "      <td>5.0</td>\n",
       "      <td>2015-01-01 03:00:00+00:00</td>\n",
       "      <td>102920</td>\n",
       "      <td>160</td>\n",
       "      <td>3.5</td>\n",
       "      <td>95</td>\n",
       "      <td>272.75</td>\n",
       "      <td>1.0</td>\n",
       "      <td>3.0</td>\n",
       "      <td>1.0</td>\n",
       "    </tr>\n",
       "    <tr>\n",
       "      <th>2</th>\n",
       "      <td>5.0</td>\n",
       "      <td>2015-01-01 06:00:00+00:00</td>\n",
       "      <td>102990</td>\n",
       "      <td>170</td>\n",
       "      <td>3.4</td>\n",
       "      <td>94</td>\n",
       "      <td>272.65</td>\n",
       "      <td>1.0</td>\n",
       "      <td>3.0</td>\n",
       "      <td>1.0</td>\n",
       "    </tr>\n",
       "    <tr>\n",
       "      <th>3</th>\n",
       "      <td>5.0</td>\n",
       "      <td>2015-01-01 09:00:00+00:00</td>\n",
       "      <td>103010</td>\n",
       "      <td>190</td>\n",
       "      <td>4.7</td>\n",
       "      <td>85</td>\n",
       "      <td>274.35</td>\n",
       "      <td>1.0</td>\n",
       "      <td>3.0</td>\n",
       "      <td>1.0</td>\n",
       "    </tr>\n",
       "    <tr>\n",
       "      <th>4</th>\n",
       "      <td>5.0</td>\n",
       "      <td>2015-01-01 12:00:00+00:00</td>\n",
       "      <td>102820</td>\n",
       "      <td>190</td>\n",
       "      <td>6.4</td>\n",
       "      <td>72</td>\n",
       "      <td>277.25</td>\n",
       "      <td>1.0</td>\n",
       "      <td>3.0</td>\n",
       "      <td>1.0</td>\n",
       "    </tr>\n",
       "  </tbody>\n",
       "</table>\n",
       "</div>"
      ],
      "text/plain": [
       "    IQ                      date  pressure  wind_direction  wind_force  \\\n",
       "0  5.0 2015-01-01 00:00:00+00:00    103030             170         2.4   \n",
       "1  5.0 2015-01-01 03:00:00+00:00    102920             160         3.5   \n",
       "2  5.0 2015-01-01 06:00:00+00:00    102990             170         3.4   \n",
       "3  5.0 2015-01-01 09:00:00+00:00    103010             190         4.7   \n",
       "4  5.0 2015-01-01 12:00:00+00:00    102820             190         6.4   \n",
       "\n",
       "   humidity  temperature  NO2   O3  PM10  \n",
       "0       100       272.85  1.0  3.0   1.0  \n",
       "1        95       272.75  1.0  3.0   1.0  \n",
       "2        94       272.65  1.0  3.0   1.0  \n",
       "3        85       274.35  1.0  3.0   1.0  \n",
       "4        72       277.25  1.0  3.0   1.0  "
      ]
     },
     "execution_count": 13,
     "metadata": {},
     "output_type": "execute_result"
    }
   ],
   "source": [
    "dfMerged = dfMerged.drop(columns=[\"date_x\",\"day\"])\n",
    "dfMerged = dfMerged.rename(columns={\"date_y\":\"date\"})\n",
    "dfMerged.head()"
   ]
  },
  {
   "cell_type": "code",
   "execution_count": 14,
   "metadata": {},
   "outputs": [],
   "source": [
    "dfMerged = dfMerged.drop_duplicates()"
   ]
  },
  {
   "cell_type": "code",
   "execution_count": 15,
   "metadata": {},
   "outputs": [
    {
     "data": {
      "text/plain": [
       "15058"
      ]
     },
     "execution_count": 15,
     "metadata": {},
     "output_type": "execute_result"
    }
   ],
   "source": [
    "len(dfMerged)"
   ]
  },
  {
   "cell_type": "markdown",
   "metadata": {},
   "source": [
    "### Save dataset"
   ]
  },
  {
   "cell_type": "code",
   "execution_count": 16,
   "metadata": {},
   "outputs": [],
   "source": [
    "dfMerged.to_csv(\"HistoricDataset/completeMixDataset/completeDatasetPol.csv\", index=False,sep=';')"
   ]
  }
 ],
 "metadata": {
  "kernelspec": {
   "display_name": "Python 3",
   "language": "python",
   "name": "python3"
  },
  "language_info": {
   "codemirror_mode": {
    "name": "ipython",
    "version": 3
   },
   "file_extension": ".py",
   "mimetype": "text/x-python",
   "name": "python",
   "nbconvert_exporter": "python",
   "pygments_lexer": "ipython3",
   "version": "3.7.5"
  }
 },
 "nbformat": 4,
 "nbformat_minor": 2
}
